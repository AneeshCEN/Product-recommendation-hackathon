{
 "cells": [
  {
   "cell_type": "markdown",
   "metadata": {
    "colab_type": "text",
    "id": "MTtDzf-VulQc"
   },
   "source": [
    "# Capillary ML Hackathon"
   ]
  },
  {
   "cell_type": "code",
   "execution_count": 0,
   "metadata": {
    "colab": {},
    "colab_type": "code",
    "id": "xfkzZp54yydQ"
   },
   "outputs": [],
   "source": [
    "import pandas as pd\n",
    "import numpy as np\n",
    "import matplotlib.pyplot as plt\n",
    "%matplotlib inline\n",
    "import seaborn as sns\n",
    "import cv2\n",
    "from PIL import Image as IMG\n",
    "np.random.seed(0)\n",
    "from tqdm import tqdm, tqdm_notebook\n",
    "tqdm.pandas()"
   ]
  },
  {
   "cell_type": "code",
   "execution_count": 0,
   "metadata": {
    "colab": {},
    "colab_type": "code",
    "id": "ylHXcujGAIs_"
   },
   "outputs": [],
   "source": [
    "from IPython.core.display import HTML \n",
    "from IPython.display import Image\n",
    "import gc"
   ]
  },
  {
   "cell_type": "code",
   "execution_count": 9,
   "metadata": {
    "colab": {
     "base_uri": "https://localhost:8080/",
     "height": 34
    },
    "colab_type": "code",
    "id": "qw25RfeWkSD-",
    "outputId": "f9969145-878f-43b6-dc7d-8135d8ff636a"
   },
   "outputs": [
    {
     "name": "stderr",
     "output_type": "stream",
     "text": [
      "Using TensorFlow backend.\n"
     ]
    }
   ],
   "source": [
    "from keras.applications.densenet import preprocess_input, DenseNet121\n",
    "from keras.models import Model\n",
    "from keras.layers import GlobalAveragePooling2D, Input, Lambda, AveragePooling1D\n",
    "import keras.backend as K"
   ]
  },
  {
   "cell_type": "code",
   "execution_count": 0,
   "metadata": {
    "colab": {},
    "colab_type": "code",
    "id": "lO2d_erJlVFk"
   },
   "outputs": [],
   "source": []
  },
  {
   "cell_type": "code",
   "execution_count": 0,
   "metadata": {
    "colab": {},
    "colab_type": "code",
    "id": "7t7m59UfzvyY"
   },
   "outputs": [],
   "source": [
    "# Evaluaion Function. Mean Average Precision @ k (MAP@k)\n",
    "def apk(actual, predicted, k=10):\n",
    "    \"\"\"\n",
    "    Computes the average precision at k.\n",
    "    This function computes the average prescision at k between two lists of\n",
    "    items.\n",
    "    Parameters\n",
    "    ----------\n",
    "    actual : list\n",
    "             A list of elements that are to be predicted (order doesn't matter)\n",
    "    predicted : list\n",
    "                A list of predicted elements (order does matter)\n",
    "    k : int, optional\n",
    "        The maximum number of predicted elements\n",
    "    Returns\n",
    "    -------\n",
    "    score : double\n",
    "            The average precision at k over the input lists\n",
    "    \"\"\"\n",
    "    \n",
    "    actual = list(actual)\n",
    "    predicted = list(predicted)\n",
    "    \n",
    "    if len(predicted)>k:\n",
    "        predicted = predicted[:k]\n",
    "\n",
    "    score = 0.0\n",
    "    num_hits = 0.0\n",
    "\n",
    "    for i,p in enumerate(predicted):\n",
    "        if p in actual and p not in predicted[:i]:\n",
    "            num_hits += 1.0\n",
    "            score += num_hits / (i+1.0)\n",
    "            \n",
    "    if not actual:\n",
    "        return 0.0\n",
    "\n",
    "    return score / min(len(actual), k)\n",
    "\n",
    "def mapk(actual, predicted, k=10):\n",
    "    \"\"\"\n",
    "    Computes the mean average precision at k.\n",
    "    This function computes the mean average prescision at k between two lists\n",
    "    of lists of items.\n",
    "    Parameters\n",
    "    ----------\n",
    "    actual : list\n",
    "             A list of lists of elements that are to be predicted \n",
    "             (order doesn't matter in the lists)\n",
    "    predicted : list\n",
    "                A list of lists of predicted elements\n",
    "                (order matters in the lists)\n",
    "    k : int, optional\n",
    "        The maximum number of predicted elements\n",
    "    Returns\n",
    "    -------\n",
    "    score : double\n",
    "            The mean average precision at k over the input lists\n",
    "    \"\"\"\n",
    "    return np.mean([apk(a,p,k) for a,p in zip(actual, predicted)])"
   ]
  },
  {
   "cell_type": "code",
   "execution_count": 0,
   "metadata": {
    "colab": {},
    "colab_type": "code",
    "id": "NsJJ2FSKPk1A"
   },
   "outputs": [],
   "source": [
    "def show_all(df, nrow=None, ncol=None):\n",
    "    with pd.option_context('display.max_rows', nrow, 'display.max_columns', ncol):\n",
    "        display(df)"
   ]
  },
  {
   "cell_type": "code",
   "execution_count": 0,
   "metadata": {
    "colab": {},
    "colab_type": "code",
    "id": "1UwTyuKNeYfI"
   },
   "outputs": [],
   "source": []
  },
  {
   "cell_type": "code",
   "execution_count": 12,
   "metadata": {
    "colab": {
     "base_uri": "https://localhost:8080/",
     "height": 34
    },
    "colab_type": "code",
    "id": "PpJE7EzEuoYa",
    "outputId": "5177d6a6-6b1b-468c-934d-7533dfe49a4f"
   },
   "outputs": [
    {
     "data": {
      "text/plain": [
       "['input', 'code', 'submissions']"
      ]
     },
     "execution_count": 12,
     "metadata": {
      "tags": []
     },
     "output_type": "execute_result"
    }
   ],
   "source": [
    "os.listdir('../')"
   ]
  },
  {
   "cell_type": "code",
   "execution_count": 13,
   "metadata": {
    "colab": {
     "base_uri": "https://localhost:8080/",
     "height": 102
    },
    "colab_type": "code",
    "id": "jXTKtcfmuuSv",
    "outputId": "13e0c4ce-8e23-4e16-db97-99b23a9da99d"
   },
   "outputs": [
    {
     "data": {
      "text/plain": [
       "['train.csv',\n",
       " 'images',\n",
       " 'product_attributes.csv',\n",
       " 'test.csv',\n",
       " 'sample_submission.csv']"
      ]
     },
     "execution_count": 13,
     "metadata": {
      "tags": []
     },
     "output_type": "execute_result"
    }
   ],
   "source": [
    "os.listdir('../input/')"
   ]
  },
  {
   "cell_type": "code",
   "execution_count": 0,
   "metadata": {
    "colab": {},
    "colab_type": "code",
    "id": "W_a86x65uwRj"
   },
   "outputs": [],
   "source": [
    "imgs_name = os.listdir('../input/images/')"
   ]
  },
  {
   "cell_type": "code",
   "execution_count": 15,
   "metadata": {
    "colab": {
     "base_uri": "https://localhost:8080/",
     "height": 34
    },
    "colab_type": "code",
    "id": "CrbGPl3hxuqX",
    "outputId": "44b8deac-94a7-4574-afdd-a1cec97fafef"
   },
   "outputs": [
    {
     "name": "stdout",
     "output_type": "stream",
     "text": [
      "3026  Images\n"
     ]
    }
   ],
   "source": [
    "print(len(imgs_name), ' Images')"
   ]
  },
  {
   "cell_type": "code",
   "execution_count": 0,
   "metadata": {
    "colab": {},
    "colab_type": "code",
    "id": "1IQsKjOUNwYI"
   },
   "outputs": [],
   "source": [
    "imgs_name_productid = []\n",
    "for i in imgs_name:\n",
    "  imgs_name_productid.append(int(i.split('.')[0]))"
   ]
  },
  {
   "cell_type": "code",
   "execution_count": 17,
   "metadata": {
    "colab": {
     "base_uri": "https://localhost:8080/",
     "height": 34
    },
    "colab_type": "code",
    "id": "lu-Rv2e5ObWC",
    "outputId": "51f29028-ca20-4a6d-f086-27760c7d0b39"
   },
   "outputs": [
    {
     "data": {
      "text/plain": [
       "3026"
      ]
     },
     "execution_count": 17,
     "metadata": {
      "tags": []
     },
     "output_type": "execute_result"
    }
   ],
   "source": [
    "len(imgs_name_productid)"
   ]
  },
  {
   "cell_type": "code",
   "execution_count": 0,
   "metadata": {
    "colab": {},
    "colab_type": "code",
    "id": "H197BRyRxv-X"
   },
   "outputs": [],
   "source": [
    "train_df = pd.read_csv('../input/train.csv')\n",
    "test_df = pd.read_csv('../input/test.csv')\n",
    "pa_df = pd.read_csv('../input/product_attributes.csv')\n",
    "sub_df = pd.read_csv('../input/sample_submission.csv')"
   ]
  },
  {
   "cell_type": "code",
   "execution_count": 0,
   "metadata": {
    "colab": {},
    "colab_type": "code",
    "id": "pJXZj8kgeQCq"
   },
   "outputs": [],
   "source": []
  },
  {
   "cell_type": "code",
   "execution_count": 52,
   "metadata": {
    "colab": {
     "base_uri": "https://localhost:8080/",
     "height": 204
    },
    "colab_type": "code",
    "id": "w025xraZ0Xxh",
    "outputId": "5817da16-d38c-4054-c43a-9a924fbcb99f"
   },
   "outputs": [
    {
     "data": {
      "text/html": [
       "<div>\n",
       "<style scoped>\n",
       "    .dataframe tbody tr th:only-of-type {\n",
       "        vertical-align: middle;\n",
       "    }\n",
       "\n",
       "    .dataframe tbody tr th {\n",
       "        vertical-align: top;\n",
       "    }\n",
       "\n",
       "    .dataframe thead th {\n",
       "        text-align: right;\n",
       "    }\n",
       "</style>\n",
       "<table border=\"1\" class=\"dataframe\">\n",
       "  <thead>\n",
       "    <tr style=\"text-align: right;\">\n",
       "      <th></th>\n",
       "      <th>UserId</th>\n",
       "      <th>productid</th>\n",
       "      <th>Quantity</th>\n",
       "      <th>OrderDate</th>\n",
       "    </tr>\n",
       "  </thead>\n",
       "  <tbody>\n",
       "    <tr>\n",
       "      <th>0</th>\n",
       "      <td>18075</td>\n",
       "      <td>12322648</td>\n",
       "      <td>1</td>\n",
       "      <td>01/04/18</td>\n",
       "    </tr>\n",
       "    <tr>\n",
       "      <th>1</th>\n",
       "      <td>6820</td>\n",
       "      <td>12371370</td>\n",
       "      <td>1</td>\n",
       "      <td>01/04/18</td>\n",
       "    </tr>\n",
       "    <tr>\n",
       "      <th>2</th>\n",
       "      <td>6820</td>\n",
       "      <td>12973004</td>\n",
       "      <td>1</td>\n",
       "      <td>01/04/18</td>\n",
       "    </tr>\n",
       "    <tr>\n",
       "      <th>3</th>\n",
       "      <td>6820</td>\n",
       "      <td>12657560</td>\n",
       "      <td>1</td>\n",
       "      <td>01/04/18</td>\n",
       "    </tr>\n",
       "    <tr>\n",
       "      <th>4</th>\n",
       "      <td>6820</td>\n",
       "      <td>11659914</td>\n",
       "      <td>1</td>\n",
       "      <td>01/04/18</td>\n",
       "    </tr>\n",
       "  </tbody>\n",
       "</table>\n",
       "</div>"
      ],
      "text/plain": [
       "   UserId  productid  Quantity OrderDate\n",
       "0   18075   12322648         1  01/04/18\n",
       "1    6820   12371370         1  01/04/18\n",
       "2    6820   12973004         1  01/04/18\n",
       "3    6820   12657560         1  01/04/18\n",
       "4    6820   11659914         1  01/04/18"
      ]
     },
     "execution_count": 52,
     "metadata": {
      "tags": []
     },
     "output_type": "execute_result"
    }
   ],
   "source": [
    "train_df.head()"
   ]
  },
  {
   "cell_type": "code",
   "execution_count": 53,
   "metadata": {
    "colab": {
     "base_uri": "https://localhost:8080/",
     "height": 34
    },
    "colab_type": "code",
    "id": "g9KEYwJU0X5i",
    "outputId": "be77be1f-224b-437a-f235-f4ba0b7c59b2"
   },
   "outputs": [
    {
     "name": "stdout",
     "output_type": "stream",
     "text": [
      "Shape of train data:  (132551, 4)\n"
     ]
    }
   ],
   "source": [
    "print(\"Shape of train data: \", train_df.shape)"
   ]
  },
  {
   "cell_type": "code",
   "execution_count": 54,
   "metadata": {
    "colab": {
     "base_uri": "https://localhost:8080/",
     "height": 102
    },
    "colab_type": "code",
    "id": "Ed5U-1EY0X_O",
    "outputId": "831267fe-eca5-4038-8a39-77d2c55a0427"
   },
   "outputs": [
    {
     "data": {
      "text/plain": [
       "UserId       0\n",
       "productid    0\n",
       "Quantity     0\n",
       "OrderDate    0\n",
       "dtype: int64"
      ]
     },
     "execution_count": 54,
     "metadata": {
      "tags": []
     },
     "output_type": "execute_result"
    }
   ],
   "source": [
    "train_df.isnull().sum()"
   ]
  },
  {
   "cell_type": "code",
   "execution_count": 0,
   "metadata": {
    "colab": {},
    "colab_type": "code",
    "id": "Ob1k7oxOeRgF"
   },
   "outputs": [],
   "source": []
  },
  {
   "cell_type": "code",
   "execution_count": 55,
   "metadata": {
    "colab": {
     "base_uri": "https://localhost:8080/",
     "height": 204
    },
    "colab_type": "code",
    "id": "5g_SeZeL0YC_",
    "outputId": "d4b72e42-4ab4-43a3-87b7-968c40599d2a"
   },
   "outputs": [
    {
     "data": {
      "text/html": [
       "<div>\n",
       "<style scoped>\n",
       "    .dataframe tbody tr th:only-of-type {\n",
       "        vertical-align: middle;\n",
       "    }\n",
       "\n",
       "    .dataframe tbody tr th {\n",
       "        vertical-align: top;\n",
       "    }\n",
       "\n",
       "    .dataframe thead th {\n",
       "        text-align: right;\n",
       "    }\n",
       "</style>\n",
       "<table border=\"1\" class=\"dataframe\">\n",
       "  <thead>\n",
       "    <tr style=\"text-align: right;\">\n",
       "      <th></th>\n",
       "      <th>UserId</th>\n",
       "    </tr>\n",
       "  </thead>\n",
       "  <tbody>\n",
       "    <tr>\n",
       "      <th>0</th>\n",
       "      <td>2</td>\n",
       "    </tr>\n",
       "    <tr>\n",
       "      <th>1</th>\n",
       "      <td>28</td>\n",
       "    </tr>\n",
       "    <tr>\n",
       "      <th>2</th>\n",
       "      <td>36</td>\n",
       "    </tr>\n",
       "    <tr>\n",
       "      <th>3</th>\n",
       "      <td>38</td>\n",
       "    </tr>\n",
       "    <tr>\n",
       "      <th>4</th>\n",
       "      <td>41</td>\n",
       "    </tr>\n",
       "  </tbody>\n",
       "</table>\n",
       "</div>"
      ],
      "text/plain": [
       "   UserId\n",
       "0       2\n",
       "1      28\n",
       "2      36\n",
       "3      38\n",
       "4      41"
      ]
     },
     "execution_count": 55,
     "metadata": {
      "tags": []
     },
     "output_type": "execute_result"
    }
   ],
   "source": [
    "test_df.head()"
   ]
  },
  {
   "cell_type": "code",
   "execution_count": 56,
   "metadata": {
    "colab": {
     "base_uri": "https://localhost:8080/",
     "height": 34
    },
    "colab_type": "code",
    "id": "aKNq_MHn0YG_",
    "outputId": "780decba-8e97-4ad3-c7ff-d0383fdaf72a"
   },
   "outputs": [
    {
     "name": "stdout",
     "output_type": "stream",
     "text": [
      "Shape of test data:  (2350, 1)\n"
     ]
    }
   ],
   "source": [
    "print(\"Shape of test data: \", test_df.shape)"
   ]
  },
  {
   "cell_type": "code",
   "execution_count": 0,
   "metadata": {
    "colab": {},
    "colab_type": "code",
    "id": "wv07NMvheUJR"
   },
   "outputs": [],
   "source": []
  },
  {
   "cell_type": "code",
   "execution_count": 57,
   "metadata": {
    "colab": {
     "base_uri": "https://localhost:8080/",
     "height": 204
    },
    "colab_type": "code",
    "id": "aGwnW6G60YKD",
    "outputId": "f19ab65b-2d1a-4aaa-b6a8-802a75785144"
   },
   "outputs": [
    {
     "data": {
      "text/html": [
       "<div>\n",
       "<style scoped>\n",
       "    .dataframe tbody tr th:only-of-type {\n",
       "        vertical-align: middle;\n",
       "    }\n",
       "\n",
       "    .dataframe tbody tr th {\n",
       "        vertical-align: top;\n",
       "    }\n",
       "\n",
       "    .dataframe thead th {\n",
       "        text-align: right;\n",
       "    }\n",
       "</style>\n",
       "<table border=\"1\" class=\"dataframe\">\n",
       "  <thead>\n",
       "    <tr style=\"text-align: right;\">\n",
       "      <th></th>\n",
       "      <th>productid</th>\n",
       "      <th>attribute_name</th>\n",
       "      <th>attributevalue</th>\n",
       "    </tr>\n",
       "  </thead>\n",
       "  <tbody>\n",
       "    <tr>\n",
       "      <th>0</th>\n",
       "      <td>11145600</td>\n",
       "      <td>Fit</td>\n",
       "      <td>37</td>\n",
       "    </tr>\n",
       "    <tr>\n",
       "      <th>1</th>\n",
       "      <td>11145600</td>\n",
       "      <td>Sleeve Length</td>\n",
       "      <td>23</td>\n",
       "    </tr>\n",
       "    <tr>\n",
       "      <th>2</th>\n",
       "      <td>11145600</td>\n",
       "      <td>Fabric</td>\n",
       "      <td>16</td>\n",
       "    </tr>\n",
       "    <tr>\n",
       "      <th>3</th>\n",
       "      <td>11145600</td>\n",
       "      <td>Color</td>\n",
       "      <td>25</td>\n",
       "    </tr>\n",
       "    <tr>\n",
       "      <th>4</th>\n",
       "      <td>11145600</td>\n",
       "      <td>Neckline</td>\n",
       "      <td>51</td>\n",
       "    </tr>\n",
       "  </tbody>\n",
       "</table>\n",
       "</div>"
      ],
      "text/plain": [
       "   productid attribute_name  attributevalue\n",
       "0   11145600            Fit              37\n",
       "1   11145600  Sleeve Length              23\n",
       "2   11145600         Fabric              16\n",
       "3   11145600          Color              25\n",
       "4   11145600       Neckline              51"
      ]
     },
     "execution_count": 57,
     "metadata": {
      "tags": []
     },
     "output_type": "execute_result"
    }
   ],
   "source": [
    "pa_df.head()"
   ]
  },
  {
   "cell_type": "code",
   "execution_count": 58,
   "metadata": {
    "colab": {
     "base_uri": "https://localhost:8080/",
     "height": 34
    },
    "colab_type": "code",
    "id": "5YxSXvX30YYh",
    "outputId": "c20b94ac-9df2-4fd5-db3c-916cd2cec999"
   },
   "outputs": [
    {
     "name": "stdout",
     "output_type": "stream",
     "text": [
      "Shape of Product attribute file:  (18750, 3)\n"
     ]
    }
   ],
   "source": [
    "print(\"Shape of Product attribute file: \", pa_df.shape)"
   ]
  },
  {
   "cell_type": "code",
   "execution_count": 59,
   "metadata": {
    "colab": {
     "base_uri": "https://localhost:8080/",
     "height": 85
    },
    "colab_type": "code",
    "id": "8CC_gPwt0YdZ",
    "outputId": "b48c2b68-dc66-4101-c191-d61a892098d4"
   },
   "outputs": [
    {
     "data": {
      "text/plain": [
       "productid         0\n",
       "attribute_name    0\n",
       "attributevalue    0\n",
       "dtype: int64"
      ]
     },
     "execution_count": 59,
     "metadata": {
      "tags": []
     },
     "output_type": "execute_result"
    }
   ],
   "source": [
    "pa_df.isnull().sum()"
   ]
  },
  {
   "cell_type": "code",
   "execution_count": 0,
   "metadata": {
    "colab": {},
    "colab_type": "code",
    "id": "7j9tLJ4C1RiS"
   },
   "outputs": [],
   "source": []
  },
  {
   "cell_type": "markdown",
   "metadata": {
    "colab_type": "text",
    "id": "ldiyWnxq4wGk"
   },
   "source": [
    "### Product attribute"
   ]
  },
  {
   "cell_type": "markdown",
   "metadata": {
    "colab_type": "text",
    "id": "YHSUYC3e3SkH"
   },
   "source": [
    "There are duplicate values for productid in product attribute file."
   ]
  },
  {
   "cell_type": "code",
   "execution_count": 60,
   "metadata": {
    "colab": {
     "base_uri": "https://localhost:8080/",
     "height": 34
    },
    "colab_type": "code",
    "id": "J5UtMl3o3abj",
    "outputId": "71f2b05b-c1d3-4ca2-bd34-cef9b48e5e52"
   },
   "outputs": [
    {
     "name": "stdout",
     "output_type": "stream",
     "text": [
      "3015  unique product ids in product attribute file (pa_df)\n"
     ]
    }
   ],
   "source": [
    "print(pa_df['productid'].nunique(), \" unique product ids in product attribute file (pa_df)\")"
   ]
  },
  {
   "cell_type": "code",
   "execution_count": 61,
   "metadata": {
    "colab": {
     "base_uri": "https://localhost:8080/",
     "height": 204
    },
    "colab_type": "code",
    "id": "A8OqY5V4VsCf",
    "outputId": "ceb27403-0ba2-49e3-d747-f361db1d3cde"
   },
   "outputs": [
    {
     "data": {
      "text/plain": [
       "{12947666,\n",
       " 12995896,\n",
       " 13017336,\n",
       " 13072176,\n",
       " 13072610,\n",
       " 13653544,\n",
       " 13773574,\n",
       " 14101712,\n",
       " 14122346,\n",
       " 14122348,\n",
       " 14129477}"
      ]
     },
     "execution_count": 61,
     "metadata": {
      "tags": []
     },
     "output_type": "execute_result"
    }
   ],
   "source": [
    "set(imgs_name_productid) - set(pa_df['productid'].unique())"
   ]
  },
  {
   "cell_type": "markdown",
   "metadata": {
    "colab_type": "text",
    "id": "z9yn0s-KVt8z"
   },
   "source": [
    "We have 1 images for each product id, and we have total 3026 images. That means in product attribute data we have 11 product ids less.\n",
    "\n",
    "For these above 11 product ids we don't have attribute features."
   ]
  },
  {
   "cell_type": "code",
   "execution_count": 62,
   "metadata": {
    "colab": {
     "base_uri": "https://localhost:8080/",
     "height": 34
    },
    "colab_type": "code",
    "id": "nv8nSNrA3krp",
    "outputId": "4c39431e-ac21-4a70-ebc7-33c6583b8547"
   },
   "outputs": [
    {
     "data": {
      "text/plain": [
       "(18750, 3)"
      ]
     },
     "execution_count": 62,
     "metadata": {
      "tags": []
     },
     "output_type": "execute_result"
    }
   ],
   "source": [
    "pa_df.drop_duplicates().shape"
   ]
  },
  {
   "cell_type": "markdown",
   "metadata": {
    "colab_type": "text",
    "id": "ww-6Pjtl4E_5"
   },
   "source": [
    "There are not any duplicate record in product attribute.\n",
    "\n",
    "Let's look at product id 11145600."
   ]
  },
  {
   "cell_type": "code",
   "execution_count": 63,
   "metadata": {
    "colab": {
     "base_uri": "https://localhost:8080/",
     "height": 266
    },
    "colab_type": "code",
    "id": "KCZR9R4O4PpJ",
    "outputId": "ff682705-7aa8-4a17-ac4e-3b83f4245762"
   },
   "outputs": [
    {
     "data": {
      "text/html": [
       "<div>\n",
       "<style scoped>\n",
       "    .dataframe tbody tr th:only-of-type {\n",
       "        vertical-align: middle;\n",
       "    }\n",
       "\n",
       "    .dataframe tbody tr th {\n",
       "        vertical-align: top;\n",
       "    }\n",
       "\n",
       "    .dataframe thead th {\n",
       "        text-align: right;\n",
       "    }\n",
       "</style>\n",
       "<table border=\"1\" class=\"dataframe\">\n",
       "  <thead>\n",
       "    <tr style=\"text-align: right;\">\n",
       "      <th></th>\n",
       "      <th>productid</th>\n",
       "      <th>attribute_name</th>\n",
       "      <th>attributevalue</th>\n",
       "    </tr>\n",
       "  </thead>\n",
       "  <tbody>\n",
       "    <tr>\n",
       "      <th>0</th>\n",
       "      <td>11145600</td>\n",
       "      <td>Fit</td>\n",
       "      <td>37</td>\n",
       "    </tr>\n",
       "    <tr>\n",
       "      <th>1</th>\n",
       "      <td>11145600</td>\n",
       "      <td>Sleeve Length</td>\n",
       "      <td>23</td>\n",
       "    </tr>\n",
       "    <tr>\n",
       "      <th>2</th>\n",
       "      <td>11145600</td>\n",
       "      <td>Fabric</td>\n",
       "      <td>16</td>\n",
       "    </tr>\n",
       "    <tr>\n",
       "      <th>3</th>\n",
       "      <td>11145600</td>\n",
       "      <td>Color</td>\n",
       "      <td>25</td>\n",
       "    </tr>\n",
       "    <tr>\n",
       "      <th>4</th>\n",
       "      <td>11145600</td>\n",
       "      <td>Neckline</td>\n",
       "      <td>51</td>\n",
       "    </tr>\n",
       "    <tr>\n",
       "      <th>547</th>\n",
       "      <td>11145600</td>\n",
       "      <td>Category</td>\n",
       "      <td>1</td>\n",
       "    </tr>\n",
       "    <tr>\n",
       "      <th>1213</th>\n",
       "      <td>11145600</td>\n",
       "      <td>Season</td>\n",
       "      <td>42</td>\n",
       "    </tr>\n",
       "  </tbody>\n",
       "</table>\n",
       "</div>"
      ],
      "text/plain": [
       "      productid attribute_name  attributevalue\n",
       "0      11145600            Fit              37\n",
       "1      11145600  Sleeve Length              23\n",
       "2      11145600         Fabric              16\n",
       "3      11145600          Color              25\n",
       "4      11145600       Neckline              51\n",
       "547    11145600       Category               1\n",
       "1213   11145600         Season              42"
      ]
     },
     "execution_count": 63,
     "metadata": {
      "tags": []
     },
     "output_type": "execute_result"
    }
   ],
   "source": [
    "pa_df[pa_df['productid'] == 11145600]"
   ]
  },
  {
   "cell_type": "code",
   "execution_count": 64,
   "metadata": {
    "colab": {
     "base_uri": "https://localhost:8080/",
     "height": 417
    },
    "colab_type": "code",
    "id": "boi4Se7R5jbk",
    "outputId": "2aeba33c-9271-4b87-ea58-bf95aad75825"
   },
   "outputs": [
    {
     "data": {
      "image/png": "[encoded data removed]",
      "text/plain": [
       "<PIL.Image.Image image mode=RGB size=300x400 at 0x7F79479CC198>"
      ]
     },
     "metadata": {
      "tags": []
     },
     "output_type": "display_data"
    }
   ],
   "source": [
    "display(IMG.open('../input/images/11145600.jpg').resize((300,400), IMG.ANTIALIAS))"
   ]
  },
  {
   "cell_type": "markdown",
   "metadata": {
    "colab_type": "text",
    "id": "IXjWBCVg46Jy"
   },
   "source": [
    "Check out attribute name"
   ]
  },
  {
   "cell_type": "code",
   "execution_count": 65,
   "metadata": {
    "colab": {
     "base_uri": "https://localhost:8080/",
     "height": 34
    },
    "colab_type": "code",
    "id": "uztUxEYj4YBb",
    "outputId": "90a1ab04-ab79-48c4-8f8c-1a7cc0ae1cfa"
   },
   "outputs": [
    {
     "name": "stdout",
     "output_type": "stream",
     "text": [
      "9  unique attribute names.\n"
     ]
    }
   ],
   "source": [
    "print(pa_df['attribute_name'].nunique(), \" unique attribute names.\")"
   ]
  },
  {
   "cell_type": "code",
   "execution_count": 66,
   "metadata": {
    "colab": {
     "base_uri": "https://localhost:8080/",
     "height": 367
    },
    "colab_type": "code",
    "id": "HURqWGAj5Hiw",
    "outputId": "f2932f63-ddd9-43c3-c519-a2dbf51b95a7"
   },
   "outputs": [
    {
     "name": "stderr",
     "output_type": "stream",
     "text": [
      "/usr/local/lib/python3.6/dist-packages/seaborn/categorical.py:1428: FutureWarning: remove_na is deprecated and is a private function. Do not use.\n",
      "  stat_data = remove_na(group_data)\n"
     ]
    },
    {
     "data": {
      "image/png": "[encoded data removed]",
      "text/plain": [
       "<Figure size 432x288 with 1 Axes>"
      ]
     },
     "metadata": {
      "tags": []
     },
     "output_type": "display_data"
    }
   ],
   "source": [
    "# Distribution of attribute name in product attribute data.\n",
    "sns.countplot(pa_df['attribute_name'])\n",
    "plt.xticks(rotation=70)\n",
    "plt.show()"
   ]
  },
  {
   "cell_type": "markdown",
   "metadata": {
    "colab_type": "text",
    "id": "nZFGOGf4CBaO"
   },
   "source": [
    "Let's look at anonymised attribute value "
   ]
  },
  {
   "cell_type": "code",
   "execution_count": 67,
   "metadata": {
    "colab": {
     "base_uri": "https://localhost:8080/",
     "height": 34
    },
    "colab_type": "code",
    "id": "9lb8tOG0CTDt",
    "outputId": "2f7a73f1-f45a-4abf-a367-c358d4fdc357"
   },
   "outputs": [
    {
     "data": {
      "text/plain": [
       "234"
      ]
     },
     "execution_count": 67,
     "metadata": {
      "tags": []
     },
     "output_type": "execute_result"
    }
   ],
   "source": [
    "pa_df['attributevalue'].nunique()"
   ]
  },
  {
   "cell_type": "markdown",
   "metadata": {
    "colab_type": "text",
    "id": "PpNy9_HhM5k3"
   },
   "source": [
    "Value of attributevalue ranges from 0 to 233.\n",
    "\n",
    "Maybe we can think of atribute value as a sub category of attribute name. So, we have total 234 type of values, which has 9 groups.\n",
    "\n",
    "For example, for attribute name 'Color' we have total 131 unique attribute values, so here we have 131 type of color available.\n",
    "\n",
    "Now for product shirt, it can have many colors, so if it has 2 colors, then we will have have 2 rows. \n",
    "\n",
    "shirt | Color | 0\n",
    "\n",
    "shirt | Color | 2\n",
    "\n",
    "Here shirt can also have other attributes."
   ]
  },
  {
   "cell_type": "code",
   "execution_count": 68,
   "metadata": {
    "colab": {
     "base_uri": "https://localhost:8080/",
     "height": 68
    },
    "colab_type": "code",
    "id": "OqvgiSFJSa9G",
    "outputId": "448a2488-f503-42f7-a972-6741265f8b41"
   },
   "outputs": [
    {
     "data": {
      "text/plain": [
       "attributevalue\n",
       "25    2\n",
       "Name: attribute_name, dtype: int64"
      ]
     },
     "execution_count": 68,
     "metadata": {
      "tags": []
     },
     "output_type": "execute_result"
    }
   ],
   "source": [
    "pa_df[['attribute_name', 'attributevalue']].groupby(['attributevalue'])['attribute_name'].nunique()[pa_df[['attribute_name', 'attributevalue']].groupby(['attributevalue'])['attribute_name'].nunique() !=1]"
   ]
  },
  {
   "cell_type": "markdown",
   "metadata": {
    "colab_type": "text",
    "id": "pF2k8TG_S18T"
   },
   "source": [
    "It seems like attribute value 2 is connected to 2 attribute names. "
   ]
  },
  {
   "cell_type": "code",
   "execution_count": 69,
   "metadata": {
    "colab": {
     "base_uri": "https://localhost:8080/",
     "height": 34
    },
    "colab_type": "code",
    "id": "bwTGb5LAO5rM",
    "outputId": "9eaebd9a-23d6-4f8f-d0cc-fc491ee01ef9"
   },
   "outputs": [
    {
     "data": {
      "text/plain": [
       "235"
      ]
     },
     "execution_count": 69,
     "metadata": {
      "tags": []
     },
     "output_type": "execute_result"
    }
   ],
   "source": [
    "pa_df[['attribute_name', 'attributevalue']].groupby(['attribute_name'])['attributevalue'].nunique().sum()"
   ]
  },
  {
   "cell_type": "markdown",
   "metadata": {
    "colab_type": "text",
    "id": "X-6imtakTG6n"
   },
   "source": [
    "This shows that one attributevalue is related to 2 attribute names."
   ]
  },
  {
   "cell_type": "code",
   "execution_count": 70,
   "metadata": {
    "colab": {
     "base_uri": "https://localhost:8080/",
     "height": 34
    },
    "colab_type": "code",
    "id": "f7huTFWrTPPX",
    "outputId": "3dac19c6-4c37-4bb6-a9e5-6ec15eb024fc"
   },
   "outputs": [
    {
     "data": {
      "text/plain": [
       "array(['Color', 'Collection'], dtype=object)"
      ]
     },
     "execution_count": 70,
     "metadata": {
      "tags": []
     },
     "output_type": "execute_result"
    }
   ],
   "source": [
    "pa_df[pa_df['attributevalue'] == 25]['attribute_name'].unique()"
   ]
  },
  {
   "cell_type": "markdown",
   "metadata": {
    "colab_type": "text",
    "id": "QHN_AHF8W96P"
   },
   "source": [
    "attribute value 25 is related to 'Color' & 'Collection' attribute names."
   ]
  },
  {
   "cell_type": "code",
   "execution_count": 71,
   "metadata": {
    "colab": {
     "base_uri": "https://localhost:8080/",
     "height": 204
    },
    "colab_type": "code",
    "id": "wtVqYRPdQ7gB",
    "outputId": "c8e3a719-cc7a-43ec-f559-d90ed134beac"
   },
   "outputs": [
    {
     "data": {
      "text/plain": [
       "attribute_name\n",
       "Category           5\n",
       "Collection        21\n",
       "Color            131\n",
       "Fabric            33\n",
       "Fit                6\n",
       "Material           4\n",
       "Neckline          12\n",
       "Season             8\n",
       "Sleeve Length     15\n",
       "Name: attributevalue, dtype: int64"
      ]
     },
     "execution_count": 71,
     "metadata": {
      "tags": []
     },
     "output_type": "execute_result"
    }
   ],
   "source": [
    "pa_df[['attribute_name', 'attributevalue']].groupby(['attribute_name'])['attributevalue'].nunique()"
   ]
  },
  {
   "cell_type": "markdown",
   "metadata": {
    "colab_type": "text",
    "id": "T-9nyK0aXN_3"
   },
   "source": [
    "We are going to make one hot encode features for both attribute value and attribute name for each product id. Total 243 features.\n",
    "\n",
    "So, if product id has multiple attribute name, then we are going to put 1 in corresponding one hot position."
   ]
  },
  {
   "cell_type": "code",
   "execution_count": 0,
   "metadata": {
    "colab": {},
    "colab_type": "code",
    "id": "ytLZLZW5bmQn"
   },
   "outputs": [],
   "source": [
    "pa_df['attributevalue'] = pa_df['attributevalue'].astype('category')"
   ]
  },
  {
   "cell_type": "code",
   "execution_count": 0,
   "metadata": {
    "colab": {},
    "colab_type": "code",
    "id": "3RmjDkdGcvnH"
   },
   "outputs": [],
   "source": [
    "pa_df = pd.concat([pa_df, pd.get_dummies(pa_df[['attribute_name', 'attributevalue']])], axis=1).drop(['attribute_name', 'attributevalue'], axis=1)"
   ]
  },
  {
   "cell_type": "markdown",
   "metadata": {
    "colab_type": "text",
    "id": "h0iph02Udvxf"
   },
   "source": [
    "now we are going to group by product id and do sum over other columns. \n",
    "\n",
    "At last we will have one hot enoded multilable features for each product."
   ]
  },
  {
   "cell_type": "code",
   "execution_count": 0,
   "metadata": {
    "colab": {},
    "colab_type": "code",
    "id": "4lpTLeYDbmJM"
   },
   "outputs": [],
   "source": [
    "pa_df = pa_df.groupby(['productid']).sum() "
   ]
  },
  {
   "cell_type": "code",
   "execution_count": 100,
   "metadata": {
    "colab": {
     "base_uri": "https://localhost:8080/",
     "height": 34
    },
    "colab_type": "code",
    "id": "MuV7u5HDbmNE",
    "outputId": "07cb6028-d0c9-49f1-83d9-5f2a67513839"
   },
   "outputs": [
    {
     "data": {
      "text/plain": [
       "22"
      ]
     },
     "execution_count": 100,
     "metadata": {
      "tags": []
     },
     "output_type": "execute_result"
    }
   ],
   "source": [
    "(pa_df > 1).sum().sum()"
   ]
  },
  {
   "cell_type": "code",
   "execution_count": 0,
   "metadata": {
    "colab": {},
    "colab_type": "code",
    "id": "8yTyOPYgbmBX"
   },
   "outputs": [],
   "source": [
    "pa_df = pa_df.clip_upper(1)"
   ]
  },
  {
   "cell_type": "code",
   "execution_count": 0,
   "metadata": {
    "colab": {},
    "colab_type": "code",
    "id": "ULKiPrFfhl-l"
   },
   "outputs": [],
   "source": [
    "pa_df.reset_index(inplace=True)"
   ]
  },
  {
   "cell_type": "code",
   "execution_count": 103,
   "metadata": {
    "colab": {
     "base_uri": "https://localhost:8080/",
     "height": 241
    },
    "colab_type": "code",
    "id": "Stte-yeAbmR7",
    "outputId": "0566e49f-63cd-4563-fab2-cc57fa1a2240"
   },
   "outputs": [
    {
     "data": {
      "text/html": [
       "<div>\n",
       "<style scoped>\n",
       "    .dataframe tbody tr th:only-of-type {\n",
       "        vertical-align: middle;\n",
       "    }\n",
       "\n",
       "    .dataframe tbody tr th {\n",
       "        vertical-align: top;\n",
       "    }\n",
       "\n",
       "    .dataframe thead th {\n",
       "        text-align: right;\n",
       "    }\n",
       "</style>\n",
       "<table border=\"1\" class=\"dataframe\">\n",
       "  <thead>\n",
       "    <tr style=\"text-align: right;\">\n",
       "      <th></th>\n",
       "      <th>productid</th>\n",
       "      <th>attribute_name_Category</th>\n",
       "      <th>attribute_name_Collection</th>\n",
       "      <th>attribute_name_Color</th>\n",
       "      <th>attribute_name_Fabric</th>\n",
       "      <th>attribute_name_Fit</th>\n",
       "      <th>attribute_name_Material</th>\n",
       "      <th>attribute_name_Neckline</th>\n",
       "      <th>attribute_name_Season</th>\n",
       "      <th>attribute_name_Sleeve Length</th>\n",
       "      <th>attributevalue_0</th>\n",
       "      <th>attributevalue_1</th>\n",
       "      <th>attributevalue_2</th>\n",
       "      <th>attributevalue_3</th>\n",
       "      <th>attributevalue_4</th>\n",
       "      <th>attributevalue_5</th>\n",
       "      <th>attributevalue_6</th>\n",
       "      <th>attributevalue_7</th>\n",
       "      <th>attributevalue_8</th>\n",
       "      <th>attributevalue_9</th>\n",
       "      <th>attributevalue_10</th>\n",
       "      <th>attributevalue_11</th>\n",
       "      <th>attributevalue_12</th>\n",
       "      <th>attributevalue_13</th>\n",
       "      <th>attributevalue_14</th>\n",
       "      <th>attributevalue_15</th>\n",
       "      <th>attributevalue_16</th>\n",
       "      <th>attributevalue_17</th>\n",
       "      <th>attributevalue_18</th>\n",
       "      <th>attributevalue_19</th>\n",
       "      <th>attributevalue_20</th>\n",
       "      <th>attributevalue_21</th>\n",
       "      <th>attributevalue_22</th>\n",
       "      <th>attributevalue_23</th>\n",
       "      <th>attributevalue_24</th>\n",
       "      <th>attributevalue_25</th>\n",
       "      <th>attributevalue_26</th>\n",
       "      <th>attributevalue_27</th>\n",
       "      <th>attributevalue_28</th>\n",
       "      <th>attributevalue_29</th>\n",
       "      <th>attributevalue_30</th>\n",
       "      <th>attributevalue_31</th>\n",
       "      <th>attributevalue_32</th>\n",
       "      <th>attributevalue_33</th>\n",
       "      <th>attributevalue_34</th>\n",
       "      <th>attributevalue_35</th>\n",
       "      <th>attributevalue_36</th>\n",
       "      <th>attributevalue_37</th>\n",
       "      <th>attributevalue_38</th>\n",
       "      <th>attributevalue_39</th>\n",
       "      <th>attributevalue_40</th>\n",
       "      <th>attributevalue_41</th>\n",
       "      <th>attributevalue_42</th>\n",
       "      <th>attributevalue_43</th>\n",
       "      <th>attributevalue_44</th>\n",
       "      <th>attributevalue_45</th>\n",
       "      <th>attributevalue_46</th>\n",
       "      <th>attributevalue_47</th>\n",
       "      <th>attributevalue_48</th>\n",
       "      <th>attributevalue_49</th>\n",
       "      <th>attributevalue_50</th>\n",
       "      <th>attributevalue_51</th>\n",
       "      <th>attributevalue_52</th>\n",
       "      <th>attributevalue_53</th>\n",
       "      <th>attributevalue_54</th>\n",
       "      <th>attributevalue_55</th>\n",
       "      <th>attributevalue_56</th>\n",
       "      <th>attributevalue_57</th>\n",
       "      <th>attributevalue_58</th>\n",
       "      <th>attributevalue_59</th>\n",
       "      <th>attributevalue_60</th>\n",
       "      <th>attributevalue_61</th>\n",
       "      <th>attributevalue_62</th>\n",
       "      <th>attributevalue_63</th>\n",
       "      <th>attributevalue_64</th>\n",
       "      <th>attributevalue_65</th>\n",
       "      <th>attributevalue_66</th>\n",
       "      <th>attributevalue_67</th>\n",
       "      <th>attributevalue_68</th>\n",
       "      <th>attributevalue_69</th>\n",
       "      <th>attributevalue_70</th>\n",
       "      <th>attributevalue_71</th>\n",
       "      <th>attributevalue_72</th>\n",
       "      <th>attributevalue_73</th>\n",
       "      <th>attributevalue_74</th>\n",
       "      <th>attributevalue_75</th>\n",
       "      <th>attributevalue_76</th>\n",
       "      <th>attributevalue_77</th>\n",
       "      <th>attributevalue_78</th>\n",
       "      <th>attributevalue_79</th>\n",
       "      <th>attributevalue_80</th>\n",
       "      <th>attributevalue_81</th>\n",
       "      <th>attributevalue_82</th>\n",
       "      <th>attributevalue_83</th>\n",
       "      <th>attributevalue_84</th>\n",
       "      <th>attributevalue_85</th>\n",
       "      <th>attributevalue_86</th>\n",
       "      <th>attributevalue_87</th>\n",
       "      <th>attributevalue_88</th>\n",
       "      <th>attributevalue_89</th>\n",
       "      <th>attributevalue_90</th>\n",
       "      <th>attributevalue_91</th>\n",
       "      <th>attributevalue_92</th>\n",
       "      <th>attributevalue_93</th>\n",
       "      <th>attributevalue_94</th>\n",
       "      <th>attributevalue_95</th>\n",
       "      <th>attributevalue_96</th>\n",
       "      <th>attributevalue_97</th>\n",
       "      <th>attributevalue_98</th>\n",
       "      <th>attributevalue_99</th>\n",
       "      <th>attributevalue_100</th>\n",
       "      <th>attributevalue_101</th>\n",
       "      <th>attributevalue_102</th>\n",
       "      <th>attributevalue_103</th>\n",
       "      <th>attributevalue_104</th>\n",
       "      <th>attributevalue_105</th>\n",
       "      <th>attributevalue_106</th>\n",
       "      <th>attributevalue_107</th>\n",
       "      <th>attributevalue_108</th>\n",
       "      <th>attributevalue_109</th>\n",
       "      <th>attributevalue_110</th>\n",
       "      <th>attributevalue_111</th>\n",
       "      <th>attributevalue_112</th>\n",
       "      <th>attributevalue_113</th>\n",
       "      <th>attributevalue_114</th>\n",
       "      <th>attributevalue_115</th>\n",
       "      <th>attributevalue_116</th>\n",
       "      <th>attributevalue_117</th>\n",
       "      <th>attributevalue_118</th>\n",
       "      <th>attributevalue_119</th>\n",
       "      <th>attributevalue_120</th>\n",
       "      <th>attributevalue_121</th>\n",
       "      <th>attributevalue_122</th>\n",
       "      <th>attributevalue_123</th>\n",
       "      <th>attributevalue_124</th>\n",
       "      <th>attributevalue_125</th>\n",
       "      <th>attributevalue_126</th>\n",
       "      <th>attributevalue_127</th>\n",
       "      <th>attributevalue_128</th>\n",
       "      <th>attributevalue_129</th>\n",
       "      <th>attributevalue_130</th>\n",
       "      <th>attributevalue_131</th>\n",
       "      <th>attributevalue_132</th>\n",
       "      <th>attributevalue_133</th>\n",
       "      <th>attributevalue_134</th>\n",
       "      <th>attributevalue_135</th>\n",
       "      <th>attributevalue_136</th>\n",
       "      <th>attributevalue_137</th>\n",
       "      <th>attributevalue_138</th>\n",
       "      <th>attributevalue_139</th>\n",
       "      <th>attributevalue_140</th>\n",
       "      <th>attributevalue_141</th>\n",
       "      <th>attributevalue_142</th>\n",
       "      <th>attributevalue_143</th>\n",
       "      <th>attributevalue_144</th>\n",
       "      <th>attributevalue_145</th>\n",
       "      <th>attributevalue_146</th>\n",
       "      <th>attributevalue_147</th>\n",
       "      <th>attributevalue_148</th>\n",
       "      <th>attributevalue_149</th>\n",
       "      <th>attributevalue_150</th>\n",
       "      <th>attributevalue_151</th>\n",
       "      <th>attributevalue_152</th>\n",
       "      <th>attributevalue_153</th>\n",
       "      <th>attributevalue_154</th>\n",
       "      <th>attributevalue_155</th>\n",
       "      <th>attributevalue_156</th>\n",
       "      <th>attributevalue_157</th>\n",
       "      <th>attributevalue_158</th>\n",
       "      <th>attributevalue_159</th>\n",
       "      <th>attributevalue_160</th>\n",
       "      <th>attributevalue_161</th>\n",
       "      <th>attributevalue_162</th>\n",
       "      <th>attributevalue_163</th>\n",
       "      <th>attributevalue_164</th>\n",
       "      <th>attributevalue_165</th>\n",
       "      <th>attributevalue_166</th>\n",
       "      <th>attributevalue_167</th>\n",
       "      <th>attributevalue_168</th>\n",
       "      <th>attributevalue_169</th>\n",
       "      <th>attributevalue_170</th>\n",
       "      <th>attributevalue_171</th>\n",
       "      <th>attributevalue_172</th>\n",
       "      <th>attributevalue_173</th>\n",
       "      <th>attributevalue_174</th>\n",
       "      <th>attributevalue_175</th>\n",
       "      <th>attributevalue_176</th>\n",
       "      <th>attributevalue_177</th>\n",
       "      <th>attributevalue_178</th>\n",
       "      <th>attributevalue_179</th>\n",
       "      <th>attributevalue_180</th>\n",
       "      <th>attributevalue_181</th>\n",
       "      <th>attributevalue_182</th>\n",
       "      <th>attributevalue_183</th>\n",
       "      <th>attributevalue_184</th>\n",
       "      <th>attributevalue_185</th>\n",
       "      <th>attributevalue_186</th>\n",
       "      <th>attributevalue_187</th>\n",
       "      <th>attributevalue_188</th>\n",
       "      <th>attributevalue_189</th>\n",
       "      <th>attributevalue_190</th>\n",
       "      <th>attributevalue_191</th>\n",
       "      <th>attributevalue_192</th>\n",
       "      <th>attributevalue_193</th>\n",
       "      <th>attributevalue_194</th>\n",
       "      <th>attributevalue_195</th>\n",
       "      <th>attributevalue_196</th>\n",
       "      <th>attributevalue_197</th>\n",
       "      <th>attributevalue_198</th>\n",
       "      <th>attributevalue_199</th>\n",
       "      <th>attributevalue_200</th>\n",
       "      <th>attributevalue_201</th>\n",
       "      <th>attributevalue_202</th>\n",
       "      <th>attributevalue_203</th>\n",
       "      <th>attributevalue_204</th>\n",
       "      <th>attributevalue_205</th>\n",
       "      <th>attributevalue_206</th>\n",
       "      <th>attributevalue_207</th>\n",
       "      <th>attributevalue_208</th>\n",
       "      <th>attributevalue_209</th>\n",
       "      <th>attributevalue_210</th>\n",
       "      <th>attributevalue_211</th>\n",
       "      <th>attributevalue_212</th>\n",
       "      <th>attributevalue_213</th>\n",
       "      <th>attributevalue_214</th>\n",
       "      <th>attributevalue_215</th>\n",
       "      <th>attributevalue_216</th>\n",
       "      <th>attributevalue_217</th>\n",
       "      <th>attributevalue_218</th>\n",
       "      <th>attributevalue_219</th>\n",
       "      <th>attributevalue_220</th>\n",
       "      <th>attributevalue_221</th>\n",
       "      <th>attributevalue_222</th>\n",
       "      <th>attributevalue_223</th>\n",
       "      <th>attributevalue_224</th>\n",
       "      <th>attributevalue_225</th>\n",
       "      <th>attributevalue_226</th>\n",
       "      <th>attributevalue_227</th>\n",
       "      <th>attributevalue_228</th>\n",
       "      <th>attributevalue_229</th>\n",
       "      <th>attributevalue_230</th>\n",
       "      <th>attributevalue_231</th>\n",
       "      <th>attributevalue_232</th>\n",
       "      <th>attributevalue_233</th>\n",
       "    </tr>\n",
       "  </thead>\n",
       "  <tbody>\n",
       "    <tr>\n",
       "      <th>0</th>\n",
       "      <td>11139192</td>\n",
       "      <td>1</td>\n",
       "      <td>0</td>\n",
       "      <td>1</td>\n",
       "      <td>1</td>\n",
       "      <td>1</td>\n",
       "      <td>0</td>\n",
       "      <td>0</td>\n",
       "      <td>1</td>\n",
       "      <td>0</td>\n",
       "      <td>1</td>\n",
       "      <td>1</td>\n",
       "      <td>1</td>\n",
       "      <td>0</td>\n",
       "      <td>0</td>\n",
       "      <td>0</td>\n",
       "      <td>0</td>\n",
       "      <td>0</td>\n",
       "      <td>0</td>\n",
       "      <td>0</td>\n",
       "      <td>0</td>\n",
       "      <td>0</td>\n",
       "      <td>0</td>\n",
       "      <td>0</td>\n",
       "      <td>0</td>\n",
       "      <td>0</td>\n",
       "      <td>0</td>\n",
       "      <td>0</td>\n",
       "      <td>0</td>\n",
       "      <td>0</td>\n",
       "      <td>0</td>\n",
       "      <td>0</td>\n",
       "      <td>0</td>\n",
       "      <td>0</td>\n",
       "      <td>0</td>\n",
       "      <td>0</td>\n",
       "      <td>0</td>\n",
       "      <td>0</td>\n",
       "      <td>0</td>\n",
       "      <td>0</td>\n",
       "      <td>0</td>\n",
       "      <td>0</td>\n",
       "      <td>0</td>\n",
       "      <td>0</td>\n",
       "      <td>0</td>\n",
       "      <td>0</td>\n",
       "      <td>0</td>\n",
       "      <td>0</td>\n",
       "      <td>0</td>\n",
       "      <td>0</td>\n",
       "      <td>0</td>\n",
       "      <td>1</td>\n",
       "      <td>1</td>\n",
       "      <td>0</td>\n",
       "      <td>0</td>\n",
       "      <td>0</td>\n",
       "      <td>0</td>\n",
       "      <td>0</td>\n",
       "      <td>0</td>\n",
       "      <td>0</td>\n",
       "      <td>0</td>\n",
       "      <td>0</td>\n",
       "      <td>0</td>\n",
       "      <td>0</td>\n",
       "      <td>0</td>\n",
       "      <td>0</td>\n",
       "      <td>0</td>\n",
       "      <td>0</td>\n",
       "      <td>0</td>\n",
       "      <td>0</td>\n",
       "      <td>0</td>\n",
       "      <td>0</td>\n",
       "      <td>0</td>\n",
       "      <td>0</td>\n",
       "      <td>0</td>\n",
       "      <td>0</td>\n",
       "      <td>0</td>\n",
       "      <td>0</td>\n",
       "      <td>0</td>\n",
       "      <td>0</td>\n",
       "      <td>0</td>\n",
       "      <td>0</td>\n",
       "      <td>0</td>\n",
       "      <td>0</td>\n",
       "      <td>0</td>\n",
       "      <td>0</td>\n",
       "      <td>0</td>\n",
       "      <td>0</td>\n",
       "      <td>0</td>\n",
       "      <td>0</td>\n",
       "      <td>0</td>\n",
       "      <td>0</td>\n",
       "      <td>0</td>\n",
       "      <td>0</td>\n",
       "      <td>0</td>\n",
       "      <td>0</td>\n",
       "      <td>0</td>\n",
       "      <td>0</td>\n",
       "      <td>0</td>\n",
       "      <td>0</td>\n",
       "      <td>0</td>\n",
       "      <td>0</td>\n",
       "      <td>0</td>\n",
       "      <td>0</td>\n",
       "      <td>0</td>\n",
       "      <td>0</td>\n",
       "      <td>0</td>\n",
       "      <td>0</td>\n",
       "      <td>0</td>\n",
       "      <td>0</td>\n",
       "      <td>0</td>\n",
       "      <td>0</td>\n",
       "      <td>0</td>\n",
       "      <td>0</td>\n",
       "      <td>0</td>\n",
       "      <td>0</td>\n",
       "      <td>0</td>\n",
       "      <td>0</td>\n",
       "      <td>0</td>\n",
       "      <td>0</td>\n",
       "      <td>0</td>\n",
       "      <td>0</td>\n",
       "      <td>0</td>\n",
       "      <td>0</td>\n",
       "      <td>0</td>\n",
       "      <td>0</td>\n",
       "      <td>0</td>\n",
       "      <td>0</td>\n",
       "      <td>0</td>\n",
       "      <td>0</td>\n",
       "      <td>0</td>\n",
       "      <td>0</td>\n",
       "      <td>0</td>\n",
       "      <td>0</td>\n",
       "      <td>0</td>\n",
       "      <td>0</td>\n",
       "      <td>0</td>\n",
       "      <td>0</td>\n",
       "      <td>0</td>\n",
       "      <td>0</td>\n",
       "      <td>0</td>\n",
       "      <td>0</td>\n",
       "      <td>0</td>\n",
       "      <td>0</td>\n",
       "      <td>0</td>\n",
       "      <td>0</td>\n",
       "      <td>0</td>\n",
       "      <td>0</td>\n",
       "      <td>0</td>\n",
       "      <td>0</td>\n",
       "      <td>0</td>\n",
       "      <td>0</td>\n",
       "      <td>0</td>\n",
       "      <td>0</td>\n",
       "      <td>0</td>\n",
       "      <td>0</td>\n",
       "      <td>0</td>\n",
       "      <td>0</td>\n",
       "      <td>0</td>\n",
       "      <td>0</td>\n",
       "      <td>0</td>\n",
       "      <td>0</td>\n",
       "      <td>0</td>\n",
       "      <td>0</td>\n",
       "      <td>0</td>\n",
       "      <td>0</td>\n",
       "      <td>0</td>\n",
       "      <td>0</td>\n",
       "      <td>0</td>\n",
       "      <td>0</td>\n",
       "      <td>0</td>\n",
       "      <td>0</td>\n",
       "      <td>0</td>\n",
       "      <td>0</td>\n",
       "      <td>0</td>\n",
       "      <td>0</td>\n",
       "      <td>0</td>\n",
       "      <td>0</td>\n",
       "      <td>0</td>\n",
       "      <td>0</td>\n",
       "      <td>0</td>\n",
       "      <td>0</td>\n",
       "      <td>0</td>\n",
       "      <td>0</td>\n",
       "      <td>0</td>\n",
       "      <td>0</td>\n",
       "      <td>0</td>\n",
       "      <td>0</td>\n",
       "      <td>0</td>\n",
       "      <td>0</td>\n",
       "      <td>0</td>\n",
       "      <td>0</td>\n",
       "      <td>0</td>\n",
       "      <td>0</td>\n",
       "      <td>0</td>\n",
       "      <td>0</td>\n",
       "      <td>0</td>\n",
       "      <td>0</td>\n",
       "      <td>0</td>\n",
       "      <td>0</td>\n",
       "      <td>0</td>\n",
       "      <td>0</td>\n",
       "      <td>0</td>\n",
       "      <td>0</td>\n",
       "      <td>0</td>\n",
       "      <td>0</td>\n",
       "      <td>0</td>\n",
       "      <td>0</td>\n",
       "      <td>0</td>\n",
       "      <td>0</td>\n",
       "      <td>0</td>\n",
       "      <td>0</td>\n",
       "      <td>0</td>\n",
       "      <td>0</td>\n",
       "      <td>0</td>\n",
       "      <td>0</td>\n",
       "      <td>0</td>\n",
       "      <td>0</td>\n",
       "      <td>0</td>\n",
       "      <td>0</td>\n",
       "      <td>0</td>\n",
       "      <td>0</td>\n",
       "      <td>0</td>\n",
       "      <td>0</td>\n",
       "      <td>0</td>\n",
       "      <td>0</td>\n",
       "      <td>0</td>\n",
       "      <td>0</td>\n",
       "      <td>0</td>\n",
       "      <td>0</td>\n",
       "      <td>0</td>\n",
       "      <td>0</td>\n",
       "      <td>0</td>\n",
       "      <td>0</td>\n",
       "      <td>0</td>\n",
       "      <td>0</td>\n",
       "      <td>0</td>\n",
       "      <td>0</td>\n",
       "      <td>0</td>\n",
       "      <td>0</td>\n",
       "      <td>0</td>\n",
       "      <td>0</td>\n",
       "      <td>0</td>\n",
       "      <td>0</td>\n",
       "    </tr>\n",
       "    <tr>\n",
       "      <th>1</th>\n",
       "      <td>11139194</td>\n",
       "      <td>1</td>\n",
       "      <td>0</td>\n",
       "      <td>1</td>\n",
       "      <td>1</td>\n",
       "      <td>1</td>\n",
       "      <td>0</td>\n",
       "      <td>0</td>\n",
       "      <td>1</td>\n",
       "      <td>0</td>\n",
       "      <td>1</td>\n",
       "      <td>1</td>\n",
       "      <td>1</td>\n",
       "      <td>0</td>\n",
       "      <td>0</td>\n",
       "      <td>0</td>\n",
       "      <td>0</td>\n",
       "      <td>0</td>\n",
       "      <td>0</td>\n",
       "      <td>0</td>\n",
       "      <td>0</td>\n",
       "      <td>0</td>\n",
       "      <td>0</td>\n",
       "      <td>0</td>\n",
       "      <td>0</td>\n",
       "      <td>0</td>\n",
       "      <td>0</td>\n",
       "      <td>0</td>\n",
       "      <td>0</td>\n",
       "      <td>0</td>\n",
       "      <td>0</td>\n",
       "      <td>0</td>\n",
       "      <td>0</td>\n",
       "      <td>0</td>\n",
       "      <td>0</td>\n",
       "      <td>1</td>\n",
       "      <td>0</td>\n",
       "      <td>0</td>\n",
       "      <td>0</td>\n",
       "      <td>0</td>\n",
       "      <td>0</td>\n",
       "      <td>0</td>\n",
       "      <td>0</td>\n",
       "      <td>0</td>\n",
       "      <td>0</td>\n",
       "      <td>0</td>\n",
       "      <td>0</td>\n",
       "      <td>0</td>\n",
       "      <td>0</td>\n",
       "      <td>0</td>\n",
       "      <td>0</td>\n",
       "      <td>0</td>\n",
       "      <td>1</td>\n",
       "      <td>0</td>\n",
       "      <td>0</td>\n",
       "      <td>0</td>\n",
       "      <td>0</td>\n",
       "      <td>0</td>\n",
       "      <td>0</td>\n",
       "      <td>0</td>\n",
       "      <td>0</td>\n",
       "      <td>0</td>\n",
       "      <td>0</td>\n",
       "      <td>0</td>\n",
       "      <td>0</td>\n",
       "      <td>0</td>\n",
       "      <td>0</td>\n",
       "      <td>0</td>\n",
       "      <td>0</td>\n",
       "      <td>0</td>\n",
       "      <td>0</td>\n",
       "      <td>0</td>\n",
       "      <td>0</td>\n",
       "      <td>0</td>\n",
       "      <td>0</td>\n",
       "      <td>0</td>\n",
       "      <td>0</td>\n",
       "      <td>0</td>\n",
       "      <td>0</td>\n",
       "      <td>0</td>\n",
       "      <td>0</td>\n",
       "      <td>0</td>\n",
       "      <td>0</td>\n",
       "      <td>0</td>\n",
       "      <td>0</td>\n",
       "      <td>0</td>\n",
       "      <td>0</td>\n",
       "      <td>0</td>\n",
       "      <td>0</td>\n",
       "      <td>0</td>\n",
       "      <td>0</td>\n",
       "      <td>0</td>\n",
       "      <td>0</td>\n",
       "      <td>0</td>\n",
       "      <td>0</td>\n",
       "      <td>0</td>\n",
       "      <td>0</td>\n",
       "      <td>0</td>\n",
       "      <td>0</td>\n",
       "      <td>0</td>\n",
       "      <td>0</td>\n",
       "      <td>0</td>\n",
       "      <td>0</td>\n",
       "      <td>0</td>\n",
       "      <td>0</td>\n",
       "      <td>0</td>\n",
       "      <td>0</td>\n",
       "      <td>0</td>\n",
       "      <td>0</td>\n",
       "      <td>0</td>\n",
       "      <td>0</td>\n",
       "      <td>0</td>\n",
       "      <td>0</td>\n",
       "      <td>0</td>\n",
       "      <td>0</td>\n",
       "      <td>0</td>\n",
       "      <td>0</td>\n",
       "      <td>0</td>\n",
       "      <td>0</td>\n",
       "      <td>0</td>\n",
       "      <td>0</td>\n",
       "      <td>0</td>\n",
       "      <td>0</td>\n",
       "      <td>0</td>\n",
       "      <td>0</td>\n",
       "      <td>0</td>\n",
       "      <td>0</td>\n",
       "      <td>0</td>\n",
       "      <td>0</td>\n",
       "      <td>0</td>\n",
       "      <td>0</td>\n",
       "      <td>0</td>\n",
       "      <td>0</td>\n",
       "      <td>0</td>\n",
       "      <td>0</td>\n",
       "      <td>0</td>\n",
       "      <td>0</td>\n",
       "      <td>0</td>\n",
       "      <td>0</td>\n",
       "      <td>0</td>\n",
       "      <td>0</td>\n",
       "      <td>0</td>\n",
       "      <td>0</td>\n",
       "      <td>0</td>\n",
       "      <td>0</td>\n",
       "      <td>0</td>\n",
       "      <td>0</td>\n",
       "      <td>0</td>\n",
       "      <td>0</td>\n",
       "      <td>0</td>\n",
       "      <td>0</td>\n",
       "      <td>0</td>\n",
       "      <td>0</td>\n",
       "      <td>0</td>\n",
       "      <td>0</td>\n",
       "      <td>0</td>\n",
       "      <td>0</td>\n",
       "      <td>0</td>\n",
       "      <td>0</td>\n",
       "      <td>0</td>\n",
       "      <td>0</td>\n",
       "      <td>0</td>\n",
       "      <td>0</td>\n",
       "      <td>0</td>\n",
       "      <td>0</td>\n",
       "      <td>0</td>\n",
       "      <td>0</td>\n",
       "      <td>0</td>\n",
       "      <td>0</td>\n",
       "      <td>0</td>\n",
       "      <td>0</td>\n",
       "      <td>0</td>\n",
       "      <td>0</td>\n",
       "      <td>0</td>\n",
       "      <td>0</td>\n",
       "      <td>0</td>\n",
       "      <td>0</td>\n",
       "      <td>0</td>\n",
       "      <td>0</td>\n",
       "      <td>0</td>\n",
       "      <td>0</td>\n",
       "      <td>0</td>\n",
       "      <td>0</td>\n",
       "      <td>0</td>\n",
       "      <td>0</td>\n",
       "      <td>0</td>\n",
       "      <td>0</td>\n",
       "      <td>0</td>\n",
       "      <td>0</td>\n",
       "      <td>0</td>\n",
       "      <td>0</td>\n",
       "      <td>0</td>\n",
       "      <td>0</td>\n",
       "      <td>0</td>\n",
       "      <td>0</td>\n",
       "      <td>0</td>\n",
       "      <td>0</td>\n",
       "      <td>0</td>\n",
       "      <td>0</td>\n",
       "      <td>0</td>\n",
       "      <td>0</td>\n",
       "      <td>0</td>\n",
       "      <td>0</td>\n",
       "      <td>0</td>\n",
       "      <td>0</td>\n",
       "      <td>0</td>\n",
       "      <td>0</td>\n",
       "      <td>0</td>\n",
       "      <td>0</td>\n",
       "      <td>0</td>\n",
       "      <td>0</td>\n",
       "      <td>0</td>\n",
       "      <td>0</td>\n",
       "      <td>0</td>\n",
       "      <td>0</td>\n",
       "      <td>0</td>\n",
       "      <td>0</td>\n",
       "      <td>0</td>\n",
       "      <td>0</td>\n",
       "      <td>0</td>\n",
       "      <td>0</td>\n",
       "      <td>0</td>\n",
       "      <td>0</td>\n",
       "      <td>0</td>\n",
       "      <td>0</td>\n",
       "      <td>0</td>\n",
       "      <td>0</td>\n",
       "      <td>0</td>\n",
       "      <td>0</td>\n",
       "      <td>0</td>\n",
       "      <td>0</td>\n",
       "      <td>0</td>\n",
       "      <td>0</td>\n",
       "      <td>0</td>\n",
       "      <td>0</td>\n",
       "      <td>0</td>\n",
       "      <td>0</td>\n",
       "      <td>0</td>\n",
       "      <td>0</td>\n",
       "      <td>0</td>\n",
       "      <td>0</td>\n",
       "      <td>0</td>\n",
       "      <td>0</td>\n",
       "      <td>0</td>\n",
       "    </tr>\n",
       "    <tr>\n",
       "      <th>2</th>\n",
       "      <td>11139524</td>\n",
       "      <td>1</td>\n",
       "      <td>0</td>\n",
       "      <td>1</td>\n",
       "      <td>1</td>\n",
       "      <td>1</td>\n",
       "      <td>0</td>\n",
       "      <td>1</td>\n",
       "      <td>1</td>\n",
       "      <td>1</td>\n",
       "      <td>0</td>\n",
       "      <td>1</td>\n",
       "      <td>0</td>\n",
       "      <td>0</td>\n",
       "      <td>1</td>\n",
       "      <td>0</td>\n",
       "      <td>0</td>\n",
       "      <td>0</td>\n",
       "      <td>0</td>\n",
       "      <td>0</td>\n",
       "      <td>0</td>\n",
       "      <td>0</td>\n",
       "      <td>0</td>\n",
       "      <td>0</td>\n",
       "      <td>1</td>\n",
       "      <td>0</td>\n",
       "      <td>1</td>\n",
       "      <td>0</td>\n",
       "      <td>0</td>\n",
       "      <td>0</td>\n",
       "      <td>0</td>\n",
       "      <td>0</td>\n",
       "      <td>0</td>\n",
       "      <td>1</td>\n",
       "      <td>0</td>\n",
       "      <td>0</td>\n",
       "      <td>0</td>\n",
       "      <td>0</td>\n",
       "      <td>0</td>\n",
       "      <td>0</td>\n",
       "      <td>0</td>\n",
       "      <td>0</td>\n",
       "      <td>0</td>\n",
       "      <td>0</td>\n",
       "      <td>0</td>\n",
       "      <td>0</td>\n",
       "      <td>0</td>\n",
       "      <td>0</td>\n",
       "      <td>0</td>\n",
       "      <td>0</td>\n",
       "      <td>0</td>\n",
       "      <td>0</td>\n",
       "      <td>1</td>\n",
       "      <td>0</td>\n",
       "      <td>0</td>\n",
       "      <td>0</td>\n",
       "      <td>0</td>\n",
       "      <td>0</td>\n",
       "      <td>0</td>\n",
       "      <td>0</td>\n",
       "      <td>0</td>\n",
       "      <td>0</td>\n",
       "      <td>0</td>\n",
       "      <td>0</td>\n",
       "      <td>0</td>\n",
       "      <td>0</td>\n",
       "      <td>0</td>\n",
       "      <td>0</td>\n",
       "      <td>0</td>\n",
       "      <td>0</td>\n",
       "      <td>0</td>\n",
       "      <td>0</td>\n",
       "      <td>0</td>\n",
       "      <td>0</td>\n",
       "      <td>0</td>\n",
       "      <td>0</td>\n",
       "      <td>0</td>\n",
       "      <td>0</td>\n",
       "      <td>0</td>\n",
       "      <td>0</td>\n",
       "      <td>0</td>\n",
       "      <td>0</td>\n",
       "      <td>0</td>\n",
       "      <td>0</td>\n",
       "      <td>0</td>\n",
       "      <td>0</td>\n",
       "      <td>0</td>\n",
       "      <td>0</td>\n",
       "      <td>0</td>\n",
       "      <td>0</td>\n",
       "      <td>0</td>\n",
       "      <td>0</td>\n",
       "      <td>0</td>\n",
       "      <td>0</td>\n",
       "      <td>0</td>\n",
       "      <td>0</td>\n",
       "      <td>0</td>\n",
       "      <td>0</td>\n",
       "      <td>0</td>\n",
       "      <td>0</td>\n",
       "      <td>0</td>\n",
       "      <td>0</td>\n",
       "      <td>0</td>\n",
       "      <td>0</td>\n",
       "      <td>0</td>\n",
       "      <td>1</td>\n",
       "      <td>0</td>\n",
       "      <td>0</td>\n",
       "      <td>0</td>\n",
       "      <td>0</td>\n",
       "      <td>0</td>\n",
       "      <td>0</td>\n",
       "      <td>0</td>\n",
       "      <td>0</td>\n",
       "      <td>0</td>\n",
       "      <td>0</td>\n",
       "      <td>0</td>\n",
       "      <td>0</td>\n",
       "      <td>0</td>\n",
       "      <td>0</td>\n",
       "      <td>0</td>\n",
       "      <td>0</td>\n",
       "      <td>0</td>\n",
       "      <td>0</td>\n",
       "      <td>0</td>\n",
       "      <td>0</td>\n",
       "      <td>0</td>\n",
       "      <td>0</td>\n",
       "      <td>0</td>\n",
       "      <td>0</td>\n",
       "      <td>0</td>\n",
       "      <td>0</td>\n",
       "      <td>0</td>\n",
       "      <td>0</td>\n",
       "      <td>0</td>\n",
       "      <td>0</td>\n",
       "      <td>0</td>\n",
       "      <td>0</td>\n",
       "      <td>0</td>\n",
       "      <td>0</td>\n",
       "      <td>0</td>\n",
       "      <td>0</td>\n",
       "      <td>0</td>\n",
       "      <td>0</td>\n",
       "      <td>0</td>\n",
       "      <td>0</td>\n",
       "      <td>0</td>\n",
       "      <td>0</td>\n",
       "      <td>0</td>\n",
       "      <td>0</td>\n",
       "      <td>0</td>\n",
       "      <td>0</td>\n",
       "      <td>0</td>\n",
       "      <td>0</td>\n",
       "      <td>0</td>\n",
       "      <td>0</td>\n",
       "      <td>0</td>\n",
       "      <td>0</td>\n",
       "      <td>0</td>\n",
       "      <td>0</td>\n",
       "      <td>0</td>\n",
       "      <td>0</td>\n",
       "      <td>0</td>\n",
       "      <td>0</td>\n",
       "      <td>0</td>\n",
       "      <td>0</td>\n",
       "      <td>0</td>\n",
       "      <td>0</td>\n",
       "      <td>0</td>\n",
       "      <td>0</td>\n",
       "      <td>0</td>\n",
       "      <td>0</td>\n",
       "      <td>0</td>\n",
       "      <td>0</td>\n",
       "      <td>0</td>\n",
       "      <td>0</td>\n",
       "      <td>0</td>\n",
       "      <td>0</td>\n",
       "      <td>0</td>\n",
       "      <td>0</td>\n",
       "      <td>0</td>\n",
       "      <td>0</td>\n",
       "      <td>0</td>\n",
       "      <td>0</td>\n",
       "      <td>0</td>\n",
       "      <td>0</td>\n",
       "      <td>0</td>\n",
       "      <td>0</td>\n",
       "      <td>0</td>\n",
       "      <td>0</td>\n",
       "      <td>0</td>\n",
       "      <td>0</td>\n",
       "      <td>0</td>\n",
       "      <td>0</td>\n",
       "      <td>0</td>\n",
       "      <td>0</td>\n",
       "      <td>0</td>\n",
       "      <td>0</td>\n",
       "      <td>0</td>\n",
       "      <td>0</td>\n",
       "      <td>0</td>\n",
       "      <td>0</td>\n",
       "      <td>0</td>\n",
       "      <td>0</td>\n",
       "      <td>0</td>\n",
       "      <td>0</td>\n",
       "      <td>0</td>\n",
       "      <td>0</td>\n",
       "      <td>0</td>\n",
       "      <td>0</td>\n",
       "      <td>0</td>\n",
       "      <td>0</td>\n",
       "      <td>0</td>\n",
       "      <td>0</td>\n",
       "      <td>0</td>\n",
       "      <td>0</td>\n",
       "      <td>0</td>\n",
       "      <td>0</td>\n",
       "      <td>0</td>\n",
       "      <td>0</td>\n",
       "      <td>0</td>\n",
       "      <td>0</td>\n",
       "      <td>0</td>\n",
       "      <td>0</td>\n",
       "      <td>0</td>\n",
       "      <td>0</td>\n",
       "      <td>0</td>\n",
       "      <td>0</td>\n",
       "      <td>0</td>\n",
       "      <td>0</td>\n",
       "      <td>0</td>\n",
       "      <td>0</td>\n",
       "      <td>0</td>\n",
       "      <td>0</td>\n",
       "      <td>0</td>\n",
       "      <td>0</td>\n",
       "      <td>0</td>\n",
       "      <td>0</td>\n",
       "      <td>0</td>\n",
       "      <td>0</td>\n",
       "      <td>0</td>\n",
       "      <td>0</td>\n",
       "      <td>0</td>\n",
       "      <td>0</td>\n",
       "    </tr>\n",
       "    <tr>\n",
       "      <th>3</th>\n",
       "      <td>11139560</td>\n",
       "      <td>1</td>\n",
       "      <td>0</td>\n",
       "      <td>1</td>\n",
       "      <td>1</td>\n",
       "      <td>1</td>\n",
       "      <td>0</td>\n",
       "      <td>1</td>\n",
       "      <td>1</td>\n",
       "      <td>1</td>\n",
       "      <td>0</td>\n",
       "      <td>1</td>\n",
       "      <td>1</td>\n",
       "      <td>0</td>\n",
       "      <td>1</td>\n",
       "      <td>0</td>\n",
       "      <td>0</td>\n",
       "      <td>0</td>\n",
       "      <td>0</td>\n",
       "      <td>0</td>\n",
       "      <td>0</td>\n",
       "      <td>0</td>\n",
       "      <td>0</td>\n",
       "      <td>0</td>\n",
       "      <td>1</td>\n",
       "      <td>0</td>\n",
       "      <td>0</td>\n",
       "      <td>0</td>\n",
       "      <td>0</td>\n",
       "      <td>0</td>\n",
       "      <td>0</td>\n",
       "      <td>0</td>\n",
       "      <td>0</td>\n",
       "      <td>0</td>\n",
       "      <td>0</td>\n",
       "      <td>0</td>\n",
       "      <td>0</td>\n",
       "      <td>0</td>\n",
       "      <td>0</td>\n",
       "      <td>0</td>\n",
       "      <td>0</td>\n",
       "      <td>0</td>\n",
       "      <td>0</td>\n",
       "      <td>0</td>\n",
       "      <td>0</td>\n",
       "      <td>0</td>\n",
       "      <td>0</td>\n",
       "      <td>0</td>\n",
       "      <td>0</td>\n",
       "      <td>0</td>\n",
       "      <td>0</td>\n",
       "      <td>1</td>\n",
       "      <td>1</td>\n",
       "      <td>0</td>\n",
       "      <td>0</td>\n",
       "      <td>0</td>\n",
       "      <td>0</td>\n",
       "      <td>0</td>\n",
       "      <td>0</td>\n",
       "      <td>0</td>\n",
       "      <td>0</td>\n",
       "      <td>0</td>\n",
       "      <td>0</td>\n",
       "      <td>0</td>\n",
       "      <td>0</td>\n",
       "      <td>0</td>\n",
       "      <td>0</td>\n",
       "      <td>0</td>\n",
       "      <td>0</td>\n",
       "      <td>0</td>\n",
       "      <td>0</td>\n",
       "      <td>0</td>\n",
       "      <td>0</td>\n",
       "      <td>0</td>\n",
       "      <td>0</td>\n",
       "      <td>0</td>\n",
       "      <td>0</td>\n",
       "      <td>0</td>\n",
       "      <td>0</td>\n",
       "      <td>0</td>\n",
       "      <td>0</td>\n",
       "      <td>0</td>\n",
       "      <td>0</td>\n",
       "      <td>0</td>\n",
       "      <td>0</td>\n",
       "      <td>0</td>\n",
       "      <td>0</td>\n",
       "      <td>0</td>\n",
       "      <td>0</td>\n",
       "      <td>0</td>\n",
       "      <td>0</td>\n",
       "      <td>0</td>\n",
       "      <td>0</td>\n",
       "      <td>0</td>\n",
       "      <td>0</td>\n",
       "      <td>0</td>\n",
       "      <td>0</td>\n",
       "      <td>0</td>\n",
       "      <td>0</td>\n",
       "      <td>0</td>\n",
       "      <td>0</td>\n",
       "      <td>0</td>\n",
       "      <td>0</td>\n",
       "      <td>0</td>\n",
       "      <td>0</td>\n",
       "      <td>0</td>\n",
       "      <td>0</td>\n",
       "      <td>0</td>\n",
       "      <td>0</td>\n",
       "      <td>0</td>\n",
       "      <td>0</td>\n",
       "      <td>0</td>\n",
       "      <td>0</td>\n",
       "      <td>0</td>\n",
       "      <td>0</td>\n",
       "      <td>0</td>\n",
       "      <td>0</td>\n",
       "      <td>0</td>\n",
       "      <td>0</td>\n",
       "      <td>0</td>\n",
       "      <td>0</td>\n",
       "      <td>0</td>\n",
       "      <td>0</td>\n",
       "      <td>0</td>\n",
       "      <td>0</td>\n",
       "      <td>0</td>\n",
       "      <td>0</td>\n",
       "      <td>0</td>\n",
       "      <td>0</td>\n",
       "      <td>0</td>\n",
       "      <td>0</td>\n",
       "      <td>0</td>\n",
       "      <td>0</td>\n",
       "      <td>0</td>\n",
       "      <td>0</td>\n",
       "      <td>0</td>\n",
       "      <td>0</td>\n",
       "      <td>1</td>\n",
       "      <td>0</td>\n",
       "      <td>0</td>\n",
       "      <td>0</td>\n",
       "      <td>0</td>\n",
       "      <td>0</td>\n",
       "      <td>0</td>\n",
       "      <td>0</td>\n",
       "      <td>0</td>\n",
       "      <td>0</td>\n",
       "      <td>0</td>\n",
       "      <td>0</td>\n",
       "      <td>0</td>\n",
       "      <td>0</td>\n",
       "      <td>0</td>\n",
       "      <td>0</td>\n",
       "      <td>0</td>\n",
       "      <td>0</td>\n",
       "      <td>0</td>\n",
       "      <td>0</td>\n",
       "      <td>0</td>\n",
       "      <td>0</td>\n",
       "      <td>0</td>\n",
       "      <td>0</td>\n",
       "      <td>0</td>\n",
       "      <td>0</td>\n",
       "      <td>0</td>\n",
       "      <td>0</td>\n",
       "      <td>0</td>\n",
       "      <td>0</td>\n",
       "      <td>0</td>\n",
       "      <td>0</td>\n",
       "      <td>0</td>\n",
       "      <td>0</td>\n",
       "      <td>0</td>\n",
       "      <td>0</td>\n",
       "      <td>0</td>\n",
       "      <td>0</td>\n",
       "      <td>0</td>\n",
       "      <td>0</td>\n",
       "      <td>0</td>\n",
       "      <td>0</td>\n",
       "      <td>0</td>\n",
       "      <td>0</td>\n",
       "      <td>0</td>\n",
       "      <td>0</td>\n",
       "      <td>0</td>\n",
       "      <td>0</td>\n",
       "      <td>0</td>\n",
       "      <td>0</td>\n",
       "      <td>0</td>\n",
       "      <td>0</td>\n",
       "      <td>0</td>\n",
       "      <td>0</td>\n",
       "      <td>0</td>\n",
       "      <td>0</td>\n",
       "      <td>0</td>\n",
       "      <td>0</td>\n",
       "      <td>0</td>\n",
       "      <td>0</td>\n",
       "      <td>0</td>\n",
       "      <td>0</td>\n",
       "      <td>0</td>\n",
       "      <td>0</td>\n",
       "      <td>0</td>\n",
       "      <td>0</td>\n",
       "      <td>0</td>\n",
       "      <td>0</td>\n",
       "      <td>0</td>\n",
       "      <td>0</td>\n",
       "      <td>0</td>\n",
       "      <td>0</td>\n",
       "      <td>0</td>\n",
       "      <td>0</td>\n",
       "      <td>0</td>\n",
       "      <td>0</td>\n",
       "      <td>0</td>\n",
       "      <td>0</td>\n",
       "      <td>0</td>\n",
       "      <td>0</td>\n",
       "      <td>0</td>\n",
       "      <td>0</td>\n",
       "      <td>0</td>\n",
       "      <td>0</td>\n",
       "      <td>0</td>\n",
       "      <td>0</td>\n",
       "      <td>0</td>\n",
       "      <td>0</td>\n",
       "      <td>0</td>\n",
       "      <td>0</td>\n",
       "      <td>0</td>\n",
       "      <td>0</td>\n",
       "      <td>0</td>\n",
       "      <td>0</td>\n",
       "      <td>0</td>\n",
       "      <td>0</td>\n",
       "      <td>0</td>\n",
       "      <td>0</td>\n",
       "      <td>0</td>\n",
       "      <td>0</td>\n",
       "      <td>0</td>\n",
       "      <td>0</td>\n",
       "      <td>0</td>\n",
       "      <td>0</td>\n",
       "      <td>0</td>\n",
       "      <td>0</td>\n",
       "      <td>0</td>\n",
       "    </tr>\n",
       "    <tr>\n",
       "      <th>4</th>\n",
       "      <td>11139588</td>\n",
       "      <td>1</td>\n",
       "      <td>0</td>\n",
       "      <td>1</td>\n",
       "      <td>1</td>\n",
       "      <td>1</td>\n",
       "      <td>0</td>\n",
       "      <td>0</td>\n",
       "      <td>1</td>\n",
       "      <td>0</td>\n",
       "      <td>1</td>\n",
       "      <td>1</td>\n",
       "      <td>0</td>\n",
       "      <td>0</td>\n",
       "      <td>0</td>\n",
       "      <td>0</td>\n",
       "      <td>0</td>\n",
       "      <td>0</td>\n",
       "      <td>0</td>\n",
       "      <td>0</td>\n",
       "      <td>0</td>\n",
       "      <td>0</td>\n",
       "      <td>0</td>\n",
       "      <td>0</td>\n",
       "      <td>0</td>\n",
       "      <td>0</td>\n",
       "      <td>0</td>\n",
       "      <td>0</td>\n",
       "      <td>0</td>\n",
       "      <td>0</td>\n",
       "      <td>0</td>\n",
       "      <td>0</td>\n",
       "      <td>0</td>\n",
       "      <td>0</td>\n",
       "      <td>0</td>\n",
       "      <td>1</td>\n",
       "      <td>0</td>\n",
       "      <td>0</td>\n",
       "      <td>0</td>\n",
       "      <td>0</td>\n",
       "      <td>0</td>\n",
       "      <td>0</td>\n",
       "      <td>0</td>\n",
       "      <td>0</td>\n",
       "      <td>0</td>\n",
       "      <td>0</td>\n",
       "      <td>0</td>\n",
       "      <td>0</td>\n",
       "      <td>0</td>\n",
       "      <td>0</td>\n",
       "      <td>0</td>\n",
       "      <td>0</td>\n",
       "      <td>1</td>\n",
       "      <td>0</td>\n",
       "      <td>0</td>\n",
       "      <td>0</td>\n",
       "      <td>0</td>\n",
       "      <td>0</td>\n",
       "      <td>0</td>\n",
       "      <td>0</td>\n",
       "      <td>0</td>\n",
       "      <td>0</td>\n",
       "      <td>0</td>\n",
       "      <td>0</td>\n",
       "      <td>0</td>\n",
       "      <td>0</td>\n",
       "      <td>0</td>\n",
       "      <td>0</td>\n",
       "      <td>1</td>\n",
       "      <td>0</td>\n",
       "      <td>0</td>\n",
       "      <td>0</td>\n",
       "      <td>0</td>\n",
       "      <td>0</td>\n",
       "      <td>0</td>\n",
       "      <td>0</td>\n",
       "      <td>0</td>\n",
       "      <td>0</td>\n",
       "      <td>0</td>\n",
       "      <td>0</td>\n",
       "      <td>0</td>\n",
       "      <td>0</td>\n",
       "      <td>0</td>\n",
       "      <td>0</td>\n",
       "      <td>0</td>\n",
       "      <td>0</td>\n",
       "      <td>0</td>\n",
       "      <td>0</td>\n",
       "      <td>0</td>\n",
       "      <td>0</td>\n",
       "      <td>0</td>\n",
       "      <td>0</td>\n",
       "      <td>0</td>\n",
       "      <td>0</td>\n",
       "      <td>0</td>\n",
       "      <td>0</td>\n",
       "      <td>0</td>\n",
       "      <td>0</td>\n",
       "      <td>0</td>\n",
       "      <td>0</td>\n",
       "      <td>0</td>\n",
       "      <td>0</td>\n",
       "      <td>0</td>\n",
       "      <td>0</td>\n",
       "      <td>0</td>\n",
       "      <td>0</td>\n",
       "      <td>0</td>\n",
       "      <td>0</td>\n",
       "      <td>0</td>\n",
       "      <td>0</td>\n",
       "      <td>0</td>\n",
       "      <td>0</td>\n",
       "      <td>0</td>\n",
       "      <td>0</td>\n",
       "      <td>0</td>\n",
       "      <td>0</td>\n",
       "      <td>0</td>\n",
       "      <td>0</td>\n",
       "      <td>0</td>\n",
       "      <td>0</td>\n",
       "      <td>0</td>\n",
       "      <td>0</td>\n",
       "      <td>0</td>\n",
       "      <td>0</td>\n",
       "      <td>0</td>\n",
       "      <td>0</td>\n",
       "      <td>0</td>\n",
       "      <td>0</td>\n",
       "      <td>0</td>\n",
       "      <td>0</td>\n",
       "      <td>0</td>\n",
       "      <td>0</td>\n",
       "      <td>0</td>\n",
       "      <td>0</td>\n",
       "      <td>0</td>\n",
       "      <td>0</td>\n",
       "      <td>0</td>\n",
       "      <td>0</td>\n",
       "      <td>0</td>\n",
       "      <td>0</td>\n",
       "      <td>0</td>\n",
       "      <td>0</td>\n",
       "      <td>0</td>\n",
       "      <td>0</td>\n",
       "      <td>0</td>\n",
       "      <td>0</td>\n",
       "      <td>0</td>\n",
       "      <td>0</td>\n",
       "      <td>0</td>\n",
       "      <td>0</td>\n",
       "      <td>0</td>\n",
       "      <td>0</td>\n",
       "      <td>0</td>\n",
       "      <td>0</td>\n",
       "      <td>0</td>\n",
       "      <td>0</td>\n",
       "      <td>0</td>\n",
       "      <td>0</td>\n",
       "      <td>0</td>\n",
       "      <td>0</td>\n",
       "      <td>0</td>\n",
       "      <td>0</td>\n",
       "      <td>0</td>\n",
       "      <td>0</td>\n",
       "      <td>0</td>\n",
       "      <td>0</td>\n",
       "      <td>0</td>\n",
       "      <td>0</td>\n",
       "      <td>0</td>\n",
       "      <td>0</td>\n",
       "      <td>0</td>\n",
       "      <td>0</td>\n",
       "      <td>0</td>\n",
       "      <td>0</td>\n",
       "      <td>0</td>\n",
       "      <td>0</td>\n",
       "      <td>0</td>\n",
       "      <td>0</td>\n",
       "      <td>0</td>\n",
       "      <td>0</td>\n",
       "      <td>0</td>\n",
       "      <td>0</td>\n",
       "      <td>0</td>\n",
       "      <td>0</td>\n",
       "      <td>0</td>\n",
       "      <td>0</td>\n",
       "      <td>0</td>\n",
       "      <td>0</td>\n",
       "      <td>0</td>\n",
       "      <td>0</td>\n",
       "      <td>0</td>\n",
       "      <td>0</td>\n",
       "      <td>0</td>\n",
       "      <td>0</td>\n",
       "      <td>0</td>\n",
       "      <td>0</td>\n",
       "      <td>0</td>\n",
       "      <td>0</td>\n",
       "      <td>0</td>\n",
       "      <td>0</td>\n",
       "      <td>0</td>\n",
       "      <td>0</td>\n",
       "      <td>0</td>\n",
       "      <td>0</td>\n",
       "      <td>0</td>\n",
       "      <td>0</td>\n",
       "      <td>0</td>\n",
       "      <td>0</td>\n",
       "      <td>0</td>\n",
       "      <td>0</td>\n",
       "      <td>0</td>\n",
       "      <td>0</td>\n",
       "      <td>0</td>\n",
       "      <td>0</td>\n",
       "      <td>0</td>\n",
       "      <td>0</td>\n",
       "      <td>0</td>\n",
       "      <td>0</td>\n",
       "      <td>0</td>\n",
       "      <td>0</td>\n",
       "      <td>0</td>\n",
       "      <td>0</td>\n",
       "      <td>0</td>\n",
       "      <td>0</td>\n",
       "      <td>0</td>\n",
       "      <td>0</td>\n",
       "      <td>0</td>\n",
       "      <td>0</td>\n",
       "      <td>0</td>\n",
       "      <td>0</td>\n",
       "      <td>0</td>\n",
       "      <td>0</td>\n",
       "      <td>0</td>\n",
       "      <td>0</td>\n",
       "      <td>0</td>\n",
       "      <td>0</td>\n",
       "      <td>0</td>\n",
       "      <td>0</td>\n",
       "      <td>0</td>\n",
       "      <td>0</td>\n",
       "      <td>0</td>\n",
       "      <td>0</td>\n",
       "      <td>0</td>\n",
       "      <td>0</td>\n",
       "    </tr>\n",
       "  </tbody>\n",
       "</table>\n",
       "</div>"
      ],
      "text/plain": [
       "   productid  attribute_name_Category  attribute_name_Collection  \\\n",
       "0   11139192                        1                          0   \n",
       "1   11139194                        1                          0   \n",
       "2   11139524                        1                          0   \n",
       "3   11139560                        1                          0   \n",
       "4   11139588                        1                          0   \n",
       "\n",
       "   attribute_name_Color  attribute_name_Fabric  attribute_name_Fit  \\\n",
       "0                     1                      1                   1   \n",
       "1                     1                      1                   1   \n",
       "2                     1                      1                   1   \n",
       "3                     1                      1                   1   \n",
       "4                     1                      1                   1   \n",
       "\n",
       "   attribute_name_Material  attribute_name_Neckline  attribute_name_Season  \\\n",
       "0                        0                        0                      1   \n",
       "1                        0                        0                      1   \n",
       "2                        0                        1                      1   \n",
       "3                        0                        1                      1   \n",
       "4                        0                        0                      1   \n",
       "\n",
       "   attribute_name_Sleeve Length  attributevalue_0  attributevalue_1  \\\n",
       "0                             0                 1                 1   \n",
       "1                             0                 1                 1   \n",
       "2                             1                 0                 1   \n",
       "3                             1                 0                 1   \n",
       "4                             0                 1                 1   \n",
       "\n",
       "   attributevalue_2  attributevalue_3  attributevalue_4  attributevalue_5  \\\n",
       "0                 1                 0                 0                 0   \n",
       "1                 1                 0                 0                 0   \n",
       "2                 0                 0                 1                 0   \n",
       "3                 1                 0                 1                 0   \n",
       "4                 0                 0                 0                 0   \n",
       "\n",
       "   attributevalue_6  attributevalue_7  attributevalue_8  attributevalue_9  \\\n",
       "0                 0                 0                 0                 0   \n",
       "1                 0                 0                 0                 0   \n",
       "2                 0                 0                 0                 0   \n",
       "3                 0                 0                 0                 0   \n",
       "4                 0                 0                 0                 0   \n",
       "\n",
       "   attributevalue_10  attributevalue_11  attributevalue_12  attributevalue_13  \\\n",
       "0                  0                  0                  0                  0   \n",
       "1                  0                  0                  0                  0   \n",
       "2                  0                  0                  0                  0   \n",
       "3                  0                  0                  0                  0   \n",
       "4                  0                  0                  0                  0   \n",
       "\n",
       "   attributevalue_14  attributevalue_15  attributevalue_16  attributevalue_17  \\\n",
       "0                  0                  0                  0                  0   \n",
       "1                  0                  0                  0                  0   \n",
       "2                  1                  0                  1                  0   \n",
       "3                  1                  0                  0                  0   \n",
       "4                  0                  0                  0                  0   \n",
       "\n",
       "   attributevalue_18  attributevalue_19  attributevalue_20  attributevalue_21  \\\n",
       "0                  0                  0                  0                  0   \n",
       "1                  0                  0                  0                  0   \n",
       "2                  0                  0                  0                  0   \n",
       "3                  0                  0                  0                  0   \n",
       "4                  0                  0                  0                  0   \n",
       "\n",
       "   attributevalue_22  attributevalue_23  attributevalue_24  attributevalue_25  \\\n",
       "0                  0                  0                  0                  0   \n",
       "1                  0                  0                  0                  1   \n",
       "2                  0                  1                  0                  0   \n",
       "3                  0                  0                  0                  0   \n",
       "4                  0                  0                  0                  1   \n",
       "\n",
       "   attributevalue_26  attributevalue_27  attributevalue_28  attributevalue_29  \\\n",
       "0                  0                  0                  0                  0   \n",
       "1                  0                  0                  0                  0   \n",
       "2                  0                  0                  0                  0   \n",
       "3                  0                  0                  0                  0   \n",
       "4                  0                  0                  0                  0   \n",
       "\n",
       "   attributevalue_30  attributevalue_31  attributevalue_32  attributevalue_33  \\\n",
       "0                  0                  0                  0                  0   \n",
       "1                  0                  0                  0                  0   \n",
       "2                  0                  0                  0                  0   \n",
       "3                  0                  0                  0                  0   \n",
       "4                  0                  0                  0                  0   \n",
       "\n",
       "   attributevalue_34  attributevalue_35  attributevalue_36  attributevalue_37  \\\n",
       "0                  0                  0                  0                  0   \n",
       "1                  0                  0                  0                  0   \n",
       "2                  0                  0                  0                  0   \n",
       "3                  0                  0                  0                  0   \n",
       "4                  0                  0                  0                  0   \n",
       "\n",
       "   attributevalue_38  attributevalue_39  attributevalue_40  attributevalue_41  \\\n",
       "0                  0                  0                  0                  1   \n",
       "1                  0                  0                  0                  0   \n",
       "2                  0                  0                  0                  0   \n",
       "3                  0                  0                  0                  1   \n",
       "4                  0                  0                  0                  0   \n",
       "\n",
       "   attributevalue_42  attributevalue_43  attributevalue_44  attributevalue_45  \\\n",
       "0                  1                  0                  0                  0   \n",
       "1                  1                  0                  0                  0   \n",
       "2                  1                  0                  0                  0   \n",
       "3                  1                  0                  0                  0   \n",
       "4                  1                  0                  0                  0   \n",
       "\n",
       "   attributevalue_46  attributevalue_47  attributevalue_48  attributevalue_49  \\\n",
       "0                  0                  0                  0                  0   \n",
       "1                  0                  0                  0                  0   \n",
       "2                  0                  0                  0                  0   \n",
       "3                  0                  0                  0                  0   \n",
       "4                  0                  0                  0                  0   \n",
       "\n",
       "   attributevalue_50  attributevalue_51  attributevalue_52  attributevalue_53  \\\n",
       "0                  0                  0                  0                  0   \n",
       "1                  0                  0                  0                  0   \n",
       "2                  0                  0                  0                  0   \n",
       "3                  0                  0                  0                  0   \n",
       "4                  0                  0                  0                  0   \n",
       "\n",
       "   attributevalue_54  attributevalue_55  attributevalue_56  attributevalue_57  \\\n",
       "0                  0                  0                  0                  0   \n",
       "1                  0                  0                  0                  0   \n",
       "2                  0                  0                  0                  0   \n",
       "3                  0                  0                  0                  0   \n",
       "4                  0                  0                  0                  0   \n",
       "\n",
       "   attributevalue_58  attributevalue_59  attributevalue_60  attributevalue_61  \\\n",
       "0                  0                  0                  0                  0   \n",
       "1                  0                  0                  0                  0   \n",
       "2                  0                  0                  0                  0   \n",
       "3                  0                  0                  0                  0   \n",
       "4                  1                  0                  0                  0   \n",
       "\n",
       "   attributevalue_62  attributevalue_63  attributevalue_64  attributevalue_65  \\\n",
       "0                  0                  0                  0                  0   \n",
       "1                  0                  0                  0                  0   \n",
       "2                  0                  0                  0                  0   \n",
       "3                  0                  0                  0                  0   \n",
       "4                  0                  0                  0                  0   \n",
       "\n",
       "   attributevalue_66  attributevalue_67  attributevalue_68  attributevalue_69  \\\n",
       "0                  0                  0                  0                  0   \n",
       "1                  0                  0                  0                  0   \n",
       "2                  0                  0                  0                  0   \n",
       "3                  0                  0                  0                  0   \n",
       "4                  0                  0                  0                  0   \n",
       "\n",
       "   attributevalue_70  attributevalue_71  attributevalue_72  attributevalue_73  \\\n",
       "0                  0                  0                  0                  0   \n",
       "1                  0                  0                  0                  0   \n",
       "2                  0                  0                  0                  0   \n",
       "3                  0                  0                  0                  0   \n",
       "4                  0                  0                  0                  0   \n",
       "\n",
       "   attributevalue_74  attributevalue_75  attributevalue_76  attributevalue_77  \\\n",
       "0                  0                  0                  0                  0   \n",
       "1                  0                  0                  0                  0   \n",
       "2                  0                  0                  0                  0   \n",
       "3                  0                  0                  0                  0   \n",
       "4                  0                  0                  0                  0   \n",
       "\n",
       "   attributevalue_78  attributevalue_79  attributevalue_80  attributevalue_81  \\\n",
       "0                  0                  0                  0                  0   \n",
       "1                  0                  0                  0                  0   \n",
       "2                  0                  0                  0                  0   \n",
       "3                  0                  0                  0                  0   \n",
       "4                  0                  0                  0                  0   \n",
       "\n",
       "   attributevalue_82  attributevalue_83  attributevalue_84  attributevalue_85  \\\n",
       "0                  0                  0                  0                  0   \n",
       "1                  0                  0                  0                  0   \n",
       "2                  0                  0                  0                  0   \n",
       "3                  0                  0                  0                  0   \n",
       "4                  0                  0                  0                  0   \n",
       "\n",
       "   attributevalue_86  attributevalue_87  attributevalue_88  attributevalue_89  \\\n",
       "0                  0                  0                  0                  0   \n",
       "1                  0                  0                  0                  0   \n",
       "2                  0                  0                  0                  0   \n",
       "3                  0                  0                  0                  0   \n",
       "4                  0                  0                  0                  0   \n",
       "\n",
       "   attributevalue_90  attributevalue_91  attributevalue_92  attributevalue_93  \\\n",
       "0                  0                  0                  0                  0   \n",
       "1                  0                  0                  0                  0   \n",
       "2                  0                  0                  0                  0   \n",
       "3                  0                  0                  0                  0   \n",
       "4                  0                  0                  0                  0   \n",
       "\n",
       "   attributevalue_94  attributevalue_95  attributevalue_96  attributevalue_97  \\\n",
       "0                  0                  0                  0                  0   \n",
       "1                  0                  0                  0                  0   \n",
       "2                  0                  1                  0                  0   \n",
       "3                  0                  0                  0                  0   \n",
       "4                  0                  0                  0                  0   \n",
       "\n",
       "   attributevalue_98  attributevalue_99  attributevalue_100  \\\n",
       "0                  0                  0                   0   \n",
       "1                  0                  0                   0   \n",
       "2                  0                  0                   0   \n",
       "3                  0                  0                   0   \n",
       "4                  0                  0                   0   \n",
       "\n",
       "   attributevalue_101  attributevalue_102  attributevalue_103  \\\n",
       "0                   0                   0                   0   \n",
       "1                   0                   0                   0   \n",
       "2                   0                   0                   0   \n",
       "3                   0                   0                   0   \n",
       "4                   0                   0                   0   \n",
       "\n",
       "   attributevalue_104  attributevalue_105  attributevalue_106  \\\n",
       "0                   0                   0                   0   \n",
       "1                   0                   0                   0   \n",
       "2                   0                   0                   0   \n",
       "3                   0                   0                   0   \n",
       "4                   0                   0                   0   \n",
       "\n",
       "   attributevalue_107  attributevalue_108  attributevalue_109  \\\n",
       "0                   0                   0                   0   \n",
       "1                   0                   0                   0   \n",
       "2                   0                   0                   0   \n",
       "3                   0                   0                   0   \n",
       "4                   0                   0                   0   \n",
       "\n",
       "   attributevalue_110  attributevalue_111  attributevalue_112  \\\n",
       "0                   0                   0                   0   \n",
       "1                   0                   0                   0   \n",
       "2                   0                   0                   0   \n",
       "3                   0                   0                   0   \n",
       "4                   0                   0                   0   \n",
       "\n",
       "   attributevalue_113  attributevalue_114  attributevalue_115  \\\n",
       "0                   0                   0                   0   \n",
       "1                   0                   0                   0   \n",
       "2                   0                   0                   0   \n",
       "3                   0                   0                   0   \n",
       "4                   0                   0                   0   \n",
       "\n",
       "   attributevalue_116  attributevalue_117  attributevalue_118  \\\n",
       "0                   0                   0                   0   \n",
       "1                   0                   0                   0   \n",
       "2                   0                   0                   0   \n",
       "3                   0                   0                   0   \n",
       "4                   0                   0                   0   \n",
       "\n",
       "   attributevalue_119  attributevalue_120  attributevalue_121  \\\n",
       "0                   0                   0                   0   \n",
       "1                   0                   0                   0   \n",
       "2                   0                   0                   0   \n",
       "3                   0                   0                   0   \n",
       "4                   0                   0                   0   \n",
       "\n",
       "   attributevalue_122  attributevalue_123  attributevalue_124  \\\n",
       "0                   0                   0                   0   \n",
       "1                   0                   0                   0   \n",
       "2                   0                   0                   0   \n",
       "3                   0                   0                   0   \n",
       "4                   0                   0                   0   \n",
       "\n",
       "   attributevalue_125  attributevalue_126  attributevalue_127  \\\n",
       "0                   0                   0                   0   \n",
       "1                   0                   0                   0   \n",
       "2                   0                   0                   0   \n",
       "3                   0                   0                   1   \n",
       "4                   0                   0                   0   \n",
       "\n",
       "   attributevalue_128  attributevalue_129  attributevalue_130  \\\n",
       "0                   0                   0                   0   \n",
       "1                   0                   0                   0   \n",
       "2                   0                   0                   0   \n",
       "3                   0                   0                   0   \n",
       "4                   0                   0                   0   \n",
       "\n",
       "   attributevalue_131  attributevalue_132  attributevalue_133  \\\n",
       "0                   0                   0                   0   \n",
       "1                   0                   0                   0   \n",
       "2                   0                   0                   0   \n",
       "3                   0                   0                   0   \n",
       "4                   0                   0                   0   \n",
       "\n",
       "   attributevalue_134  attributevalue_135  attributevalue_136  \\\n",
       "0                   0                   0                   0   \n",
       "1                   0                   0                   0   \n",
       "2                   0                   0                   0   \n",
       "3                   0                   0                   0   \n",
       "4                   0                   0                   0   \n",
       "\n",
       "   attributevalue_137  attributevalue_138  attributevalue_139  \\\n",
       "0                   0                   0                   0   \n",
       "1                   0                   0                   0   \n",
       "2                   0                   0                   0   \n",
       "3                   0                   0                   0   \n",
       "4                   0                   0                   0   \n",
       "\n",
       "   attributevalue_140  attributevalue_141  attributevalue_142  \\\n",
       "0                   0                   0                   0   \n",
       "1                   0                   0                   0   \n",
       "2                   0                   0                   0   \n",
       "3                   0                   0                   0   \n",
       "4                   0                   0                   0   \n",
       "\n",
       "   attributevalue_143  attributevalue_144  attributevalue_145  \\\n",
       "0                   0                   0                   0   \n",
       "1                   0                   0                   0   \n",
       "2                   0                   0                   0   \n",
       "3                   0                   0                   0   \n",
       "4                   0                   0                   0   \n",
       "\n",
       "   attributevalue_146  attributevalue_147  attributevalue_148  \\\n",
       "0                   0                   0                   0   \n",
       "1                   0                   0                   0   \n",
       "2                   0                   0                   0   \n",
       "3                   0                   0                   0   \n",
       "4                   0                   0                   0   \n",
       "\n",
       "   attributevalue_149  attributevalue_150  attributevalue_151  \\\n",
       "0                   0                   0                   0   \n",
       "1                   0                   0                   0   \n",
       "2                   0                   0                   0   \n",
       "3                   0                   0                   0   \n",
       "4                   0                   0                   0   \n",
       "\n",
       "   attributevalue_152  attributevalue_153  attributevalue_154  \\\n",
       "0                   0                   0                   0   \n",
       "1                   0                   0                   0   \n",
       "2                   0                   0                   0   \n",
       "3                   0                   0                   0   \n",
       "4                   0                   0                   0   \n",
       "\n",
       "   attributevalue_155  attributevalue_156  attributevalue_157  \\\n",
       "0                   0                   0                   0   \n",
       "1                   0                   0                   0   \n",
       "2                   0                   0                   0   \n",
       "3                   0                   0                   0   \n",
       "4                   0                   0                   0   \n",
       "\n",
       "   attributevalue_158  attributevalue_159  attributevalue_160  \\\n",
       "0                   0                   0                   0   \n",
       "1                   0                   0                   0   \n",
       "2                   0                   0                   0   \n",
       "3                   0                   0                   0   \n",
       "4                   0                   0                   0   \n",
       "\n",
       "   attributevalue_161  attributevalue_162  attributevalue_163  \\\n",
       "0                   0                   0                   0   \n",
       "1                   0                   0                   0   \n",
       "2                   0                   0                   0   \n",
       "3                   0                   0                   0   \n",
       "4                   0                   0                   0   \n",
       "\n",
       "   attributevalue_164  attributevalue_165  attributevalue_166  \\\n",
       "0                   0                   0                   0   \n",
       "1                   0                   0                   0   \n",
       "2                   0                   0                   0   \n",
       "3                   0                   0                   0   \n",
       "4                   0                   0                   0   \n",
       "\n",
       "   attributevalue_167  attributevalue_168  attributevalue_169  \\\n",
       "0                   0                   0                   0   \n",
       "1                   0                   0                   0   \n",
       "2                   0                   0                   0   \n",
       "3                   0                   0                   0   \n",
       "4                   0                   0                   0   \n",
       "\n",
       "   attributevalue_170  attributevalue_171  attributevalue_172  \\\n",
       "0                   0                   0                   0   \n",
       "1                   0                   0                   0   \n",
       "2                   0                   0                   0   \n",
       "3                   0                   0                   0   \n",
       "4                   0                   0                   0   \n",
       "\n",
       "   attributevalue_173  attributevalue_174  attributevalue_175  \\\n",
       "0                   0                   0                   0   \n",
       "1                   0                   0                   0   \n",
       "2                   0                   0                   0   \n",
       "3                   0                   0                   0   \n",
       "4                   0                   0                   0   \n",
       "\n",
       "   attributevalue_176  attributevalue_177  attributevalue_178  \\\n",
       "0                   0                   0                   0   \n",
       "1                   0                   0                   0   \n",
       "2                   0                   0                   0   \n",
       "3                   0                   0                   0   \n",
       "4                   0                   0                   0   \n",
       "\n",
       "   attributevalue_179  attributevalue_180  attributevalue_181  \\\n",
       "0                   0                   0                   0   \n",
       "1                   0                   0                   0   \n",
       "2                   0                   0                   0   \n",
       "3                   0                   0                   0   \n",
       "4                   0                   0                   0   \n",
       "\n",
       "   attributevalue_182  attributevalue_183  attributevalue_184  \\\n",
       "0                   0                   0                   0   \n",
       "1                   0                   0                   0   \n",
       "2                   0                   0                   0   \n",
       "3                   0                   0                   0   \n",
       "4                   0                   0                   0   \n",
       "\n",
       "   attributevalue_185  attributevalue_186  attributevalue_187  \\\n",
       "0                   0                   0                   0   \n",
       "1                   0                   0                   0   \n",
       "2                   0                   0                   0   \n",
       "3                   0                   0                   0   \n",
       "4                   0                   0                   0   \n",
       "\n",
       "   attributevalue_188  attributevalue_189  attributevalue_190  \\\n",
       "0                   0                   0                   0   \n",
       "1                   0                   0                   0   \n",
       "2                   0                   0                   0   \n",
       "3                   0                   0                   0   \n",
       "4                   0                   0                   0   \n",
       "\n",
       "   attributevalue_191  attributevalue_192  attributevalue_193  \\\n",
       "0                   0                   0                   0   \n",
       "1                   0                   0                   0   \n",
       "2                   0                   0                   0   \n",
       "3                   0                   0                   0   \n",
       "4                   0                   0                   0   \n",
       "\n",
       "   attributevalue_194  attributevalue_195  attributevalue_196  \\\n",
       "0                   0                   0                   0   \n",
       "1                   0                   0                   0   \n",
       "2                   0                   0                   0   \n",
       "3                   0                   0                   0   \n",
       "4                   0                   0                   0   \n",
       "\n",
       "   attributevalue_197  attributevalue_198  attributevalue_199  \\\n",
       "0                   0                   0                   0   \n",
       "1                   0                   0                   0   \n",
       "2                   0                   0                   0   \n",
       "3                   0                   0                   0   \n",
       "4                   0                   0                   0   \n",
       "\n",
       "   attributevalue_200  attributevalue_201  attributevalue_202  \\\n",
       "0                   0                   0                   0   \n",
       "1                   0                   0                   0   \n",
       "2                   0                   0                   0   \n",
       "3                   0                   0                   0   \n",
       "4                   0                   0                   0   \n",
       "\n",
       "   attributevalue_203  attributevalue_204  attributevalue_205  \\\n",
       "0                   0                   0                   0   \n",
       "1                   0                   0                   0   \n",
       "2                   0                   0                   0   \n",
       "3                   0                   0                   0   \n",
       "4                   0                   0                   0   \n",
       "\n",
       "   attributevalue_206  attributevalue_207  attributevalue_208  \\\n",
       "0                   0                   0                   0   \n",
       "1                   0                   0                   0   \n",
       "2                   0                   0                   0   \n",
       "3                   0                   0                   0   \n",
       "4                   0                   0                   0   \n",
       "\n",
       "   attributevalue_209  attributevalue_210  attributevalue_211  \\\n",
       "0                   0                   0                   0   \n",
       "1                   0                   0                   0   \n",
       "2                   0                   0                   0   \n",
       "3                   0                   0                   0   \n",
       "4                   0                   0                   0   \n",
       "\n",
       "   attributevalue_212  attributevalue_213  attributevalue_214  \\\n",
       "0                   0                   0                   0   \n",
       "1                   0                   0                   0   \n",
       "2                   0                   0                   0   \n",
       "3                   0                   0                   0   \n",
       "4                   0                   0                   0   \n",
       "\n",
       "   attributevalue_215  attributevalue_216  attributevalue_217  \\\n",
       "0                   0                   0                   0   \n",
       "1                   0                   0                   0   \n",
       "2                   0                   0                   0   \n",
       "3                   0                   0                   0   \n",
       "4                   0                   0                   0   \n",
       "\n",
       "   attributevalue_218  attributevalue_219  attributevalue_220  \\\n",
       "0                   0                   0                   0   \n",
       "1                   0                   0                   0   \n",
       "2                   0                   0                   0   \n",
       "3                   0                   0                   0   \n",
       "4                   0                   0                   0   \n",
       "\n",
       "   attributevalue_221  attributevalue_222  attributevalue_223  \\\n",
       "0                   0                   0                   0   \n",
       "1                   0                   0                   0   \n",
       "2                   0                   0                   0   \n",
       "3                   0                   0                   0   \n",
       "4                   0                   0                   0   \n",
       "\n",
       "   attributevalue_224  attributevalue_225  attributevalue_226  \\\n",
       "0                   0                   0                   0   \n",
       "1                   0                   0                   0   \n",
       "2                   0                   0                   0   \n",
       "3                   0                   0                   0   \n",
       "4                   0                   0                   0   \n",
       "\n",
       "   attributevalue_227  attributevalue_228  attributevalue_229  \\\n",
       "0                   0                   0                   0   \n",
       "1                   0                   0                   0   \n",
       "2                   0                   0                   0   \n",
       "3                   0                   0                   0   \n",
       "4                   0                   0                   0   \n",
       "\n",
       "   attributevalue_230  attributevalue_231  attributevalue_232  \\\n",
       "0                   0                   0                   0   \n",
       "1                   0                   0                   0   \n",
       "2                   0                   0                   0   \n",
       "3                   0                   0                   0   \n",
       "4                   0                   0                   0   \n",
       "\n",
       "   attributevalue_233  \n",
       "0                   0  \n",
       "1                   0  \n",
       "2                   0  \n",
       "3                   0  \n",
       "4                   0  "
      ]
     },
     "metadata": {
      "tags": []
     },
     "output_type": "display_data"
    }
   ],
   "source": [
    "show_all(pa_df.head())"
   ]
  },
  {
   "cell_type": "code",
   "execution_count": 104,
   "metadata": {
    "colab": {
     "base_uri": "https://localhost:8080/",
     "height": 34
    },
    "colab_type": "code",
    "id": "e7ENkGgcziXG",
    "outputId": "8fef541a-870f-40f1-d6b2-82a1acdc9661"
   },
   "outputs": [
    {
     "data": {
      "text/plain": [
       "(3015, 244)"
      ]
     },
     "execution_count": 104,
     "metadata": {
      "tags": []
     },
     "output_type": "execute_result"
    }
   ],
   "source": [
    "pa_df.shape"
   ]
  },
  {
   "cell_type": "code",
   "execution_count": 0,
   "metadata": {
    "colab": {},
    "colab_type": "code",
    "id": "VN6gOPq_hZz8"
   },
   "outputs": [],
   "source": []
  },
  {
   "cell_type": "markdown",
   "metadata": {
    "colab_type": "text",
    "id": "ipadp50zXyAj"
   },
   "source": [
    "### Train data"
   ]
  },
  {
   "cell_type": "code",
   "execution_count": 105,
   "metadata": {
    "colab": {
     "base_uri": "https://localhost:8080/",
     "height": 34
    },
    "colab_type": "code",
    "id": "4OuKMsQYXwxr",
    "outputId": "bb0da336-e519-4f9e-bd39-a312c9ad4f08"
   },
   "outputs": [
    {
     "data": {
      "text/plain": [
       "3026"
      ]
     },
     "execution_count": 105,
     "metadata": {
      "tags": []
     },
     "output_type": "execute_result"
    }
   ],
   "source": [
    "train_df['productid'].nunique()"
   ]
  },
  {
   "cell_type": "markdown",
   "metadata": {
    "colab_type": "text",
    "id": "aGi3u451bNPa"
   },
   "source": [
    "Train data has all 3026 product ids."
   ]
  },
  {
   "cell_type": "code",
   "execution_count": 106,
   "metadata": {
    "colab": {
     "base_uri": "https://localhost:8080/",
     "height": 34
    },
    "colab_type": "code",
    "id": "BCqPt6sXXwuD",
    "outputId": "c0a85108-af18-4895-a072-777efd16cfde"
   },
   "outputs": [
    {
     "data": {
      "text/plain": [
       "192"
      ]
     },
     "execution_count": 106,
     "metadata": {
      "tags": []
     },
     "output_type": "execute_result"
    }
   ],
   "source": [
    "train_df['productid'].isin(list(set(imgs_name_productid) - set(pa_df['productid'].unique()))).sum()"
   ]
  },
  {
   "cell_type": "markdown",
   "metadata": {
    "colab_type": "text",
    "id": "X9eNnma6b7tE"
   },
   "source": [
    "Total we have 192 records in train dataset which doesn't have attribute features for product id."
   ]
  },
  {
   "cell_type": "markdown",
   "metadata": {
    "colab_type": "text",
    "id": "RAdv-lgRtfkC"
   },
   "source": [
    "UserId"
   ]
  },
  {
   "cell_type": "code",
   "execution_count": 107,
   "metadata": {
    "colab": {
     "base_uri": "https://localhost:8080/",
     "height": 34
    },
    "colab_type": "code",
    "id": "GTFufgyuXwpx",
    "outputId": "773d4fe9-bf89-4e2e-f766-02a14e5bee23"
   },
   "outputs": [
    {
     "name": "stdout",
     "output_type": "stream",
     "text": [
      "Total  27778  unique users in train data\n"
     ]
    }
   ],
   "source": [
    "print(\"Total \", train_df['UserId'].nunique(), \" unique users in train data\")"
   ]
  },
  {
   "cell_type": "markdown",
   "metadata": {
    "colab_type": "text",
    "id": "3TKRA9fJeIR_"
   },
   "source": [
    "Out of these 27778 users, 2350 users are going to buy 1 or more product in next 2 months.\n",
    "\n",
    "**So, our task is to forcast which products these customers are going to buy in next month.**\n",
    "\n",
    "Because we (test data) already know that only 2350 customers are going to buy products, we just have to forcast for these 2350 customers."
   ]
  },
  {
   "cell_type": "markdown",
   "metadata": {
    "colab_type": "text",
    "id": "giu2170NtXzD"
   },
   "source": [
    "Quantity"
   ]
  },
  {
   "cell_type": "code",
   "execution_count": 108,
   "metadata": {
    "colab": {
     "base_uri": "https://localhost:8080/",
     "height": 313
    },
    "colab_type": "code",
    "id": "doRg3mu-Xovh",
    "outputId": "4fc7ac0c-3f2e-44be-fb6d-1f5422c2874a"
   },
   "outputs": [
    {
     "name": "stderr",
     "output_type": "stream",
     "text": [
      "/usr/local/lib/python3.6/dist-packages/seaborn/categorical.py:1428: FutureWarning: remove_na is deprecated and is a private function. Do not use.\n",
      "  stat_data = remove_na(group_data)\n"
     ]
    },
    {
     "data": {
      "image/png": "[encoded data removed]",
      "text/plain": [
       "<Figure size 432x288 with 1 Axes>"
      ]
     },
     "metadata": {
      "tags": []
     },
     "output_type": "display_data"
    }
   ],
   "source": [
    "sns.countplot(train_df['Quantity'])\n",
    "plt.show()"
   ]
  },
  {
   "cell_type": "code",
   "execution_count": 109,
   "metadata": {
    "colab": {
     "base_uri": "https://localhost:8080/",
     "height": 187
    },
    "colab_type": "code",
    "id": "NpzoTNwstLgl",
    "outputId": "323093c1-d59f-451a-e12d-baa3da557b06"
   },
   "outputs": [
    {
     "data": {
      "text/plain": [
       "1     131129\n",
       "2       1186\n",
       "3        139\n",
       "4         56\n",
       "5         36\n",
       "8          2\n",
       "12         1\n",
       "7          1\n",
       "6          1\n",
       "Name: Quantity, dtype: int64"
      ]
     },
     "execution_count": 109,
     "metadata": {
      "tags": []
     },
     "output_type": "execute_result"
    }
   ],
   "source": [
    "train_df['Quantity'].value_counts()"
   ]
  },
  {
   "cell_type": "markdown",
   "metadata": {
    "colab_type": "text",
    "id": "L3YyptXyzm-A"
   },
   "source": [
    "OrderDate"
   ]
  },
  {
   "cell_type": "code",
   "execution_count": 0,
   "metadata": {
    "colab": {},
    "colab_type": "code",
    "id": "Y7RAuoUEtp6u"
   },
   "outputs": [],
   "source": [
    "train_df['OrderDate'] = pd.to_datetime(train_df['OrderDate'], dayfirst=True)"
   ]
  },
  {
   "cell_type": "code",
   "execution_count": 111,
   "metadata": {
    "colab": {
     "base_uri": "https://localhost:8080/",
     "height": 204
    },
    "colab_type": "code",
    "id": "vUQa8uT12H0k",
    "outputId": "e683d95a-398a-40e6-91e1-fde33315653b"
   },
   "outputs": [
    {
     "data": {
      "text/html": [
       "<div>\n",
       "<style scoped>\n",
       "    .dataframe tbody tr th:only-of-type {\n",
       "        vertical-align: middle;\n",
       "    }\n",
       "\n",
       "    .dataframe tbody tr th {\n",
       "        vertical-align: top;\n",
       "    }\n",
       "\n",
       "    .dataframe thead th {\n",
       "        text-align: right;\n",
       "    }\n",
       "</style>\n",
       "<table border=\"1\" class=\"dataframe\">\n",
       "  <thead>\n",
       "    <tr style=\"text-align: right;\">\n",
       "      <th></th>\n",
       "      <th>UserId</th>\n",
       "      <th>productid</th>\n",
       "      <th>Quantity</th>\n",
       "      <th>OrderDate</th>\n",
       "    </tr>\n",
       "  </thead>\n",
       "  <tbody>\n",
       "    <tr>\n",
       "      <th>0</th>\n",
       "      <td>18075</td>\n",
       "      <td>12322648</td>\n",
       "      <td>1</td>\n",
       "      <td>2018-04-01</td>\n",
       "    </tr>\n",
       "    <tr>\n",
       "      <th>1</th>\n",
       "      <td>6820</td>\n",
       "      <td>12371370</td>\n",
       "      <td>1</td>\n",
       "      <td>2018-04-01</td>\n",
       "    </tr>\n",
       "    <tr>\n",
       "      <th>2</th>\n",
       "      <td>6820</td>\n",
       "      <td>12973004</td>\n",
       "      <td>1</td>\n",
       "      <td>2018-04-01</td>\n",
       "    </tr>\n",
       "    <tr>\n",
       "      <th>3</th>\n",
       "      <td>6820</td>\n",
       "      <td>12657560</td>\n",
       "      <td>1</td>\n",
       "      <td>2018-04-01</td>\n",
       "    </tr>\n",
       "    <tr>\n",
       "      <th>4</th>\n",
       "      <td>6820</td>\n",
       "      <td>11659914</td>\n",
       "      <td>1</td>\n",
       "      <td>2018-04-01</td>\n",
       "    </tr>\n",
       "  </tbody>\n",
       "</table>\n",
       "</div>"
      ],
      "text/plain": [
       "   UserId  productid  Quantity  OrderDate\n",
       "0   18075   12322648         1 2018-04-01\n",
       "1    6820   12371370         1 2018-04-01\n",
       "2    6820   12973004         1 2018-04-01\n",
       "3    6820   12657560         1 2018-04-01\n",
       "4    6820   11659914         1 2018-04-01"
      ]
     },
     "execution_count": 111,
     "metadata": {
      "tags": []
     },
     "output_type": "execute_result"
    }
   ],
   "source": [
    "train_df.head()"
   ]
  },
  {
   "cell_type": "code",
   "execution_count": 112,
   "metadata": {
    "colab": {
     "base_uri": "https://localhost:8080/",
     "height": 291
    },
    "colab_type": "code",
    "id": "PIQpvI7R2Hwx",
    "outputId": "a83f2048-6f2f-46e2-e773-705d460c2c9e"
   },
   "outputs": [
    {
     "data": {
      "image/png": "[encoded data removed]",
      "text/plain": [
       "<Figure size 432x288 with 1 Axes>"
      ]
     },
     "metadata": {
      "tags": []
     },
     "output_type": "display_data"
    }
   ],
   "source": [
    "# Number of orders day wise.\n",
    "train_df.groupby(['OrderDate'])['Quantity'].count().plot()\n",
    "plt.show()"
   ]
  },
  {
   "cell_type": "markdown",
   "metadata": {
    "colab_type": "text",
    "id": "B9MO7f4_6J1Q"
   },
   "source": [
    "We have Train data from April 2018 to Oct 2018.\n",
    "\n",
    "We have to forcast for Nov and Dec, Combined."
   ]
  },
  {
   "cell_type": "code",
   "execution_count": 113,
   "metadata": {
    "colab": {
     "base_uri": "https://localhost:8080/",
     "height": 34
    },
    "colab_type": "code",
    "id": "ulwpDFj32Hs0",
    "outputId": "391943a2-5ca0-4a90-9304-196533856fc4"
   },
   "outputs": [
    {
     "data": {
      "text/plain": [
       "Timestamp('2018-10-30 00:00:00')"
      ]
     },
     "execution_count": 113,
     "metadata": {
      "tags": []
     },
     "output_type": "execute_result"
    }
   ],
   "source": [
    "train_df['OrderDate'].max()"
   ]
  },
  {
   "cell_type": "code",
   "execution_count": 114,
   "metadata": {
    "colab": {
     "base_uri": "https://localhost:8080/",
     "height": 34
    },
    "colab_type": "code",
    "id": "wBmUabUk2QY6",
    "outputId": "d60d4e51-c1cb-4e2d-ee34-6716bf826a49"
   },
   "outputs": [
    {
     "data": {
      "text/plain": [
       "Timestamp('2018-04-01 00:00:00')"
      ]
     },
     "execution_count": 114,
     "metadata": {
      "tags": []
     },
     "output_type": "execute_result"
    }
   ],
   "source": [
    "train_df['OrderDate'].min()"
   ]
  },
  {
   "cell_type": "markdown",
   "metadata": {
    "colab_type": "text",
    "id": "0WtTNDzc8x9w"
   },
   "source": [
    "Try to think of a validation strategy."
   ]
  },
  {
   "cell_type": "code",
   "execution_count": 115,
   "metadata": {
    "colab": {
     "base_uri": "https://localhost:8080/",
     "height": 34
    },
    "colab_type": "code",
    "id": "OpozH5ZU8kSH",
    "outputId": "f81c99d5-3545-4b94-feb6-c639244110f6"
   },
   "outputs": [
    {
     "data": {
      "text/plain": [
       "7086"
      ]
     },
     "execution_count": 115,
     "metadata": {
      "tags": []
     },
     "output_type": "execute_result"
    }
   ],
   "source": [
    "train_df[train_df['OrderDate'] > '2018-08-31']['UserId'].nunique()"
   ]
  },
  {
   "cell_type": "code",
   "execution_count": 116,
   "metadata": {
    "colab": {
     "base_uri": "https://localhost:8080/",
     "height": 34
    },
    "colab_type": "code",
    "id": "CcvCUQ578IlI",
    "outputId": "1427b050-613a-4547-b197-6f5a72728d7d"
   },
   "outputs": [
    {
     "data": {
      "text/plain": [
       "1980"
      ]
     },
     "execution_count": 116,
     "metadata": {
      "tags": []
     },
     "output_type": "execute_result"
    }
   ],
   "source": [
    "len(set(train_df[train_df['OrderDate'] <= '2018-08-31']['UserId'].unique()).intersection(set(train_df[train_df['OrderDate'] > '2018-08-31']['UserId'].unique())))"
   ]
  },
  {
   "cell_type": "markdown",
   "metadata": {
    "colab_type": "text",
    "id": "cxQs9dFlHVUy"
   },
   "source": [
    "In Septmber and Oct we have 7086 unique users, out of which only 1980 users are existing users. "
   ]
  },
  {
   "cell_type": "code",
   "execution_count": 0,
   "metadata": {
    "colab": {},
    "colab_type": "code",
    "id": "N26EsVdUiK79"
   },
   "outputs": [],
   "source": []
  },
  {
   "cell_type": "markdown",
   "metadata": {
    "colab_type": "text",
    "id": "RXAu6rpfjN2S"
   },
   "source": [
    "### Make features from product images. Use DenseNet121"
   ]
  },
  {
   "cell_type": "code",
   "execution_count": 0,
   "metadata": {
    "colab": {},
    "colab_type": "code",
    "id": "dK_8OHHakCUT"
   },
   "outputs": [],
   "source": [
    "img_size = 256\n",
    "batch_size = 16\n",
    "n_batches = len(imgs_name_productid) // batch_size + 1"
   ]
  },
  {
   "cell_type": "code",
   "execution_count": 0,
   "metadata": {
    "colab": {},
    "colab_type": "code",
    "id": "9nySRVGFjTJH"
   },
   "outputs": [],
   "source": [
    "def resize_to_square(im):\n",
    "    old_size = im.shape[:2] # old_size is in (height, width) format\n",
    "    ratio = float(img_size)/max(old_size)\n",
    "    new_size = tuple([int(x*ratio) for x in old_size])\n",
    "    # new_size should be in (width, height) format\n",
    "    im = cv2.resize(im, (new_size[1], new_size[0]))\n",
    "    delta_w = img_size - new_size[1]\n",
    "    delta_h = img_size - new_size[0]\n",
    "    top, bottom = delta_h//2, delta_h-(delta_h//2)\n",
    "    left, right = delta_w//2, delta_w-(delta_w//2)\n",
    "    color = [0, 0, 0]\n",
    "    new_im = cv2.copyMakeBorder(im, top, bottom, left, right, cv2.BORDER_CONSTANT,value=color)\n",
    "    return new_im\n",
    "  \n",
    "def load_image(path, product_id):\n",
    "    image = cv2.imread(f'{path}{product_id}.jpg')\n",
    "    new_image = resize_to_square(image)\n",
    "    new_image = preprocess_input(new_image)\n",
    "    return new_image"
   ]
  },
  {
   "cell_type": "code",
   "execution_count": 124,
   "metadata": {
    "colab": {
     "base_uri": "https://localhost:8080/",
     "height": 51
    },
    "colab_type": "code",
    "id": "41ycYQQSmqsx",
    "outputId": "029de085-1bcb-461e-eee2-e16a4027f98b"
   },
   "outputs": [
    {
     "name": "stdout",
     "output_type": "stream",
     "text": [
      "Downloading data from https://github.com/keras-team/keras-applications/releases/download/densenet/densenet121_weights_tf_dim_ordering_tf_kernels_notop.h5\n",
      "29089792/29084464 [==============================] - 1s 0us/step\n"
     ]
    }
   ],
   "source": [
    "inp = Input((256,256,3))\n",
    "backbone = DenseNet121(input_tensor = inp, include_top = False)\n",
    "x = backbone.output\n",
    "x = GlobalAveragePooling2D()(x)\n",
    "x = Lambda(lambda x: K.expand_dims(x,axis = -1))(x)\n",
    "x = AveragePooling1D(4)(x)\n",
    "out = Lambda(lambda x: x[:,:,0])(x)\n",
    "\n",
    "m = Model(inp,out)"
   ]
  },
  {
   "cell_type": "code",
   "execution_count": 125,
   "metadata": {
    "colab": {
     "base_uri": "https://localhost:8080/",
     "height": 51
    },
    "colab_type": "code",
    "id": "RsiuTG8Mmqxh",
    "outputId": "f77c3beb-5ef4-49c1-e912-80efeefbd23f"
   },
   "outputs": [
    {
     "data": {
      "application/vnd.jupyter.widget-view+json": {
       "model_id": "4343320ebc394ff29a02dd7e2a2c2601",
       "version_major": 2,
       "version_minor": 0
      },
      "text/plain": [
       "HBox(children=(IntProgress(value=0, max=190), HTML(value='')))"
      ]
     },
     "metadata": {
      "tags": []
     },
     "output_type": "display_data"
    },
    {
     "name": "stdout",
     "output_type": "stream",
     "text": [
      "\n"
     ]
    }
   ],
   "source": [
    "img_features = {}\n",
    "for b in tqdm_notebook(range(n_batches)):\n",
    "    start = b*batch_size\n",
    "    end = (b+1)*batch_size\n",
    "    batch_products = imgs_name_productid[start:end]\n",
    "    batch_images = np.zeros((len(batch_products),img_size,img_size,3))\n",
    "    for i, product_id in enumerate(batch_products):\n",
    "        try:\n",
    "            batch_images[i] = load_image(\"../input/images/\", product_id)\n",
    "        except:\n",
    "            pass\n",
    "    batch_preds = m.predict(batch_images)\n",
    "    for i,product_id in enumerate(batch_products):\n",
    "        img_features[product_id] = batch_preds[i]"
   ]
  },
  {
   "cell_type": "code",
   "execution_count": 127,
   "metadata": {
    "colab": {
     "base_uri": "https://localhost:8080/",
     "height": 34
    },
    "colab_type": "code",
    "id": "5Nztac1Cmq5O",
    "outputId": "b79dc55d-6d0b-474a-8cd5-e7db99b957fb"
   },
   "outputs": [
    {
     "data": {
      "text/plain": [
       "3026"
      ]
     },
     "execution_count": 127,
     "metadata": {
      "tags": []
     },
     "output_type": "execute_result"
    }
   ],
   "source": [
    "len(img_features)"
   ]
  },
  {
   "cell_type": "code",
   "execution_count": 0,
   "metadata": {
    "colab": {},
    "colab_type": "code",
    "id": "tosHugr1mq9W"
   },
   "outputs": [],
   "source": [
    "img_features_df = pd.DataFrame.from_dict(img_features, orient='index')"
   ]
  },
  {
   "cell_type": "code",
   "execution_count": 0,
   "metadata": {
    "colab": {},
    "colab_type": "code",
    "id": "u-9VEK5mmrBF"
   },
   "outputs": [],
   "source": [
    "img_features_df = img_features_df.reset_index().rename(columns={'index': 'productid'})"
   ]
  },
  {
   "cell_type": "code",
   "execution_count": 133,
   "metadata": {
    "colab": {
     "base_uri": "https://localhost:8080/",
     "height": 233
    },
    "colab_type": "code",
    "id": "8MIHwqEAmrGz",
    "outputId": "03a156ba-f0c8-4130-8e9f-7350c232b4fe"
   },
   "outputs": [
    {
     "data": {
      "text/html": [
       "<div>\n",
       "<style scoped>\n",
       "    .dataframe tbody tr th:only-of-type {\n",
       "        vertical-align: middle;\n",
       "    }\n",
       "\n",
       "    .dataframe tbody tr th {\n",
       "        vertical-align: top;\n",
       "    }\n",
       "\n",
       "    .dataframe thead th {\n",
       "        text-align: right;\n",
       "    }\n",
       "</style>\n",
       "<table border=\"1\" class=\"dataframe\">\n",
       "  <thead>\n",
       "    <tr style=\"text-align: right;\">\n",
       "      <th></th>\n",
       "      <th>productid</th>\n",
       "      <th>0</th>\n",
       "      <th>1</th>\n",
       "      <th>2</th>\n",
       "      <th>3</th>\n",
       "      <th>4</th>\n",
       "      <th>5</th>\n",
       "      <th>6</th>\n",
       "      <th>7</th>\n",
       "      <th>8</th>\n",
       "      <th>...</th>\n",
       "      <th>246</th>\n",
       "      <th>247</th>\n",
       "      <th>248</th>\n",
       "      <th>249</th>\n",
       "      <th>250</th>\n",
       "      <th>251</th>\n",
       "      <th>252</th>\n",
       "      <th>253</th>\n",
       "      <th>254</th>\n",
       "      <th>255</th>\n",
       "    </tr>\n",
       "  </thead>\n",
       "  <tbody>\n",
       "    <tr>\n",
       "      <th>0</th>\n",
       "      <td>12936780</td>\n",
       "      <td>0.002294</td>\n",
       "      <td>0.053471</td>\n",
       "      <td>0.023728</td>\n",
       "      <td>0.016568</td>\n",
       "      <td>0.205274</td>\n",
       "      <td>0.002194</td>\n",
       "      <td>0.008113</td>\n",
       "      <td>0.002574</td>\n",
       "      <td>0.051025</td>\n",
       "      <td>...</td>\n",
       "      <td>0.474683</td>\n",
       "      <td>1.680102</td>\n",
       "      <td>0.782656</td>\n",
       "      <td>0.224010</td>\n",
       "      <td>0.535061</td>\n",
       "      <td>0.895810</td>\n",
       "      <td>1.732252</td>\n",
       "      <td>1.147932</td>\n",
       "      <td>0.685880</td>\n",
       "      <td>0.785485</td>\n",
       "    </tr>\n",
       "    <tr>\n",
       "      <th>1</th>\n",
       "      <td>12658116</td>\n",
       "      <td>0.002572</td>\n",
       "      <td>0.090139</td>\n",
       "      <td>0.016815</td>\n",
       "      <td>0.010293</td>\n",
       "      <td>0.123794</td>\n",
       "      <td>0.002296</td>\n",
       "      <td>0.007319</td>\n",
       "      <td>0.002673</td>\n",
       "      <td>0.054563</td>\n",
       "      <td>...</td>\n",
       "      <td>0.732556</td>\n",
       "      <td>0.641507</td>\n",
       "      <td>0.310849</td>\n",
       "      <td>1.080173</td>\n",
       "      <td>0.402177</td>\n",
       "      <td>0.550121</td>\n",
       "      <td>0.402438</td>\n",
       "      <td>1.580256</td>\n",
       "      <td>0.796090</td>\n",
       "      <td>0.110925</td>\n",
       "    </tr>\n",
       "    <tr>\n",
       "      <th>2</th>\n",
       "      <td>12657808</td>\n",
       "      <td>0.002924</td>\n",
       "      <td>0.080135</td>\n",
       "      <td>0.035152</td>\n",
       "      <td>0.014036</td>\n",
       "      <td>0.139958</td>\n",
       "      <td>0.002312</td>\n",
       "      <td>0.005795</td>\n",
       "      <td>0.004317</td>\n",
       "      <td>0.054085</td>\n",
       "      <td>...</td>\n",
       "      <td>0.593676</td>\n",
       "      <td>0.789104</td>\n",
       "      <td>0.528445</td>\n",
       "      <td>1.305827</td>\n",
       "      <td>0.368130</td>\n",
       "      <td>1.028803</td>\n",
       "      <td>0.494908</td>\n",
       "      <td>1.750315</td>\n",
       "      <td>0.840000</td>\n",
       "      <td>0.228319</td>\n",
       "    </tr>\n",
       "    <tr>\n",
       "      <th>3</th>\n",
       "      <td>11659610</td>\n",
       "      <td>0.002275</td>\n",
       "      <td>0.070190</td>\n",
       "      <td>0.016129</td>\n",
       "      <td>0.014311</td>\n",
       "      <td>0.110492</td>\n",
       "      <td>0.002338</td>\n",
       "      <td>0.007122</td>\n",
       "      <td>0.003976</td>\n",
       "      <td>0.058086</td>\n",
       "      <td>...</td>\n",
       "      <td>0.371726</td>\n",
       "      <td>0.632203</td>\n",
       "      <td>0.656490</td>\n",
       "      <td>1.050406</td>\n",
       "      <td>0.543501</td>\n",
       "      <td>0.394849</td>\n",
       "      <td>0.303732</td>\n",
       "      <td>1.633253</td>\n",
       "      <td>0.628442</td>\n",
       "      <td>0.389560</td>\n",
       "    </tr>\n",
       "    <tr>\n",
       "      <th>4</th>\n",
       "      <td>11659018</td>\n",
       "      <td>0.002525</td>\n",
       "      <td>0.057960</td>\n",
       "      <td>0.015884</td>\n",
       "      <td>0.012608</td>\n",
       "      <td>0.119693</td>\n",
       "      <td>0.002683</td>\n",
       "      <td>0.006917</td>\n",
       "      <td>0.003197</td>\n",
       "      <td>0.060223</td>\n",
       "      <td>...</td>\n",
       "      <td>0.155738</td>\n",
       "      <td>0.437230</td>\n",
       "      <td>0.740190</td>\n",
       "      <td>0.680931</td>\n",
       "      <td>0.439998</td>\n",
       "      <td>0.505898</td>\n",
       "      <td>0.434439</td>\n",
       "      <td>2.061210</td>\n",
       "      <td>0.217662</td>\n",
       "      <td>0.322755</td>\n",
       "    </tr>\n",
       "  </tbody>\n",
       "</table>\n",
       "<p>5 rows × 257 columns</p>\n",
       "</div>"
      ],
      "text/plain": [
       "   productid         0         1         2         3         4         5  \\\n",
       "0   12936780  0.002294  0.053471  0.023728  0.016568  0.205274  0.002194   \n",
       "1   12658116  0.002572  0.090139  0.016815  0.010293  0.123794  0.002296   \n",
       "2   12657808  0.002924  0.080135  0.035152  0.014036  0.139958  0.002312   \n",
       "3   11659610  0.002275  0.070190  0.016129  0.014311  0.110492  0.002338   \n",
       "4   11659018  0.002525  0.057960  0.015884  0.012608  0.119693  0.002683   \n",
       "\n",
       "          6         7         8    ...          246       247       248  \\\n",
       "0  0.008113  0.002574  0.051025    ...     0.474683  1.680102  0.782656   \n",
       "1  0.007319  0.002673  0.054563    ...     0.732556  0.641507  0.310849   \n",
       "2  0.005795  0.004317  0.054085    ...     0.593676  0.789104  0.528445   \n",
       "3  0.007122  0.003976  0.058086    ...     0.371726  0.632203  0.656490   \n",
       "4  0.006917  0.003197  0.060223    ...     0.155738  0.437230  0.740190   \n",
       "\n",
       "        249       250       251       252       253       254       255  \n",
       "0  0.224010  0.535061  0.895810  1.732252  1.147932  0.685880  0.785485  \n",
       "1  1.080173  0.402177  0.550121  0.402438  1.580256  0.796090  0.110925  \n",
       "2  1.305827  0.368130  1.028803  0.494908  1.750315  0.840000  0.228319  \n",
       "3  1.050406  0.543501  0.394849  0.303732  1.633253  0.628442  0.389560  \n",
       "4  0.680931  0.439998  0.505898  0.434439  2.061210  0.217662  0.322755  \n",
       "\n",
       "[5 rows x 257 columns]"
      ]
     },
     "execution_count": 133,
     "metadata": {
      "tags": []
     },
     "output_type": "execute_result"
    }
   ],
   "source": [
    "img_features_df.head()"
   ]
  },
  {
   "cell_type": "code",
   "execution_count": 134,
   "metadata": {
    "colab": {
     "base_uri": "https://localhost:8080/",
     "height": 34
    },
    "colab_type": "code",
    "id": "TIQyzGixmrE3",
    "outputId": "1ce07d58-cced-435a-9b8b-a701c7c50bea"
   },
   "outputs": [
    {
     "data": {
      "text/plain": [
       "55"
      ]
     },
     "execution_count": 134,
     "metadata": {
      "tags": []
     },
     "output_type": "execute_result"
    }
   ],
   "source": [
    "del img_features\n",
    "gc.collect()"
   ]
  },
  {
   "cell_type": "code",
   "execution_count": 0,
   "metadata": {
    "colab": {},
    "colab_type": "code",
    "id": "EebRfFqDzC2l"
   },
   "outputs": [],
   "source": []
  },
  {
   "cell_type": "markdown",
   "metadata": {
    "colab_type": "text",
    "id": "JL6MgTCszD5Z"
   },
   "source": [
    "### Store product attribute and product image features to drive."
   ]
  },
  {
   "cell_type": "code",
   "execution_count": 135,
   "metadata": {
    "colab": {
     "base_uri": "https://localhost:8080/",
     "height": 102
    },
    "colab_type": "code",
    "id": "ZpmCJgXbmq2b",
    "outputId": "4d3554af-72a5-4a15-d9e3-4ea33c932ed8"
   },
   "outputs": [
    {
     "name": "stdout",
     "output_type": "stream",
     "text": [
      "<class 'pandas.core.frame.DataFrame'>\n",
      "RangeIndex: 3015 entries, 0 to 3014\n",
      "Columns: 244 entries, productid to attributevalue_233\n",
      "dtypes: int64(1), uint8(243)\n",
      "memory usage: 739.1 KB\n"
     ]
    }
   ],
   "source": [
    "pa_df.info()"
   ]
  },
  {
   "cell_type": "code",
   "execution_count": 136,
   "metadata": {
    "colab": {
     "base_uri": "https://localhost:8080/",
     "height": 102
    },
    "colab_type": "code",
    "id": "MKPwQ6a7y-ZV",
    "outputId": "98bd6fbf-b27d-4e62-ed57-58532042c32f"
   },
   "outputs": [
    {
     "name": "stdout",
     "output_type": "stream",
     "text": [
      "<class 'pandas.core.frame.DataFrame'>\n",
      "RangeIndex: 3026 entries, 0 to 3025\n",
      "Columns: 257 entries, productid to 255\n",
      "dtypes: float64(256), int64(1)\n",
      "memory usage: 5.9 MB\n"
     ]
    }
   ],
   "source": [
    "img_features_df.info()"
   ]
  },
  {
   "cell_type": "code",
   "execution_count": 0,
   "metadata": {
    "colab": {},
    "colab_type": "code",
    "id": "Pu7v5VodzAlX"
   },
   "outputs": [],
   "source": [
    "pa_df.to_csv('productid_attr.csv', index=False)"
   ]
  },
  {
   "cell_type": "code",
   "execution_count": 0,
   "metadata": {
    "colab": {},
    "colab_type": "code",
    "id": "XW3WpFMlzkvH"
   },
   "outputs": [],
   "source": [
    "!cp productid_attr.csv ../../drive/ColabNotebooks/AV/capillary-ml-hackathon/"
   ]
  },
  {
   "cell_type": "code",
   "execution_count": 0,
   "metadata": {
    "colab": {},
    "colab_type": "code",
    "id": "9tOHBFzLzxIl"
   },
   "outputs": [],
   "source": [
    "img_features_df.to_csv('img_features_DN121.csv', index=False)"
   ]
  },
  {
   "cell_type": "code",
   "execution_count": 0,
   "metadata": {
    "colab": {},
    "colab_type": "code",
    "id": "N3HooEyL0KDH"
   },
   "outputs": [],
   "source": [
    "!cp img_features_DN121.csv ../../drive/ColabNotebooks/AV/capillary-ml-hackathon/"
   ]
  },
  {
   "cell_type": "code",
   "execution_count": 0,
   "metadata": {
    "colab": {},
    "colab_type": "code",
    "id": "0TEUaYqQ0UeX"
   },
   "outputs": [],
   "source": [
    "pa_df = pd.read_csv('productid_attr.csv')\n",
    "img_features_df = pd.read_csv('img_features_DN121.csv')"
   ]
  },
  {
   "cell_type": "code",
   "execution_count": 0,
   "metadata": {
    "colab": {},
    "colab_type": "code",
    "id": "zs5plXRzMehI"
   },
   "outputs": [],
   "source": []
  },
  {
   "cell_type": "code",
   "execution_count": 22,
   "metadata": {
    "colab": {
     "base_uri": "https://localhost:8080/",
     "height": 204
    },
    "colab_type": "code",
    "id": "ERS4CmZUmGS1",
    "outputId": "c7992b4e-1015-4b62-eef6-f0cb34ff3251"
   },
   "outputs": [
    {
     "data": {
      "text/html": [
       "<div>\n",
       "<style scoped>\n",
       "    .dataframe tbody tr th:only-of-type {\n",
       "        vertical-align: middle;\n",
       "    }\n",
       "\n",
       "    .dataframe tbody tr th {\n",
       "        vertical-align: top;\n",
       "    }\n",
       "\n",
       "    .dataframe thead th {\n",
       "        text-align: right;\n",
       "    }\n",
       "</style>\n",
       "<table border=\"1\" class=\"dataframe\">\n",
       "  <thead>\n",
       "    <tr style=\"text-align: right;\">\n",
       "      <th></th>\n",
       "      <th>UserId</th>\n",
       "      <th>productid</th>\n",
       "      <th>Quantity</th>\n",
       "      <th>OrderDate</th>\n",
       "    </tr>\n",
       "  </thead>\n",
       "  <tbody>\n",
       "    <tr>\n",
       "      <th>0</th>\n",
       "      <td>18075</td>\n",
       "      <td>12322648</td>\n",
       "      <td>1</td>\n",
       "      <td>01/04/18</td>\n",
       "    </tr>\n",
       "    <tr>\n",
       "      <th>1</th>\n",
       "      <td>6820</td>\n",
       "      <td>12371370</td>\n",
       "      <td>1</td>\n",
       "      <td>01/04/18</td>\n",
       "    </tr>\n",
       "    <tr>\n",
       "      <th>2</th>\n",
       "      <td>6820</td>\n",
       "      <td>12973004</td>\n",
       "      <td>1</td>\n",
       "      <td>01/04/18</td>\n",
       "    </tr>\n",
       "    <tr>\n",
       "      <th>3</th>\n",
       "      <td>6820</td>\n",
       "      <td>12657560</td>\n",
       "      <td>1</td>\n",
       "      <td>01/04/18</td>\n",
       "    </tr>\n",
       "    <tr>\n",
       "      <th>4</th>\n",
       "      <td>6820</td>\n",
       "      <td>11659914</td>\n",
       "      <td>1</td>\n",
       "      <td>01/04/18</td>\n",
       "    </tr>\n",
       "  </tbody>\n",
       "</table>\n",
       "</div>"
      ],
      "text/plain": [
       "   UserId  productid  Quantity OrderDate\n",
       "0   18075   12322648         1  01/04/18\n",
       "1    6820   12371370         1  01/04/18\n",
       "2    6820   12973004         1  01/04/18\n",
       "3    6820   12657560         1  01/04/18\n",
       "4    6820   11659914         1  01/04/18"
      ]
     },
     "execution_count": 22,
     "metadata": {
      "tags": []
     },
     "output_type": "execute_result"
    }
   ],
   "source": [
    "train_df.head()"
   ]
  },
  {
   "cell_type": "code",
   "execution_count": 20,
   "metadata": {
    "colab": {
     "base_uri": "https://localhost:8080/",
     "height": 34
    },
    "colab_type": "code",
    "id": "GquwBGCy8t5E",
    "outputId": "18e58be9-9fba-49c1-c1ad-1d4f1cae8fe2"
   },
   "outputs": [
    {
     "data": {
      "text/plain": [
       "719"
      ]
     },
     "execution_count": 20,
     "metadata": {
      "tags": []
     },
     "output_type": "execute_result"
    }
   ],
   "source": [
    "len(set(train_df.groupby(['UserId'])['productid'].nunique()[(train_df.groupby(['UserId'])['productid'].nunique() == 1)].index.values).intersection(set(test_df['UserId'].values)))"
   ]
  },
  {
   "cell_type": "markdown",
   "metadata": {
    "colab_type": "text",
    "id": "dHA3VuNvazS2"
   },
   "source": [
    "719 users in test data has bought only one product so far."
   ]
  }
 ],
 "metadata": {
  "colab": {
   "collapsed_sections": [
    "eM34WmT8ugF9"
   ],
   "name": "analysis & data prep.ipynb",
   "provenance": [],
   "version": "0.3.2"
  },
  "kernelspec": {
   "display_name": "Python 3",
   "language": "python",
   "name": "python3"
  },
  "language_info": {
   "codemirror_mode": {
    "name": "ipython",
    "version": 3
   },
   "file_extension": ".py",
   "mimetype": "text/x-python",
   "name": "python",
   "nbconvert_exporter": "python",
   "pygments_lexer": "ipython3",
   "version": "3.6.5"
  }
 },
 "nbformat": 4,
 "nbformat_minor": 1
}
