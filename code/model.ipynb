{
  "cells": [
    {
      "metadata": {
        "_uuid": "e75a8f1ded9261b2e54933fc77bceb832905e482"
      },
      "cell_type": "markdown",
      "source": "Refference:\n\nhttps://www.analyticsvidhya.com/blog/2018/06/comprehensive-guide-recommendation-engine-python/\n\nhttps://medium.com/recombee-blog/machine-learning-for-recommender-systems-part-1-algorithms-evaluation-and-cold-start-6f696683d0ed"
    },
    {
      "metadata": {
        "_uuid": "8f2839f25d086af736a60e9eeb907d3b93b6e0e5",
        "_cell_guid": "b1076dfc-b9ad-4769-8c92-a6c4dae69d19",
        "trusted": true
      },
      "cell_type": "code",
      "source": "# This Python 3 environment comes with many helpful analytics libraries installed\n# It is defined by the kaggle/python docker image: https://github.com/kaggle/docker-python\n# For example, here's several helpful packages to load in \n\nimport numpy as np # linear algebra\nimport pandas as pd # data processing, CSV file I/O (e.g. pd.read_csv)\nimport matplotlib.pyplot as plt\n%matplotlib inline\nimport seaborn as sns\nnp.random.seed(0)\nfrom tqdm import tqdm, tqdm_notebook\ntqdm.pandas()\nimport gc\nfrom sklearn.metrics.pairwise import pairwise_distances, cosine_distances\n# Input data files are available in the \"../input/\" directory.\n# For example, running this (by clicking run or pressing Shift+Enter) will list the files in the input directory\nfrom IPython.display import FileLink\n\nimport os\nprint(os.listdir(\"../input\"))\n\n# Any results you write to the current directory are saved as output.",
      "execution_count": 1,
      "outputs": [
        {
          "output_type": "stream",
          "text": "['productid_attr.csv', 'train.csv', 'test.csv', 'img_features_DN121.csv']\n",
          "name": "stdout"
        }
      ]
    },
    {
      "metadata": {
        "_cell_guid": "79c7e3d0-c299-4dcb-8224-4455121ee9b0",
        "_uuid": "d629ff2d2480ee46fbb7e2d37f6b5fab8052498a",
        "trusted": true
      },
      "cell_type": "code",
      "source": "# Evaluaion Function\ndef apk(actual, predicted, k=10):\n    \"\"\"\n    Computes the average precision at k.\n    This function computes the average prescision at k between two lists of\n    items.\n    Parameters\n    ----------\n    actual : list\n             A list of elements that are to be predicted (order doesn't matter)\n    predicted : list\n                A list of predicted elements (order does matter)\n    k : int, optional\n        The maximum number of predicted elements\n    Returns\n    -------\n    score : double\n            The average precision at k over the input lists\n    \"\"\"\n    \n    actual = list(actual)\n    predicted = list(predicted)\n    \n    if len(predicted)>k:\n        predicted = predicted[:k]\n\n    score = 0.0\n    num_hits = 0.0\n\n    for i,p in enumerate(predicted):\n        if p in actual and p not in predicted[:i]:\n            num_hits += 1.0\n            score += num_hits / (i+1.0)\n            \n    if not actual:\n        return 0.0\n\n    return score / min(len(actual), k)\n\ndef mapk(actual, predicted, k=10):\n    \"\"\"\n    Computes the mean average precision at k.\n    This function computes the mean average prescision at k between two lists\n    of lists of items.\n    Parameters\n    ----------\n    actual : list\n             A list of lists of elements that are to be predicted \n             (order doesn't matter in the lists)\n    predicted : list\n                A list of lists of predicted elements\n                (order matters in the lists)\n    k : int, optional\n        The maximum number of predicted elements\n    Returns\n    -------\n    score : double\n            The mean average precision at k over the input lists\n    \"\"\"\n    return np.mean([apk(a,p,k) for a,p in zip(actual, predicted)])",
      "execution_count": 2,
      "outputs": []
    },
    {
      "metadata": {
        "trusted": true,
        "_uuid": "05270133abb80e428e3b5c79340ba294e6396f18"
      },
      "cell_type": "code",
      "source": "def show_all(df, nrow=None, ncol=None):\n    with pd.option_context('display.max_rows', nrow, 'display.max_columns', ncol):\n        display(df)",
      "execution_count": 3,
      "outputs": []
    },
    {
      "metadata": {
        "trusted": true,
        "_uuid": "aa212416d4314a1ea9a92010b793212464cad4e0"
      },
      "cell_type": "code",
      "source": "train_df = pd.read_csv('../input/train.csv')\ntest_df = pd.read_csv('../input/test.csv')",
      "execution_count": 4,
      "outputs": []
    },
    {
      "metadata": {
        "trusted": true,
        "_uuid": "191031efad55e4c2d0ffa4c1d745e8c8c871792e"
      },
      "cell_type": "code",
      "source": "pa_df = pd.read_csv('../input/productid_attr.csv')\nimg_feat_df = pd.read_csv('../input/img_features_DN121.csv')",
      "execution_count": 5,
      "outputs": []
    },
    {
      "metadata": {
        "_uuid": "a78a1863957843d8150e206895c48fb3ad7f879b"
      },
      "cell_type": "markdown",
      "source": "### Collaborative filtering"
    },
    {
      "metadata": {
        "trusted": true,
        "_uuid": "b612039954673d53aee72b8839f022f7dfead2d6"
      },
      "cell_type": "code",
      "source": "n_users = train_df['UserId'].nunique()\nn_products = train_df['productid'].nunique()",
      "execution_count": 6,
      "outputs": []
    },
    {
      "metadata": {
        "trusted": true,
        "_uuid": "af706f26d0e4f82d8e3d956365d12510c0e0acc9"
      },
      "cell_type": "code",
      "source": "data_matrix_df = pd.DataFrame(np.zeros((n_users, n_products)), index=sorted(train_df['UserId'].unique()), columns=sorted(train_df['productid'].unique()))",
      "execution_count": 7,
      "outputs": []
    },
    {
      "metadata": {
        "trusted": true,
        "_uuid": "6f35671aae22cfc43f6e1c4ed8e13024a3f774d5"
      },
      "cell_type": "code",
      "source": "data_matrix_df.head()",
      "execution_count": 8,
      "outputs": [
        {
          "output_type": "execute_result",
          "execution_count": 8,
          "data": {
            "text/plain": "   11139192  11139194  11139524    ...     14122834  14128359  14129477\n0       0.0       0.0       0.0    ...          0.0       0.0       0.0\n1       0.0       0.0       0.0    ...          0.0       0.0       0.0\n2       0.0       0.0       0.0    ...          0.0       0.0       0.0\n3       0.0       0.0       0.0    ...          0.0       0.0       0.0\n4       0.0       0.0       0.0    ...          0.0       0.0       0.0\n\n[5 rows x 3026 columns]",
            "text/html": "<div>\n<style scoped>\n    .dataframe tbody tr th:only-of-type {\n        vertical-align: middle;\n    }\n\n    .dataframe tbody tr th {\n        vertical-align: top;\n    }\n\n    .dataframe thead th {\n        text-align: right;\n    }\n</style>\n<table border=\"1\" class=\"dataframe\">\n  <thead>\n    <tr style=\"text-align: right;\">\n      <th></th>\n      <th>11139192</th>\n      <th>11139194</th>\n      <th>11139524</th>\n      <th>11139560</th>\n      <th>11139588</th>\n      <th>11139650</th>\n      <th>11141306</th>\n      <th>11141308</th>\n      <th>11141318</th>\n      <th>11141320</th>\n      <th>11141324</th>\n      <th>11141326</th>\n      <th>11141328</th>\n      <th>11141330</th>\n      <th>11141338</th>\n      <th>11141340</th>\n      <th>11141342</th>\n      <th>11141346</th>\n      <th>11141354</th>\n      <th>11141530</th>\n      <th>11141538</th>\n      <th>11141644</th>\n      <th>11144136</th>\n      <th>11144260</th>\n      <th>11145600</th>\n      <th>11145602</th>\n      <th>11145612</th>\n      <th>11145614</th>\n      <th>11145620</th>\n      <th>11145624</th>\n      <th>11145626</th>\n      <th>11145634</th>\n      <th>11145640</th>\n      <th>11145642</th>\n      <th>11145654</th>\n      <th>11145664</th>\n      <th>11145666</th>\n      <th>11145684</th>\n      <th>11145702</th>\n      <th>11145726</th>\n      <th>...</th>\n      <th>13773572</th>\n      <th>13773574</th>\n      <th>13773576</th>\n      <th>13773578</th>\n      <th>13773580</th>\n      <th>14101712</th>\n      <th>14104334</th>\n      <th>14110862</th>\n      <th>14110864</th>\n      <th>14110866</th>\n      <th>14110868</th>\n      <th>14121822</th>\n      <th>14121824</th>\n      <th>14121826</th>\n      <th>14121828</th>\n      <th>14121830</th>\n      <th>14121832</th>\n      <th>14121834</th>\n      <th>14121836</th>\n      <th>14121838</th>\n      <th>14121840</th>\n      <th>14121842</th>\n      <th>14121844</th>\n      <th>14121846</th>\n      <th>14121848</th>\n      <th>14122346</th>\n      <th>14122348</th>\n      <th>14122744</th>\n      <th>14122748</th>\n      <th>14122750</th>\n      <th>14122758</th>\n      <th>14122762</th>\n      <th>14122766</th>\n      <th>14122818</th>\n      <th>14122820</th>\n      <th>14122822</th>\n      <th>14122832</th>\n      <th>14122834</th>\n      <th>14128359</th>\n      <th>14129477</th>\n    </tr>\n  </thead>\n  <tbody>\n    <tr>\n      <th>0</th>\n      <td>0.0</td>\n      <td>0.0</td>\n      <td>0.0</td>\n      <td>0.0</td>\n      <td>0.0</td>\n      <td>0.0</td>\n      <td>0.0</td>\n      <td>0.0</td>\n      <td>0.0</td>\n      <td>0.0</td>\n      <td>0.0</td>\n      <td>0.0</td>\n      <td>0.0</td>\n      <td>0.0</td>\n      <td>0.0</td>\n      <td>0.0</td>\n      <td>0.0</td>\n      <td>0.0</td>\n      <td>0.0</td>\n      <td>0.0</td>\n      <td>0.0</td>\n      <td>0.0</td>\n      <td>0.0</td>\n      <td>0.0</td>\n      <td>0.0</td>\n      <td>0.0</td>\n      <td>0.0</td>\n      <td>0.0</td>\n      <td>0.0</td>\n      <td>0.0</td>\n      <td>0.0</td>\n      <td>0.0</td>\n      <td>0.0</td>\n      <td>0.0</td>\n      <td>0.0</td>\n      <td>0.0</td>\n      <td>0.0</td>\n      <td>0.0</td>\n      <td>0.0</td>\n      <td>0.0</td>\n      <td>...</td>\n      <td>0.0</td>\n      <td>0.0</td>\n      <td>0.0</td>\n      <td>0.0</td>\n      <td>0.0</td>\n      <td>0.0</td>\n      <td>0.0</td>\n      <td>0.0</td>\n      <td>0.0</td>\n      <td>0.0</td>\n      <td>0.0</td>\n      <td>0.0</td>\n      <td>0.0</td>\n      <td>0.0</td>\n      <td>0.0</td>\n      <td>0.0</td>\n      <td>0.0</td>\n      <td>0.0</td>\n      <td>0.0</td>\n      <td>0.0</td>\n      <td>0.0</td>\n      <td>0.0</td>\n      <td>0.0</td>\n      <td>0.0</td>\n      <td>0.0</td>\n      <td>0.0</td>\n      <td>0.0</td>\n      <td>0.0</td>\n      <td>0.0</td>\n      <td>0.0</td>\n      <td>0.0</td>\n      <td>0.0</td>\n      <td>0.0</td>\n      <td>0.0</td>\n      <td>0.0</td>\n      <td>0.0</td>\n      <td>0.0</td>\n      <td>0.0</td>\n      <td>0.0</td>\n      <td>0.0</td>\n    </tr>\n    <tr>\n      <th>1</th>\n      <td>0.0</td>\n      <td>0.0</td>\n      <td>0.0</td>\n      <td>0.0</td>\n      <td>0.0</td>\n      <td>0.0</td>\n      <td>0.0</td>\n      <td>0.0</td>\n      <td>0.0</td>\n      <td>0.0</td>\n      <td>0.0</td>\n      <td>0.0</td>\n      <td>0.0</td>\n      <td>0.0</td>\n      <td>0.0</td>\n      <td>0.0</td>\n      <td>0.0</td>\n      <td>0.0</td>\n      <td>0.0</td>\n      <td>0.0</td>\n      <td>0.0</td>\n      <td>0.0</td>\n      <td>0.0</td>\n      <td>0.0</td>\n      <td>0.0</td>\n      <td>0.0</td>\n      <td>0.0</td>\n      <td>0.0</td>\n      <td>0.0</td>\n      <td>0.0</td>\n      <td>0.0</td>\n      <td>0.0</td>\n      <td>0.0</td>\n      <td>0.0</td>\n      <td>0.0</td>\n      <td>0.0</td>\n      <td>0.0</td>\n      <td>0.0</td>\n      <td>0.0</td>\n      <td>0.0</td>\n      <td>...</td>\n      <td>0.0</td>\n      <td>0.0</td>\n      <td>0.0</td>\n      <td>0.0</td>\n      <td>0.0</td>\n      <td>0.0</td>\n      <td>0.0</td>\n      <td>0.0</td>\n      <td>0.0</td>\n      <td>0.0</td>\n      <td>0.0</td>\n      <td>0.0</td>\n      <td>0.0</td>\n      <td>0.0</td>\n      <td>0.0</td>\n      <td>0.0</td>\n      <td>0.0</td>\n      <td>0.0</td>\n      <td>0.0</td>\n      <td>0.0</td>\n      <td>0.0</td>\n      <td>0.0</td>\n      <td>0.0</td>\n      <td>0.0</td>\n      <td>0.0</td>\n      <td>0.0</td>\n      <td>0.0</td>\n      <td>0.0</td>\n      <td>0.0</td>\n      <td>0.0</td>\n      <td>0.0</td>\n      <td>0.0</td>\n      <td>0.0</td>\n      <td>0.0</td>\n      <td>0.0</td>\n      <td>0.0</td>\n      <td>0.0</td>\n      <td>0.0</td>\n      <td>0.0</td>\n      <td>0.0</td>\n    </tr>\n    <tr>\n      <th>2</th>\n      <td>0.0</td>\n      <td>0.0</td>\n      <td>0.0</td>\n      <td>0.0</td>\n      <td>0.0</td>\n      <td>0.0</td>\n      <td>0.0</td>\n      <td>0.0</td>\n      <td>0.0</td>\n      <td>0.0</td>\n      <td>0.0</td>\n      <td>0.0</td>\n      <td>0.0</td>\n      <td>0.0</td>\n      <td>0.0</td>\n      <td>0.0</td>\n      <td>0.0</td>\n      <td>0.0</td>\n      <td>0.0</td>\n      <td>0.0</td>\n      <td>0.0</td>\n      <td>0.0</td>\n      <td>0.0</td>\n      <td>0.0</td>\n      <td>0.0</td>\n      <td>0.0</td>\n      <td>0.0</td>\n      <td>0.0</td>\n      <td>0.0</td>\n      <td>0.0</td>\n      <td>0.0</td>\n      <td>0.0</td>\n      <td>0.0</td>\n      <td>0.0</td>\n      <td>0.0</td>\n      <td>0.0</td>\n      <td>0.0</td>\n      <td>0.0</td>\n      <td>0.0</td>\n      <td>0.0</td>\n      <td>...</td>\n      <td>0.0</td>\n      <td>0.0</td>\n      <td>0.0</td>\n      <td>0.0</td>\n      <td>0.0</td>\n      <td>0.0</td>\n      <td>0.0</td>\n      <td>0.0</td>\n      <td>0.0</td>\n      <td>0.0</td>\n      <td>0.0</td>\n      <td>0.0</td>\n      <td>0.0</td>\n      <td>0.0</td>\n      <td>0.0</td>\n      <td>0.0</td>\n      <td>0.0</td>\n      <td>0.0</td>\n      <td>0.0</td>\n      <td>0.0</td>\n      <td>0.0</td>\n      <td>0.0</td>\n      <td>0.0</td>\n      <td>0.0</td>\n      <td>0.0</td>\n      <td>0.0</td>\n      <td>0.0</td>\n      <td>0.0</td>\n      <td>0.0</td>\n      <td>0.0</td>\n      <td>0.0</td>\n      <td>0.0</td>\n      <td>0.0</td>\n      <td>0.0</td>\n      <td>0.0</td>\n      <td>0.0</td>\n      <td>0.0</td>\n      <td>0.0</td>\n      <td>0.0</td>\n      <td>0.0</td>\n    </tr>\n    <tr>\n      <th>3</th>\n      <td>0.0</td>\n      <td>0.0</td>\n      <td>0.0</td>\n      <td>0.0</td>\n      <td>0.0</td>\n      <td>0.0</td>\n      <td>0.0</td>\n      <td>0.0</td>\n      <td>0.0</td>\n      <td>0.0</td>\n      <td>0.0</td>\n      <td>0.0</td>\n      <td>0.0</td>\n      <td>0.0</td>\n      <td>0.0</td>\n      <td>0.0</td>\n      <td>0.0</td>\n      <td>0.0</td>\n      <td>0.0</td>\n      <td>0.0</td>\n      <td>0.0</td>\n      <td>0.0</td>\n      <td>0.0</td>\n      <td>0.0</td>\n      <td>0.0</td>\n      <td>0.0</td>\n      <td>0.0</td>\n      <td>0.0</td>\n      <td>0.0</td>\n      <td>0.0</td>\n      <td>0.0</td>\n      <td>0.0</td>\n      <td>0.0</td>\n      <td>0.0</td>\n      <td>0.0</td>\n      <td>0.0</td>\n      <td>0.0</td>\n      <td>0.0</td>\n      <td>0.0</td>\n      <td>0.0</td>\n      <td>...</td>\n      <td>0.0</td>\n      <td>0.0</td>\n      <td>0.0</td>\n      <td>0.0</td>\n      <td>0.0</td>\n      <td>0.0</td>\n      <td>0.0</td>\n      <td>0.0</td>\n      <td>0.0</td>\n      <td>0.0</td>\n      <td>0.0</td>\n      <td>0.0</td>\n      <td>0.0</td>\n      <td>0.0</td>\n      <td>0.0</td>\n      <td>0.0</td>\n      <td>0.0</td>\n      <td>0.0</td>\n      <td>0.0</td>\n      <td>0.0</td>\n      <td>0.0</td>\n      <td>0.0</td>\n      <td>0.0</td>\n      <td>0.0</td>\n      <td>0.0</td>\n      <td>0.0</td>\n      <td>0.0</td>\n      <td>0.0</td>\n      <td>0.0</td>\n      <td>0.0</td>\n      <td>0.0</td>\n      <td>0.0</td>\n      <td>0.0</td>\n      <td>0.0</td>\n      <td>0.0</td>\n      <td>0.0</td>\n      <td>0.0</td>\n      <td>0.0</td>\n      <td>0.0</td>\n      <td>0.0</td>\n    </tr>\n    <tr>\n      <th>4</th>\n      <td>0.0</td>\n      <td>0.0</td>\n      <td>0.0</td>\n      <td>0.0</td>\n      <td>0.0</td>\n      <td>0.0</td>\n      <td>0.0</td>\n      <td>0.0</td>\n      <td>0.0</td>\n      <td>0.0</td>\n      <td>0.0</td>\n      <td>0.0</td>\n      <td>0.0</td>\n      <td>0.0</td>\n      <td>0.0</td>\n      <td>0.0</td>\n      <td>0.0</td>\n      <td>0.0</td>\n      <td>0.0</td>\n      <td>0.0</td>\n      <td>0.0</td>\n      <td>0.0</td>\n      <td>0.0</td>\n      <td>0.0</td>\n      <td>0.0</td>\n      <td>0.0</td>\n      <td>0.0</td>\n      <td>0.0</td>\n      <td>0.0</td>\n      <td>0.0</td>\n      <td>0.0</td>\n      <td>0.0</td>\n      <td>0.0</td>\n      <td>0.0</td>\n      <td>0.0</td>\n      <td>0.0</td>\n      <td>0.0</td>\n      <td>0.0</td>\n      <td>0.0</td>\n      <td>0.0</td>\n      <td>...</td>\n      <td>0.0</td>\n      <td>0.0</td>\n      <td>0.0</td>\n      <td>0.0</td>\n      <td>0.0</td>\n      <td>0.0</td>\n      <td>0.0</td>\n      <td>0.0</td>\n      <td>0.0</td>\n      <td>0.0</td>\n      <td>0.0</td>\n      <td>0.0</td>\n      <td>0.0</td>\n      <td>0.0</td>\n      <td>0.0</td>\n      <td>0.0</td>\n      <td>0.0</td>\n      <td>0.0</td>\n      <td>0.0</td>\n      <td>0.0</td>\n      <td>0.0</td>\n      <td>0.0</td>\n      <td>0.0</td>\n      <td>0.0</td>\n      <td>0.0</td>\n      <td>0.0</td>\n      <td>0.0</td>\n      <td>0.0</td>\n      <td>0.0</td>\n      <td>0.0</td>\n      <td>0.0</td>\n      <td>0.0</td>\n      <td>0.0</td>\n      <td>0.0</td>\n      <td>0.0</td>\n      <td>0.0</td>\n      <td>0.0</td>\n      <td>0.0</td>\n      <td>0.0</td>\n      <td>0.0</td>\n    </tr>\n  </tbody>\n</table>\n</div>"
          },
          "metadata": {}
        }
      ]
    },
    {
      "metadata": {
        "trusted": true,
        "_uuid": "eaed0e4f55c5d0f17a43fd8ad785c0abd57209b7"
      },
      "cell_type": "code",
      "source": "%%time\nfor i, line in train_df.iterrows():\n    data_matrix_df.loc[line['UserId'], line['productid']] = data_matrix_df.loc[line['UserId'], line['productid']] + line['Quantity']",
      "execution_count": 9,
      "outputs": [
        {
          "output_type": "stream",
          "text": "CPU times: user 51 s, sys: 472 ms, total: 51.4 s\nWall time: 51.4 s\n",
          "name": "stdout"
        }
      ]
    },
    {
      "metadata": {
        "trusted": true,
        "_uuid": "dbf26e6805ab413af88b0e223c33035ad750e3b9"
      },
      "cell_type": "code",
      "source": "data_matrix_df.info()",
      "execution_count": 10,
      "outputs": [
        {
          "output_type": "stream",
          "text": "<class 'pandas.core.frame.DataFrame'>\nInt64Index: 27778 entries, 0 to 27777\nColumns: 3026 entries, 11139192 to 14129477\ndtypes: float64(3026)\nmemory usage: 642.8 MB\n",
          "name": "stdout"
        }
      ]
    },
    {
      "metadata": {
        "trusted": true,
        "_uuid": "91392f79f9708fdd562eb044f653ddfa2e4f0816"
      },
      "cell_type": "code",
      "source": "%%time\nuser_similarity = pairwise_distances(data_matrix_df, metric='cosine')",
      "execution_count": 11,
      "outputs": [
        {
          "output_type": "stream",
          "text": "CPU times: user 4min 56s, sys: 8.45 s, total: 5min 4s\nWall time: 1min 24s\n",
          "name": "stdout"
        }
      ]
    },
    {
      "metadata": {
        "trusted": true,
        "_uuid": "3ba7ef572a20d44978a800d6152e7a730198c09b"
      },
      "cell_type": "code",
      "source": "user_similarity_df = pd.DataFrame(user_similarity, index=data_matrix_df.index.values, columns=data_matrix_df.index.values)",
      "execution_count": 12,
      "outputs": []
    },
    {
      "metadata": {
        "trusted": true,
        "_uuid": "458c768e0766666cae630f409393556547c71c69"
      },
      "cell_type": "code",
      "source": "# we are getting similarity, higher is better\nuser_similarity_df = 1 - user_similarity_df",
      "execution_count": 13,
      "outputs": []
    },
    {
      "metadata": {
        "trusted": true,
        "_uuid": "3e8cf5b161c8c7acaea3b11c739a26b9113b089d"
      },
      "cell_type": "code",
      "source": "user_similarity_df.info()",
      "execution_count": 14,
      "outputs": [
        {
          "output_type": "stream",
          "text": "<class 'pandas.core.frame.DataFrame'>\nInt64Index: 27778 entries, 0 to 27777\nColumns: 27778 entries, 0 to 27777\ndtypes: float64(27778)\nmemory usage: 5.7 GB\n",
          "name": "stdout"
        }
      ]
    },
    {
      "metadata": {
        "trusted": true,
        "_uuid": "bb6efb1f7e70a298ad3d8979a4de5190a050a3df"
      },
      "cell_type": "code",
      "source": "del user_similarity\ngc.collect()",
      "execution_count": 15,
      "outputs": [
        {
          "output_type": "execute_result",
          "execution_count": 15,
          "data": {
            "text/plain": "7"
          },
          "metadata": {}
        }
      ]
    },
    {
      "metadata": {
        "trusted": true,
        "_uuid": "c2a6bbe21a9df777ad1a5bb7789396ac541d4276"
      },
      "cell_type": "code",
      "source": "%%time\nproduct_similarity = pairwise_distances(data_matrix_df.transpose(), metric='cosine')",
      "execution_count": 16,
      "outputs": [
        {
          "output_type": "stream",
          "text": "CPU times: user 33.9 s, sys: 1.34 s, total: 35.2 s\nWall time: 10.2 s\n",
          "name": "stdout"
        }
      ]
    },
    {
      "metadata": {
        "trusted": true,
        "_uuid": "b8fd5b8a17cbd48d8f8bdfeab527314fc57c19ba"
      },
      "cell_type": "code",
      "source": "product_similarity_df = pd.DataFrame(product_similarity, index=data_matrix_df.columns.values, columns=data_matrix_df.columns.values)",
      "execution_count": 17,
      "outputs": []
    },
    {
      "metadata": {
        "trusted": true,
        "_uuid": "3db6612d64aca3034c736d6cba741ea96ef6484c"
      },
      "cell_type": "code",
      "source": "# we are getting similarity, higher is better\nproduct_similarity_df = 1 - product_similarity_df",
      "execution_count": 18,
      "outputs": []
    },
    {
      "metadata": {
        "trusted": true,
        "_uuid": "1e87374d0e828271f479e046ff49e903ed961f53"
      },
      "cell_type": "code",
      "source": "product_similarity_df.info()",
      "execution_count": 19,
      "outputs": [
        {
          "output_type": "stream",
          "text": "<class 'pandas.core.frame.DataFrame'>\nInt64Index: 3026 entries, 11139192 to 14129477\nColumns: 3026 entries, 11139192 to 14129477\ndtypes: float64(3026)\nmemory usage: 69.9 MB\n",
          "name": "stdout"
        }
      ]
    },
    {
      "metadata": {
        "trusted": true,
        "_uuid": "466e1c172096a9668e510705ea3a90bddbef77e7"
      },
      "cell_type": "code",
      "source": "del product_similarity\ngc.collect()",
      "execution_count": 20,
      "outputs": [
        {
          "output_type": "execute_result",
          "execution_count": 20,
          "data": {
            "text/plain": "7"
          },
          "metadata": {}
        }
      ]
    },
    {
      "metadata": {
        "trusted": true,
        "_uuid": "68fe6be2a148bf18568eb0455e46a6d639e4ffe9"
      },
      "cell_type": "code",
      "source": "# Collaborative filtering, based on user similarity and product similarity\ndef predict(user_quantity, similarity, type='user'):\n    if type == 'user':\n        mean_user_quantity = user_quantity.mean(axis=1)\n        #We use np.newaxis so that mean_user_quantity has same format as user_quantity\n        quantity_diff = (user_quantity - mean_user_quantity[:, np.newaxis])\n        pred = mean_user_quantity[:, np.newaxis] + similarity.dot(quantity_diff) / np.array([np.abs(similarity).sum(axis=1)]).T\n    elif type == 'item':\n        pred = user_quantity.dot(similarity) / np.array([np.abs(similarity).sum(axis=1)])\n    return pred",
      "execution_count": 21,
      "outputs": []
    },
    {
      "metadata": {
        "_uuid": "f2492c8b5fd88a06d215b49bc1e407a4e5c0630a"
      },
      "cell_type": "markdown",
      "source": "#### Item similarity based Collaborative filtering"
    },
    {
      "metadata": {
        "trusted": true,
        "_uuid": "1eafd0422443607c5f60933c613eb092c2ddc642"
      },
      "cell_type": "code",
      "source": "%%time\nitem_prediction = predict(data_matrix_df.values, product_similarity_df.values, type='item')",
      "execution_count": 22,
      "outputs": [
        {
          "output_type": "stream",
          "text": "CPU times: user 32.5 s, sys: 1.69 s, total: 34.1 s\nWall time: 9.23 s\n",
          "name": "stdout"
        }
      ]
    },
    {
      "metadata": {
        "trusted": true,
        "_uuid": "bea7749d3a9bed1f73774518415125d1bcdd52f9"
      },
      "cell_type": "code",
      "source": "item_prediction_df = pd.DataFrame(item_prediction, index=data_matrix_df.index.values, columns=data_matrix_df.columns.values)",
      "execution_count": 23,
      "outputs": []
    },
    {
      "metadata": {
        "trusted": true,
        "_uuid": "a3af731e366a29379b7e2f6e8b15b0281621c1d3"
      },
      "cell_type": "code",
      "source": "del item_prediction\ngc.collect()",
      "execution_count": 24,
      "outputs": [
        {
          "output_type": "execute_result",
          "execution_count": 24,
          "data": {
            "text/plain": "0"
          },
          "metadata": {}
        }
      ]
    },
    {
      "metadata": {
        "trusted": true,
        "_uuid": "4eadd94eec05b9c1c9664380acdd39a119b83b23"
      },
      "cell_type": "code",
      "source": "item_prediction_df.shape",
      "execution_count": 25,
      "outputs": [
        {
          "output_type": "execute_result",
          "execution_count": 25,
          "data": {
            "text/plain": "(27778, 3026)"
          },
          "metadata": {}
        }
      ]
    },
    {
      "metadata": {
        "trusted": true,
        "_uuid": "da657524524af6fcd7c5f3a68ec7dc2dfc4042c3"
      },
      "cell_type": "code",
      "source": "# prediction\nitem_prediction_df.head()",
      "execution_count": 40,
      "outputs": [
        {
          "output_type": "execute_result",
          "execution_count": 40,
          "data": {
            "text/plain": "   11139192  11139194  11139524    ...     14122834  14128359  14129477\n0  0.000450  0.000450  0.000450    ...     0.000450  0.000450  0.000450\n1  0.000456  0.000456  0.000456    ...     0.000456  0.000456  0.000456\n2  0.000390  0.000390  0.000390    ...     0.000390  0.000390  0.000390\n3  0.007118  0.007121  0.007121    ...     0.007116  0.007121  0.007123\n4  0.000450  0.000450  0.000450    ...     0.000449  0.000450  0.000450\n\n[5 rows x 3026 columns]",
            "text/html": "<div>\n<style scoped>\n    .dataframe tbody tr th:only-of-type {\n        vertical-align: middle;\n    }\n\n    .dataframe tbody tr th {\n        vertical-align: top;\n    }\n\n    .dataframe thead th {\n        text-align: right;\n    }\n</style>\n<table border=\"1\" class=\"dataframe\">\n  <thead>\n    <tr style=\"text-align: right;\">\n      <th></th>\n      <th>11139192</th>\n      <th>11139194</th>\n      <th>11139524</th>\n      <th>11139560</th>\n      <th>11139588</th>\n      <th>11139650</th>\n      <th>11141306</th>\n      <th>11141308</th>\n      <th>11141318</th>\n      <th>11141320</th>\n      <th>11141324</th>\n      <th>11141326</th>\n      <th>11141328</th>\n      <th>11141330</th>\n      <th>11141338</th>\n      <th>11141340</th>\n      <th>11141342</th>\n      <th>11141346</th>\n      <th>11141354</th>\n      <th>11141530</th>\n      <th>11141538</th>\n      <th>11141644</th>\n      <th>11144136</th>\n      <th>11144260</th>\n      <th>11145600</th>\n      <th>11145602</th>\n      <th>11145612</th>\n      <th>11145614</th>\n      <th>11145620</th>\n      <th>11145624</th>\n      <th>11145626</th>\n      <th>11145634</th>\n      <th>11145640</th>\n      <th>11145642</th>\n      <th>11145654</th>\n      <th>11145664</th>\n      <th>11145666</th>\n      <th>11145684</th>\n      <th>11145702</th>\n      <th>11145726</th>\n      <th>...</th>\n      <th>13773572</th>\n      <th>13773574</th>\n      <th>13773576</th>\n      <th>13773578</th>\n      <th>13773580</th>\n      <th>14101712</th>\n      <th>14104334</th>\n      <th>14110862</th>\n      <th>14110864</th>\n      <th>14110866</th>\n      <th>14110868</th>\n      <th>14121822</th>\n      <th>14121824</th>\n      <th>14121826</th>\n      <th>14121828</th>\n      <th>14121830</th>\n      <th>14121832</th>\n      <th>14121834</th>\n      <th>14121836</th>\n      <th>14121838</th>\n      <th>14121840</th>\n      <th>14121842</th>\n      <th>14121844</th>\n      <th>14121846</th>\n      <th>14121848</th>\n      <th>14122346</th>\n      <th>14122348</th>\n      <th>14122744</th>\n      <th>14122748</th>\n      <th>14122750</th>\n      <th>14122758</th>\n      <th>14122762</th>\n      <th>14122766</th>\n      <th>14122818</th>\n      <th>14122820</th>\n      <th>14122822</th>\n      <th>14122832</th>\n      <th>14122834</th>\n      <th>14128359</th>\n      <th>14129477</th>\n    </tr>\n  </thead>\n  <tbody>\n    <tr>\n      <th>0</th>\n      <td>0.000450</td>\n      <td>0.000450</td>\n      <td>0.000450</td>\n      <td>0.000450</td>\n      <td>0.000449</td>\n      <td>0.000450</td>\n      <td>0.000449</td>\n      <td>0.000000</td>\n      <td>0.0</td>\n      <td>0.000449</td>\n      <td>0.000449</td>\n      <td>0.000447</td>\n      <td>0.000448</td>\n      <td>0.000449</td>\n      <td>0.000449</td>\n      <td>0.0</td>\n      <td>0.000449</td>\n      <td>0.000450</td>\n      <td>0.0</td>\n      <td>0.000449</td>\n      <td>0.000450</td>\n      <td>0.000449</td>\n      <td>0.000450</td>\n      <td>0.000446</td>\n      <td>0.000450</td>\n      <td>0.000450</td>\n      <td>0.000450</td>\n      <td>0.000450</td>\n      <td>0.000450</td>\n      <td>0.000449</td>\n      <td>0.000449</td>\n      <td>0.000450</td>\n      <td>0.000450</td>\n      <td>0.000450</td>\n      <td>0.000450</td>\n      <td>0.000450</td>\n      <td>0.000450</td>\n      <td>0.000450</td>\n      <td>0.0</td>\n      <td>0.000450</td>\n      <td>...</td>\n      <td>0.000450</td>\n      <td>0.000450</td>\n      <td>0.000450</td>\n      <td>0.000450</td>\n      <td>0.000450</td>\n      <td>0.000450</td>\n      <td>0.0</td>\n      <td>0.000449</td>\n      <td>0.000443</td>\n      <td>0.000450</td>\n      <td>0.000450</td>\n      <td>0.000449</td>\n      <td>0.000450</td>\n      <td>0.000450</td>\n      <td>0.000449</td>\n      <td>0.000450</td>\n      <td>0.000448</td>\n      <td>0.000450</td>\n      <td>0.000450</td>\n      <td>0.000450</td>\n      <td>0.000450</td>\n      <td>0.000450</td>\n      <td>0.000450</td>\n      <td>0.000443</td>\n      <td>0.0</td>\n      <td>0.0</td>\n      <td>0.000450</td>\n      <td>0.000457</td>\n      <td>0.000446</td>\n      <td>0.000447</td>\n      <td>0.0</td>\n      <td>0.000450</td>\n      <td>0.0</td>\n      <td>0.000449</td>\n      <td>0.000450</td>\n      <td>0.000449</td>\n      <td>0.000450</td>\n      <td>0.000450</td>\n      <td>0.000450</td>\n      <td>0.000450</td>\n    </tr>\n    <tr>\n      <th>1</th>\n      <td>0.000456</td>\n      <td>0.000456</td>\n      <td>0.000456</td>\n      <td>0.000456</td>\n      <td>0.000456</td>\n      <td>0.000456</td>\n      <td>0.000455</td>\n      <td>0.000000</td>\n      <td>0.0</td>\n      <td>0.000455</td>\n      <td>0.000456</td>\n      <td>0.000453</td>\n      <td>0.000455</td>\n      <td>0.000456</td>\n      <td>0.000455</td>\n      <td>0.0</td>\n      <td>0.000456</td>\n      <td>0.000456</td>\n      <td>0.0</td>\n      <td>0.000455</td>\n      <td>0.000456</td>\n      <td>0.000456</td>\n      <td>0.000456</td>\n      <td>0.000455</td>\n      <td>0.000456</td>\n      <td>0.000456</td>\n      <td>0.000456</td>\n      <td>0.000456</td>\n      <td>0.000456</td>\n      <td>0.000455</td>\n      <td>0.000455</td>\n      <td>0.000456</td>\n      <td>0.000456</td>\n      <td>0.000456</td>\n      <td>0.000456</td>\n      <td>0.000456</td>\n      <td>0.000456</td>\n      <td>0.000456</td>\n      <td>0.0</td>\n      <td>0.000456</td>\n      <td>...</td>\n      <td>0.000456</td>\n      <td>0.000454</td>\n      <td>0.000456</td>\n      <td>0.000456</td>\n      <td>0.000456</td>\n      <td>0.000456</td>\n      <td>0.0</td>\n      <td>0.000455</td>\n      <td>0.000449</td>\n      <td>0.000456</td>\n      <td>0.000456</td>\n      <td>0.000455</td>\n      <td>0.000456</td>\n      <td>0.000456</td>\n      <td>0.000455</td>\n      <td>0.000456</td>\n      <td>0.000455</td>\n      <td>0.000456</td>\n      <td>0.000456</td>\n      <td>0.000456</td>\n      <td>0.000456</td>\n      <td>0.000456</td>\n      <td>0.000456</td>\n      <td>0.000450</td>\n      <td>0.0</td>\n      <td>0.0</td>\n      <td>0.000456</td>\n      <td>0.000451</td>\n      <td>0.000452</td>\n      <td>0.000453</td>\n      <td>0.0</td>\n      <td>0.000456</td>\n      <td>0.0</td>\n      <td>0.000455</td>\n      <td>0.000456</td>\n      <td>0.000451</td>\n      <td>0.000456</td>\n      <td>0.000456</td>\n      <td>0.000456</td>\n      <td>0.000456</td>\n    </tr>\n    <tr>\n      <th>2</th>\n      <td>0.000390</td>\n      <td>0.000390</td>\n      <td>0.000390</td>\n      <td>0.000390</td>\n      <td>0.000389</td>\n      <td>0.000390</td>\n      <td>0.000389</td>\n      <td>0.000000</td>\n      <td>0.0</td>\n      <td>0.000389</td>\n      <td>0.000389</td>\n      <td>0.000388</td>\n      <td>0.000389</td>\n      <td>0.000390</td>\n      <td>0.000389</td>\n      <td>0.0</td>\n      <td>0.000389</td>\n      <td>0.000390</td>\n      <td>0.0</td>\n      <td>0.000389</td>\n      <td>0.000390</td>\n      <td>0.000390</td>\n      <td>0.000390</td>\n      <td>0.000386</td>\n      <td>0.000390</td>\n      <td>0.000390</td>\n      <td>0.000390</td>\n      <td>0.000390</td>\n      <td>0.000390</td>\n      <td>0.000454</td>\n      <td>0.000389</td>\n      <td>0.000390</td>\n      <td>0.000390</td>\n      <td>0.000390</td>\n      <td>0.000390</td>\n      <td>0.000390</td>\n      <td>0.000390</td>\n      <td>0.000390</td>\n      <td>0.0</td>\n      <td>0.000390</td>\n      <td>...</td>\n      <td>0.000393</td>\n      <td>0.000399</td>\n      <td>0.000390</td>\n      <td>0.000390</td>\n      <td>0.000390</td>\n      <td>0.000390</td>\n      <td>0.0</td>\n      <td>0.000389</td>\n      <td>0.000384</td>\n      <td>0.000390</td>\n      <td>0.000390</td>\n      <td>0.000389</td>\n      <td>0.000390</td>\n      <td>0.000390</td>\n      <td>0.000389</td>\n      <td>0.000390</td>\n      <td>0.000389</td>\n      <td>0.000390</td>\n      <td>0.000390</td>\n      <td>0.000390</td>\n      <td>0.000390</td>\n      <td>0.000390</td>\n      <td>0.000390</td>\n      <td>0.000384</td>\n      <td>0.0</td>\n      <td>0.0</td>\n      <td>0.000390</td>\n      <td>0.000386</td>\n      <td>0.000387</td>\n      <td>0.000388</td>\n      <td>0.0</td>\n      <td>0.000390</td>\n      <td>0.0</td>\n      <td>0.000389</td>\n      <td>0.000390</td>\n      <td>0.000386</td>\n      <td>0.000390</td>\n      <td>0.000390</td>\n      <td>0.000390</td>\n      <td>0.000390</td>\n    </tr>\n    <tr>\n      <th>3</th>\n      <td>0.007118</td>\n      <td>0.007121</td>\n      <td>0.007121</td>\n      <td>0.007112</td>\n      <td>0.007109</td>\n      <td>0.007120</td>\n      <td>0.007122</td>\n      <td>0.050079</td>\n      <td>0.0</td>\n      <td>0.007106</td>\n      <td>0.007109</td>\n      <td>0.007073</td>\n      <td>0.007117</td>\n      <td>0.007122</td>\n      <td>0.007105</td>\n      <td>0.0</td>\n      <td>0.007101</td>\n      <td>0.007118</td>\n      <td>0.0</td>\n      <td>0.007096</td>\n      <td>0.007128</td>\n      <td>0.007110</td>\n      <td>0.007123</td>\n      <td>0.007053</td>\n      <td>0.007125</td>\n      <td>0.007119</td>\n      <td>0.007123</td>\n      <td>0.007122</td>\n      <td>0.007123</td>\n      <td>0.007097</td>\n      <td>0.007100</td>\n      <td>0.007120</td>\n      <td>0.007119</td>\n      <td>0.007119</td>\n      <td>0.007118</td>\n      <td>0.007141</td>\n      <td>0.007118</td>\n      <td>0.007146</td>\n      <td>0.0</td>\n      <td>0.007119</td>\n      <td>...</td>\n      <td>0.007126</td>\n      <td>0.007126</td>\n      <td>0.007116</td>\n      <td>0.007114</td>\n      <td>0.007122</td>\n      <td>0.007120</td>\n      <td>0.0</td>\n      <td>0.007108</td>\n      <td>0.007010</td>\n      <td>0.007118</td>\n      <td>0.007116</td>\n      <td>0.007103</td>\n      <td>0.007119</td>\n      <td>0.007126</td>\n      <td>0.007106</td>\n      <td>0.007118</td>\n      <td>0.007094</td>\n      <td>0.007118</td>\n      <td>0.007118</td>\n      <td>0.007119</td>\n      <td>0.007121</td>\n      <td>0.007116</td>\n      <td>0.007121</td>\n      <td>0.007016</td>\n      <td>0.0</td>\n      <td>0.0</td>\n      <td>0.007123</td>\n      <td>0.007039</td>\n      <td>0.007057</td>\n      <td>0.007074</td>\n      <td>0.0</td>\n      <td>0.007121</td>\n      <td>0.0</td>\n      <td>0.007098</td>\n      <td>0.007120</td>\n      <td>0.007043</td>\n      <td>0.007117</td>\n      <td>0.007116</td>\n      <td>0.007121</td>\n      <td>0.007123</td>\n    </tr>\n    <tr>\n      <th>4</th>\n      <td>0.000450</td>\n      <td>0.000450</td>\n      <td>0.000450</td>\n      <td>0.000461</td>\n      <td>0.000449</td>\n      <td>0.000450</td>\n      <td>0.000449</td>\n      <td>0.000000</td>\n      <td>0.0</td>\n      <td>0.000449</td>\n      <td>0.000449</td>\n      <td>0.000447</td>\n      <td>0.000448</td>\n      <td>0.000449</td>\n      <td>0.000449</td>\n      <td>0.0</td>\n      <td>0.000448</td>\n      <td>0.000449</td>\n      <td>0.0</td>\n      <td>0.000448</td>\n      <td>0.000450</td>\n      <td>0.000449</td>\n      <td>0.000450</td>\n      <td>0.000445</td>\n      <td>0.000450</td>\n      <td>0.000450</td>\n      <td>0.000450</td>\n      <td>0.000450</td>\n      <td>0.000450</td>\n      <td>0.000451</td>\n      <td>0.000448</td>\n      <td>0.000453</td>\n      <td>0.000450</td>\n      <td>0.000450</td>\n      <td>0.000450</td>\n      <td>0.000449</td>\n      <td>0.000450</td>\n      <td>0.000449</td>\n      <td>0.0</td>\n      <td>0.000450</td>\n      <td>...</td>\n      <td>0.000449</td>\n      <td>0.000455</td>\n      <td>0.000450</td>\n      <td>0.000449</td>\n      <td>0.000450</td>\n      <td>0.000449</td>\n      <td>0.0</td>\n      <td>0.000449</td>\n      <td>0.000443</td>\n      <td>0.000450</td>\n      <td>0.000450</td>\n      <td>0.000449</td>\n      <td>0.000450</td>\n      <td>0.000450</td>\n      <td>0.000458</td>\n      <td>0.000450</td>\n      <td>0.000450</td>\n      <td>0.000450</td>\n      <td>0.000450</td>\n      <td>0.000450</td>\n      <td>0.000450</td>\n      <td>0.000449</td>\n      <td>0.000450</td>\n      <td>0.000449</td>\n      <td>0.0</td>\n      <td>0.0</td>\n      <td>0.000450</td>\n      <td>0.000445</td>\n      <td>0.000446</td>\n      <td>0.000447</td>\n      <td>0.0</td>\n      <td>0.000450</td>\n      <td>0.0</td>\n      <td>0.000448</td>\n      <td>0.000450</td>\n      <td>0.000445</td>\n      <td>0.000449</td>\n      <td>0.000449</td>\n      <td>0.000450</td>\n      <td>0.000450</td>\n    </tr>\n  </tbody>\n</table>\n</div>"
          },
          "metadata": {}
        }
      ]
    },
    {
      "metadata": {
        "_uuid": "0b34dfb860ac55ffe4a73fc741b43c4da99a8f76"
      },
      "cell_type": "markdown",
      "source": "#### User similarity based Collaborative filtering"
    },
    {
      "metadata": {
        "trusted": true,
        "_uuid": "b4bb56854e1c0947b5b03586edc988a90ca0f6be"
      },
      "cell_type": "code",
      "source": "%%time\nuser_prediction = predict(data_matrix_df.values, user_similarity_df.values, type='user')",
      "execution_count": 26,
      "outputs": [
        {
          "output_type": "stream",
          "text": "CPU times: user 4min 56s, sys: 7.38 s, total: 5min 4s\nWall time: 1min 21s\n",
          "name": "stdout"
        }
      ]
    },
    {
      "metadata": {
        "trusted": true,
        "_uuid": "2f873bbeae9793a0a5b51361b6a351602875effe"
      },
      "cell_type": "code",
      "source": "user_prediction.shape",
      "execution_count": 27,
      "outputs": [
        {
          "output_type": "execute_result",
          "execution_count": 27,
          "data": {
            "text/plain": "(27778, 3026)"
          },
          "metadata": {}
        }
      ]
    },
    {
      "metadata": {
        "trusted": true,
        "_uuid": "b61547152acbf13680d96f77249fc388b3921d60"
      },
      "cell_type": "code",
      "source": "user_prediction_df = pd.DataFrame(user_prediction, index=data_matrix_df.index.values, columns=data_matrix_df.columns.values)",
      "execution_count": 28,
      "outputs": []
    },
    {
      "metadata": {
        "trusted": true,
        "_uuid": "c981a7eb82815c3f4574d53e64400ad48918b385"
      },
      "cell_type": "code",
      "source": "# prediction\nuser_prediction_df.head()",
      "execution_count": 29,
      "outputs": [
        {
          "output_type": "execute_result",
          "execution_count": 29,
          "data": {
            "text/plain": "   11139192  11139194  11139524    ...     14122834  14128359  14129477\n0 -0.005088 -0.003196  0.012564    ...    -0.000675 -0.008240 -0.008870\n1 -0.006672 -0.003926  0.022587    ...    -0.000266 -0.011248 -0.012164\n2 -0.003995 -0.002727  0.007842    ...    -0.001036 -0.006109 -0.006532\n3 -0.000947  0.001399  0.020943    ...     0.004526 -0.004856 -0.005637\n4 -0.005308 -0.003188  0.014476    ...    -0.000362 -0.008841 -0.009548\n\n[5 rows x 3026 columns]",
            "text/html": "<div>\n<style scoped>\n    .dataframe tbody tr th:only-of-type {\n        vertical-align: middle;\n    }\n\n    .dataframe tbody tr th {\n        vertical-align: top;\n    }\n\n    .dataframe thead th {\n        text-align: right;\n    }\n</style>\n<table border=\"1\" class=\"dataframe\">\n  <thead>\n    <tr style=\"text-align: right;\">\n      <th></th>\n      <th>11139192</th>\n      <th>11139194</th>\n      <th>11139524</th>\n      <th>11139560</th>\n      <th>11139588</th>\n      <th>11139650</th>\n      <th>11141306</th>\n      <th>11141308</th>\n      <th>11141318</th>\n      <th>11141320</th>\n      <th>11141324</th>\n      <th>11141326</th>\n      <th>11141328</th>\n      <th>11141330</th>\n      <th>11141338</th>\n      <th>11141340</th>\n      <th>11141342</th>\n      <th>11141346</th>\n      <th>11141354</th>\n      <th>11141530</th>\n      <th>11141538</th>\n      <th>11141644</th>\n      <th>11144136</th>\n      <th>11144260</th>\n      <th>11145600</th>\n      <th>11145602</th>\n      <th>11145612</th>\n      <th>11145614</th>\n      <th>11145620</th>\n      <th>11145624</th>\n      <th>11145626</th>\n      <th>11145634</th>\n      <th>11145640</th>\n      <th>11145642</th>\n      <th>11145654</th>\n      <th>11145664</th>\n      <th>11145666</th>\n      <th>11145684</th>\n      <th>11145702</th>\n      <th>11145726</th>\n      <th>...</th>\n      <th>13773572</th>\n      <th>13773574</th>\n      <th>13773576</th>\n      <th>13773578</th>\n      <th>13773580</th>\n      <th>14101712</th>\n      <th>14104334</th>\n      <th>14110862</th>\n      <th>14110864</th>\n      <th>14110866</th>\n      <th>14110868</th>\n      <th>14121822</th>\n      <th>14121824</th>\n      <th>14121826</th>\n      <th>14121828</th>\n      <th>14121830</th>\n      <th>14121832</th>\n      <th>14121834</th>\n      <th>14121836</th>\n      <th>14121838</th>\n      <th>14121840</th>\n      <th>14121842</th>\n      <th>14121844</th>\n      <th>14121846</th>\n      <th>14121848</th>\n      <th>14122346</th>\n      <th>14122348</th>\n      <th>14122744</th>\n      <th>14122748</th>\n      <th>14122750</th>\n      <th>14122758</th>\n      <th>14122762</th>\n      <th>14122766</th>\n      <th>14122818</th>\n      <th>14122820</th>\n      <th>14122822</th>\n      <th>14122832</th>\n      <th>14122834</th>\n      <th>14128359</th>\n      <th>14129477</th>\n    </tr>\n  </thead>\n  <tbody>\n    <tr>\n      <th>0</th>\n      <td>-0.005088</td>\n      <td>-0.003196</td>\n      <td>0.012564</td>\n      <td>-0.008870</td>\n      <td>-0.009501</td>\n      <td>-0.005088</td>\n      <td>0.000586</td>\n      <td>-0.010131</td>\n      <td>-0.010131</td>\n      <td>-0.006349</td>\n      <td>-0.001305</td>\n      <td>-0.009501</td>\n      <td>-0.007609</td>\n      <td>-0.001305</td>\n      <td>-0.006979</td>\n      <td>-0.010131</td>\n      <td>-0.006979</td>\n      <td>-0.002778</td>\n      <td>-0.010131</td>\n      <td>-0.004457</td>\n      <td>-0.005718</td>\n      <td>-0.006979</td>\n      <td>-0.008870</td>\n      <td>-0.009501</td>\n      <td>0.003738</td>\n      <td>-0.009501</td>\n      <td>-0.000675</td>\n      <td>-0.008240</td>\n      <td>-0.009501</td>\n      <td>-0.008870</td>\n      <td>-0.009501</td>\n      <td>-0.008870</td>\n      <td>-0.008240</td>\n      <td>-0.009501</td>\n      <td>-0.008240</td>\n      <td>-0.002566</td>\n      <td>-0.006349</td>\n      <td>-0.007609</td>\n      <td>-0.010131</td>\n      <td>-0.008240</td>\n      <td>...</td>\n      <td>-0.001746</td>\n      <td>-0.006789</td>\n      <td>0.003108</td>\n      <td>-0.006979</td>\n      <td>-0.005718</td>\n      <td>-0.003196</td>\n      <td>-0.010131</td>\n      <td>-0.003196</td>\n      <td>-0.009501</td>\n      <td>-0.004457</td>\n      <td>-0.003196</td>\n      <td>-0.009501</td>\n      <td>-0.006979</td>\n      <td>-0.006979</td>\n      <td>-0.008870</td>\n      <td>-0.008240</td>\n      <td>-0.008240</td>\n      <td>-0.008870</td>\n      <td>-0.008240</td>\n      <td>-0.008870</td>\n      <td>-0.007609</td>\n      <td>-0.008240</td>\n      <td>-0.007609</td>\n      <td>-0.009501</td>\n      <td>-0.010131</td>\n      <td>-0.010131</td>\n      <td>-0.009501</td>\n      <td>-0.006570</td>\n      <td>-0.009501</td>\n      <td>-0.009501</td>\n      <td>-0.010131</td>\n      <td>-0.007609</td>\n      <td>-0.010131</td>\n      <td>-0.009501</td>\n      <td>-0.008870</td>\n      <td>-0.007992</td>\n      <td>0.014456</td>\n      <td>-0.000675</td>\n      <td>-0.008240</td>\n      <td>-0.008870</td>\n    </tr>\n    <tr>\n      <th>1</th>\n      <td>-0.006672</td>\n      <td>-0.003926</td>\n      <td>0.022587</td>\n      <td>-0.012164</td>\n      <td>-0.013079</td>\n      <td>-0.006672</td>\n      <td>0.001565</td>\n      <td>-0.013994</td>\n      <td>-0.013994</td>\n      <td>-0.008503</td>\n      <td>-0.001181</td>\n      <td>-0.013079</td>\n      <td>-0.010333</td>\n      <td>-0.001181</td>\n      <td>-0.009418</td>\n      <td>-0.013994</td>\n      <td>-0.006348</td>\n      <td>-0.002154</td>\n      <td>-0.013994</td>\n      <td>-0.005757</td>\n      <td>-0.007587</td>\n      <td>-0.009418</td>\n      <td>-0.012164</td>\n      <td>-0.009018</td>\n      <td>0.006141</td>\n      <td>-0.013079</td>\n      <td>-0.000266</td>\n      <td>-0.011248</td>\n      <td>-0.013079</td>\n      <td>-0.012164</td>\n      <td>-0.013079</td>\n      <td>-0.012164</td>\n      <td>-0.011248</td>\n      <td>-0.013079</td>\n      <td>-0.011248</td>\n      <td>-0.003011</td>\n      <td>-0.008503</td>\n      <td>-0.010333</td>\n      <td>-0.013994</td>\n      <td>-0.011248</td>\n      <td>...</td>\n      <td>-0.003011</td>\n      <td>-0.010333</td>\n      <td>0.005226</td>\n      <td>-0.009418</td>\n      <td>-0.007587</td>\n      <td>-0.003926</td>\n      <td>-0.013994</td>\n      <td>-0.003926</td>\n      <td>-0.013079</td>\n      <td>-0.005757</td>\n      <td>-0.003926</td>\n      <td>-0.013079</td>\n      <td>-0.009418</td>\n      <td>-0.009418</td>\n      <td>-0.012164</td>\n      <td>-0.011248</td>\n      <td>-0.011248</td>\n      <td>-0.012164</td>\n      <td>-0.011248</td>\n      <td>-0.012164</td>\n      <td>-0.010333</td>\n      <td>-0.011248</td>\n      <td>-0.010333</td>\n      <td>-0.013079</td>\n      <td>-0.013994</td>\n      <td>-0.013994</td>\n      <td>-0.013079</td>\n      <td>-0.012164</td>\n      <td>-0.013079</td>\n      <td>-0.013079</td>\n      <td>-0.013994</td>\n      <td>-0.010333</td>\n      <td>-0.013994</td>\n      <td>-0.013079</td>\n      <td>-0.012164</td>\n      <td>-0.013079</td>\n      <td>0.021700</td>\n      <td>-0.000266</td>\n      <td>-0.011248</td>\n      <td>-0.012164</td>\n    </tr>\n    <tr>\n      <th>2</th>\n      <td>-0.003995</td>\n      <td>-0.002727</td>\n      <td>0.007842</td>\n      <td>-0.006532</td>\n      <td>-0.006954</td>\n      <td>-0.003995</td>\n      <td>-0.000190</td>\n      <td>-0.007377</td>\n      <td>-0.007377</td>\n      <td>-0.004841</td>\n      <td>-0.001459</td>\n      <td>-0.006954</td>\n      <td>-0.005686</td>\n      <td>-0.001459</td>\n      <td>-0.005263</td>\n      <td>-0.007377</td>\n      <td>-0.005263</td>\n      <td>-0.002727</td>\n      <td>-0.007377</td>\n      <td>-0.003572</td>\n      <td>-0.004418</td>\n      <td>-0.005263</td>\n      <td>-0.006532</td>\n      <td>-0.006954</td>\n      <td>0.001923</td>\n      <td>-0.006954</td>\n      <td>-0.001036</td>\n      <td>-0.006109</td>\n      <td>-0.006954</td>\n      <td>0.000950</td>\n      <td>-0.006954</td>\n      <td>-0.006532</td>\n      <td>-0.006109</td>\n      <td>-0.006954</td>\n      <td>-0.006109</td>\n      <td>-0.002304</td>\n      <td>-0.004841</td>\n      <td>-0.005686</td>\n      <td>-0.007377</td>\n      <td>-0.006109</td>\n      <td>...</td>\n      <td>0.001118</td>\n      <td>-0.002264</td>\n      <td>0.001501</td>\n      <td>-0.005263</td>\n      <td>-0.004418</td>\n      <td>-0.002727</td>\n      <td>-0.007377</td>\n      <td>-0.002727</td>\n      <td>-0.006954</td>\n      <td>-0.003572</td>\n      <td>-0.002727</td>\n      <td>-0.006954</td>\n      <td>-0.005263</td>\n      <td>-0.005263</td>\n      <td>-0.006532</td>\n      <td>-0.006109</td>\n      <td>-0.006109</td>\n      <td>-0.006532</td>\n      <td>-0.006109</td>\n      <td>-0.006532</td>\n      <td>-0.005686</td>\n      <td>-0.006109</td>\n      <td>-0.005686</td>\n      <td>-0.006954</td>\n      <td>-0.007377</td>\n      <td>-0.007377</td>\n      <td>-0.006954</td>\n      <td>-0.006532</td>\n      <td>-0.006954</td>\n      <td>-0.006954</td>\n      <td>-0.007377</td>\n      <td>-0.005686</td>\n      <td>-0.007377</td>\n      <td>-0.006954</td>\n      <td>-0.006532</td>\n      <td>-0.006954</td>\n      <td>0.009110</td>\n      <td>-0.001036</td>\n      <td>-0.006109</td>\n      <td>-0.006532</td>\n    </tr>\n    <tr>\n      <th>3</th>\n      <td>-0.000947</td>\n      <td>0.001399</td>\n      <td>0.020943</td>\n      <td>-0.005637</td>\n      <td>-0.006419</td>\n      <td>-0.000947</td>\n      <td>0.011446</td>\n      <td>-0.006087</td>\n      <td>-0.007201</td>\n      <td>-0.002510</td>\n      <td>0.003744</td>\n      <td>-0.006419</td>\n      <td>-0.002413</td>\n      <td>0.004783</td>\n      <td>-0.003292</td>\n      <td>-0.007201</td>\n      <td>-0.003292</td>\n      <td>0.001887</td>\n      <td>-0.007201</td>\n      <td>-0.000165</td>\n      <td>0.000499</td>\n      <td>-0.003292</td>\n      <td>-0.005637</td>\n      <td>-0.006419</td>\n      <td>0.011112</td>\n      <td>-0.006419</td>\n      <td>0.004526</td>\n      <td>-0.004856</td>\n      <td>-0.006419</td>\n      <td>-0.005637</td>\n      <td>-0.006419</td>\n      <td>-0.005637</td>\n      <td>-0.004856</td>\n      <td>-0.006419</td>\n      <td>-0.004856</td>\n      <td>0.004258</td>\n      <td>-0.002510</td>\n      <td>-0.002960</td>\n      <td>-0.007201</td>\n      <td>-0.004856</td>\n      <td>...</td>\n      <td>0.003138</td>\n      <td>-0.003117</td>\n      <td>0.009216</td>\n      <td>-0.003292</td>\n      <td>-0.001729</td>\n      <td>0.006380</td>\n      <td>-0.007201</td>\n      <td>0.001399</td>\n      <td>-0.006419</td>\n      <td>-0.000165</td>\n      <td>0.001399</td>\n      <td>-0.006419</td>\n      <td>-0.003292</td>\n      <td>-0.000564</td>\n      <td>-0.005637</td>\n      <td>-0.004856</td>\n      <td>-0.004856</td>\n      <td>-0.005637</td>\n      <td>-0.004856</td>\n      <td>-0.005637</td>\n      <td>-0.004074</td>\n      <td>-0.004856</td>\n      <td>-0.004074</td>\n      <td>-0.006419</td>\n      <td>-0.007201</td>\n      <td>-0.007201</td>\n      <td>-0.006419</td>\n      <td>-0.005637</td>\n      <td>-0.006419</td>\n      <td>-0.006419</td>\n      <td>-0.007201</td>\n      <td>-0.004074</td>\n      <td>-0.007201</td>\n      <td>-0.006419</td>\n      <td>-0.005637</td>\n      <td>-0.006419</td>\n      <td>0.023288</td>\n      <td>0.004526</td>\n      <td>-0.004856</td>\n      <td>-0.005637</td>\n    </tr>\n    <tr>\n      <th>4</th>\n      <td>-0.005308</td>\n      <td>-0.003188</td>\n      <td>0.014476</td>\n      <td>-0.001624</td>\n      <td>-0.010254</td>\n      <td>-0.005308</td>\n      <td>0.001051</td>\n      <td>-0.010961</td>\n      <td>-0.010961</td>\n      <td>-0.006721</td>\n      <td>-0.001069</td>\n      <td>-0.010254</td>\n      <td>-0.008135</td>\n      <td>-0.001069</td>\n      <td>-0.007428</td>\n      <td>-0.010961</td>\n      <td>-0.007428</td>\n      <td>-0.003188</td>\n      <td>-0.010961</td>\n      <td>-0.004602</td>\n      <td>-0.006015</td>\n      <td>-0.007428</td>\n      <td>-0.009548</td>\n      <td>-0.010254</td>\n      <td>0.004584</td>\n      <td>-0.010254</td>\n      <td>-0.000362</td>\n      <td>-0.008841</td>\n      <td>-0.010254</td>\n      <td>-0.004087</td>\n      <td>-0.010254</td>\n      <td>-0.003442</td>\n      <td>-0.008841</td>\n      <td>-0.010254</td>\n      <td>-0.008841</td>\n      <td>-0.002482</td>\n      <td>-0.006721</td>\n      <td>-0.008135</td>\n      <td>-0.010961</td>\n      <td>-0.008841</td>\n      <td>...</td>\n      <td>-0.002482</td>\n      <td>0.000479</td>\n      <td>0.009335</td>\n      <td>-0.007428</td>\n      <td>-0.006015</td>\n      <td>-0.003188</td>\n      <td>-0.010961</td>\n      <td>-0.003188</td>\n      <td>-0.010254</td>\n      <td>-0.004602</td>\n      <td>0.003862</td>\n      <td>-0.010254</td>\n      <td>-0.007428</td>\n      <td>-0.007428</td>\n      <td>-0.001356</td>\n      <td>-0.008841</td>\n      <td>-0.008368</td>\n      <td>-0.009548</td>\n      <td>-0.008841</td>\n      <td>-0.009548</td>\n      <td>-0.008135</td>\n      <td>-0.008841</td>\n      <td>-0.008135</td>\n      <td>-0.006393</td>\n      <td>-0.010961</td>\n      <td>-0.010961</td>\n      <td>-0.010254</td>\n      <td>-0.009548</td>\n      <td>-0.010254</td>\n      <td>-0.010254</td>\n      <td>-0.010961</td>\n      <td>-0.008135</td>\n      <td>-0.010961</td>\n      <td>-0.010254</td>\n      <td>-0.009548</td>\n      <td>-0.010254</td>\n      <td>0.016596</td>\n      <td>-0.000362</td>\n      <td>-0.008841</td>\n      <td>-0.009548</td>\n    </tr>\n  </tbody>\n</table>\n</div>"
          },
          "metadata": {}
        }
      ]
    },
    {
      "metadata": {
        "_uuid": "3fa7f8c49d1ae52b78aad638e755971aca9b6704"
      },
      "cell_type": "markdown",
      "source": "### Content Based Filtering"
    },
    {
      "metadata": {
        "trusted": true,
        "_uuid": "edc793ecaba2e0fddc9a4c8afa88fe2abf1ba038"
      },
      "cell_type": "code",
      "source": "prod_feats_df = img_feat_df.merge(pa_df, on='productid', how='left')",
      "execution_count": 30,
      "outputs": []
    },
    {
      "metadata": {
        "trusted": true,
        "_uuid": "c181a63959d6ed93e13cb1971bb0a92d05bd6446"
      },
      "cell_type": "code",
      "source": "prod_feats_df.fillna(0, inplace=True)",
      "execution_count": 31,
      "outputs": []
    },
    {
      "metadata": {
        "trusted": true,
        "_uuid": "b33b0686b0629250d8d4cc08fb3dd628b271e07c"
      },
      "cell_type": "code",
      "source": "prod_feats_df.sort_values(ascending=True, by='productid', inplace=True)",
      "execution_count": 32,
      "outputs": []
    },
    {
      "metadata": {
        "trusted": true,
        "_uuid": "ac7e061c0e87e35edadf0554726a3dcf0a5cd12c"
      },
      "cell_type": "code",
      "source": "prod_feats_df = prod_feats_df.set_index('productid')",
      "execution_count": 33,
      "outputs": []
    },
    {
      "metadata": {
        "trusted": true,
        "_uuid": "4a227a6b317cca3ff3932f3d8a87a81f6e10aa73"
      },
      "cell_type": "code",
      "source": "prod_feats_df.head()",
      "execution_count": 34,
      "outputs": [
        {
          "output_type": "execute_result",
          "execution_count": 34,
          "data": {
            "text/plain": "                  0         ...          attributevalue_233\nproductid                   ...                            \n11139192   0.002809         ...                         0.0\n11139194   0.003088         ...                         0.0\n11139524   0.002465         ...                         0.0\n11139560   0.002333         ...                         0.0\n11139588   0.002665         ...                         0.0\n\n[5 rows x 499 columns]",
            "text/html": "<div>\n<style scoped>\n    .dataframe tbody tr th:only-of-type {\n        vertical-align: middle;\n    }\n\n    .dataframe tbody tr th {\n        vertical-align: top;\n    }\n\n    .dataframe thead th {\n        text-align: right;\n    }\n</style>\n<table border=\"1\" class=\"dataframe\">\n  <thead>\n    <tr style=\"text-align: right;\">\n      <th></th>\n      <th>0</th>\n      <th>1</th>\n      <th>2</th>\n      <th>3</th>\n      <th>4</th>\n      <th>5</th>\n      <th>6</th>\n      <th>7</th>\n      <th>8</th>\n      <th>9</th>\n      <th>10</th>\n      <th>11</th>\n      <th>12</th>\n      <th>13</th>\n      <th>14</th>\n      <th>15</th>\n      <th>16</th>\n      <th>17</th>\n      <th>18</th>\n      <th>19</th>\n      <th>20</th>\n      <th>21</th>\n      <th>22</th>\n      <th>23</th>\n      <th>24</th>\n      <th>25</th>\n      <th>26</th>\n      <th>27</th>\n      <th>28</th>\n      <th>29</th>\n      <th>30</th>\n      <th>31</th>\n      <th>32</th>\n      <th>33</th>\n      <th>34</th>\n      <th>35</th>\n      <th>36</th>\n      <th>37</th>\n      <th>38</th>\n      <th>39</th>\n      <th>...</th>\n      <th>attributevalue_194</th>\n      <th>attributevalue_195</th>\n      <th>attributevalue_196</th>\n      <th>attributevalue_197</th>\n      <th>attributevalue_198</th>\n      <th>attributevalue_199</th>\n      <th>attributevalue_200</th>\n      <th>attributevalue_201</th>\n      <th>attributevalue_202</th>\n      <th>attributevalue_203</th>\n      <th>attributevalue_204</th>\n      <th>attributevalue_205</th>\n      <th>attributevalue_206</th>\n      <th>attributevalue_207</th>\n      <th>attributevalue_208</th>\n      <th>attributevalue_209</th>\n      <th>attributevalue_210</th>\n      <th>attributevalue_211</th>\n      <th>attributevalue_212</th>\n      <th>attributevalue_213</th>\n      <th>attributevalue_214</th>\n      <th>attributevalue_215</th>\n      <th>attributevalue_216</th>\n      <th>attributevalue_217</th>\n      <th>attributevalue_218</th>\n      <th>attributevalue_219</th>\n      <th>attributevalue_220</th>\n      <th>attributevalue_221</th>\n      <th>attributevalue_222</th>\n      <th>attributevalue_223</th>\n      <th>attributevalue_224</th>\n      <th>attributevalue_225</th>\n      <th>attributevalue_226</th>\n      <th>attributevalue_227</th>\n      <th>attributevalue_228</th>\n      <th>attributevalue_229</th>\n      <th>attributevalue_230</th>\n      <th>attributevalue_231</th>\n      <th>attributevalue_232</th>\n      <th>attributevalue_233</th>\n    </tr>\n    <tr>\n      <th>productid</th>\n      <th></th>\n      <th></th>\n      <th></th>\n      <th></th>\n      <th></th>\n      <th></th>\n      <th></th>\n      <th></th>\n      <th></th>\n      <th></th>\n      <th></th>\n      <th></th>\n      <th></th>\n      <th></th>\n      <th></th>\n      <th></th>\n      <th></th>\n      <th></th>\n      <th></th>\n      <th></th>\n      <th></th>\n      <th></th>\n      <th></th>\n      <th></th>\n      <th></th>\n      <th></th>\n      <th></th>\n      <th></th>\n      <th></th>\n      <th></th>\n      <th></th>\n      <th></th>\n      <th></th>\n      <th></th>\n      <th></th>\n      <th></th>\n      <th></th>\n      <th></th>\n      <th></th>\n      <th></th>\n      <th></th>\n      <th></th>\n      <th></th>\n      <th></th>\n      <th></th>\n      <th></th>\n      <th></th>\n      <th></th>\n      <th></th>\n      <th></th>\n      <th></th>\n      <th></th>\n      <th></th>\n      <th></th>\n      <th></th>\n      <th></th>\n      <th></th>\n      <th></th>\n      <th></th>\n      <th></th>\n      <th></th>\n      <th></th>\n      <th></th>\n      <th></th>\n      <th></th>\n      <th></th>\n      <th></th>\n      <th></th>\n      <th></th>\n      <th></th>\n      <th></th>\n      <th></th>\n      <th></th>\n      <th></th>\n      <th></th>\n      <th></th>\n      <th></th>\n      <th></th>\n      <th></th>\n      <th></th>\n      <th></th>\n    </tr>\n  </thead>\n  <tbody>\n    <tr>\n      <th>11139192</th>\n      <td>0.002809</td>\n      <td>0.141478</td>\n      <td>0.006376</td>\n      <td>0.007968</td>\n      <td>0.173497</td>\n      <td>0.002809</td>\n      <td>0.009415</td>\n      <td>0.003392</td>\n      <td>0.087940</td>\n      <td>0.023752</td>\n      <td>0.141605</td>\n      <td>0.003434</td>\n      <td>0.008882</td>\n      <td>0.002139</td>\n      <td>0.008461</td>\n      <td>0.028743</td>\n      <td>0.001273</td>\n      <td>0.023865</td>\n      <td>0.002335</td>\n      <td>0.001389</td>\n      <td>0.031475</td>\n      <td>0.079425</td>\n      <td>0.267076</td>\n      <td>0.002454</td>\n      <td>0.105888</td>\n      <td>0.141864</td>\n      <td>0.323130</td>\n      <td>0.001989</td>\n      <td>0.004670</td>\n      <td>0.144718</td>\n      <td>0.006516</td>\n      <td>0.096374</td>\n      <td>0.077092</td>\n      <td>0.066699</td>\n      <td>0.210829</td>\n      <td>0.078881</td>\n      <td>0.021440</td>\n      <td>0.036647</td>\n      <td>1.453079</td>\n      <td>0.033968</td>\n      <td>...</td>\n      <td>0.0</td>\n      <td>0.0</td>\n      <td>0.0</td>\n      <td>0.0</td>\n      <td>0.0</td>\n      <td>0.0</td>\n      <td>0.0</td>\n      <td>0.0</td>\n      <td>0.0</td>\n      <td>0.0</td>\n      <td>0.0</td>\n      <td>0.0</td>\n      <td>0.0</td>\n      <td>0.0</td>\n      <td>0.0</td>\n      <td>0.0</td>\n      <td>0.0</td>\n      <td>0.0</td>\n      <td>0.0</td>\n      <td>0.0</td>\n      <td>0.0</td>\n      <td>0.0</td>\n      <td>0.0</td>\n      <td>0.0</td>\n      <td>0.0</td>\n      <td>0.0</td>\n      <td>0.0</td>\n      <td>0.0</td>\n      <td>0.0</td>\n      <td>0.0</td>\n      <td>0.0</td>\n      <td>0.0</td>\n      <td>0.0</td>\n      <td>0.0</td>\n      <td>0.0</td>\n      <td>0.0</td>\n      <td>0.0</td>\n      <td>0.0</td>\n      <td>0.0</td>\n      <td>0.0</td>\n    </tr>\n    <tr>\n      <th>11139194</th>\n      <td>0.003088</td>\n      <td>0.129808</td>\n      <td>0.008812</td>\n      <td>0.006858</td>\n      <td>0.192971</td>\n      <td>0.002551</td>\n      <td>0.009290</td>\n      <td>0.003388</td>\n      <td>0.063547</td>\n      <td>0.024097</td>\n      <td>0.119526</td>\n      <td>0.003048</td>\n      <td>0.008769</td>\n      <td>0.002243</td>\n      <td>0.009709</td>\n      <td>0.029680</td>\n      <td>0.001545</td>\n      <td>0.012371</td>\n      <td>0.002184</td>\n      <td>0.001716</td>\n      <td>0.032679</td>\n      <td>0.085714</td>\n      <td>0.291426</td>\n      <td>0.002575</td>\n      <td>0.172440</td>\n      <td>0.060002</td>\n      <td>0.309105</td>\n      <td>0.002239</td>\n      <td>0.005433</td>\n      <td>0.144477</td>\n      <td>0.004650</td>\n      <td>0.095803</td>\n      <td>0.095482</td>\n      <td>0.069577</td>\n      <td>0.178093</td>\n      <td>0.058798</td>\n      <td>0.019926</td>\n      <td>0.039278</td>\n      <td>1.467373</td>\n      <td>0.036233</td>\n      <td>...</td>\n      <td>0.0</td>\n      <td>0.0</td>\n      <td>0.0</td>\n      <td>0.0</td>\n      <td>0.0</td>\n      <td>0.0</td>\n      <td>0.0</td>\n      <td>0.0</td>\n      <td>0.0</td>\n      <td>0.0</td>\n      <td>0.0</td>\n      <td>0.0</td>\n      <td>0.0</td>\n      <td>0.0</td>\n      <td>0.0</td>\n      <td>0.0</td>\n      <td>0.0</td>\n      <td>0.0</td>\n      <td>0.0</td>\n      <td>0.0</td>\n      <td>0.0</td>\n      <td>0.0</td>\n      <td>0.0</td>\n      <td>0.0</td>\n      <td>0.0</td>\n      <td>0.0</td>\n      <td>0.0</td>\n      <td>0.0</td>\n      <td>0.0</td>\n      <td>0.0</td>\n      <td>0.0</td>\n      <td>0.0</td>\n      <td>0.0</td>\n      <td>0.0</td>\n      <td>0.0</td>\n      <td>0.0</td>\n      <td>0.0</td>\n      <td>0.0</td>\n      <td>0.0</td>\n      <td>0.0</td>\n    </tr>\n    <tr>\n      <th>11139524</th>\n      <td>0.002465</td>\n      <td>0.150426</td>\n      <td>0.012537</td>\n      <td>0.008641</td>\n      <td>0.193621</td>\n      <td>0.002874</td>\n      <td>0.007975</td>\n      <td>0.002605</td>\n      <td>0.123589</td>\n      <td>0.019207</td>\n      <td>0.130641</td>\n      <td>0.004288</td>\n      <td>0.010044</td>\n      <td>0.003320</td>\n      <td>0.009822</td>\n      <td>0.021989</td>\n      <td>0.001480</td>\n      <td>0.015524</td>\n      <td>0.002639</td>\n      <td>0.001093</td>\n      <td>0.034350</td>\n      <td>0.081671</td>\n      <td>0.253273</td>\n      <td>0.002739</td>\n      <td>0.106045</td>\n      <td>0.098959</td>\n      <td>0.316819</td>\n      <td>0.002427</td>\n      <td>0.006494</td>\n      <td>0.159240</td>\n      <td>0.007658</td>\n      <td>0.101226</td>\n      <td>0.090361</td>\n      <td>0.066757</td>\n      <td>0.221146</td>\n      <td>0.062729</td>\n      <td>0.012088</td>\n      <td>0.032989</td>\n      <td>1.411619</td>\n      <td>0.028870</td>\n      <td>...</td>\n      <td>0.0</td>\n      <td>0.0</td>\n      <td>0.0</td>\n      <td>0.0</td>\n      <td>0.0</td>\n      <td>0.0</td>\n      <td>0.0</td>\n      <td>0.0</td>\n      <td>0.0</td>\n      <td>0.0</td>\n      <td>0.0</td>\n      <td>0.0</td>\n      <td>0.0</td>\n      <td>0.0</td>\n      <td>0.0</td>\n      <td>0.0</td>\n      <td>0.0</td>\n      <td>0.0</td>\n      <td>0.0</td>\n      <td>0.0</td>\n      <td>0.0</td>\n      <td>0.0</td>\n      <td>0.0</td>\n      <td>0.0</td>\n      <td>0.0</td>\n      <td>0.0</td>\n      <td>0.0</td>\n      <td>0.0</td>\n      <td>0.0</td>\n      <td>0.0</td>\n      <td>0.0</td>\n      <td>0.0</td>\n      <td>0.0</td>\n      <td>0.0</td>\n      <td>0.0</td>\n      <td>0.0</td>\n      <td>0.0</td>\n      <td>0.0</td>\n      <td>0.0</td>\n      <td>0.0</td>\n    </tr>\n    <tr>\n      <th>11139560</th>\n      <td>0.002333</td>\n      <td>0.064706</td>\n      <td>0.014644</td>\n      <td>0.010657</td>\n      <td>0.081996</td>\n      <td>0.002827</td>\n      <td>0.007093</td>\n      <td>0.003096</td>\n      <td>0.076784</td>\n      <td>0.016698</td>\n      <td>0.150028</td>\n      <td>0.003640</td>\n      <td>0.007820</td>\n      <td>0.003930</td>\n      <td>0.009372</td>\n      <td>0.020984</td>\n      <td>0.001911</td>\n      <td>0.017014</td>\n      <td>0.003296</td>\n      <td>0.000919</td>\n      <td>0.027199</td>\n      <td>0.061142</td>\n      <td>0.227683</td>\n      <td>0.002693</td>\n      <td>0.056398</td>\n      <td>0.100444</td>\n      <td>0.317477</td>\n      <td>0.002516</td>\n      <td>0.007308</td>\n      <td>0.191347</td>\n      <td>0.011845</td>\n      <td>0.090973</td>\n      <td>0.073453</td>\n      <td>0.050319</td>\n      <td>0.237367</td>\n      <td>0.072556</td>\n      <td>0.016927</td>\n      <td>0.038256</td>\n      <td>1.328586</td>\n      <td>0.026655</td>\n      <td>...</td>\n      <td>0.0</td>\n      <td>0.0</td>\n      <td>0.0</td>\n      <td>0.0</td>\n      <td>0.0</td>\n      <td>0.0</td>\n      <td>0.0</td>\n      <td>0.0</td>\n      <td>0.0</td>\n      <td>0.0</td>\n      <td>0.0</td>\n      <td>0.0</td>\n      <td>0.0</td>\n      <td>0.0</td>\n      <td>0.0</td>\n      <td>0.0</td>\n      <td>0.0</td>\n      <td>0.0</td>\n      <td>0.0</td>\n      <td>0.0</td>\n      <td>0.0</td>\n      <td>0.0</td>\n      <td>0.0</td>\n      <td>0.0</td>\n      <td>0.0</td>\n      <td>0.0</td>\n      <td>0.0</td>\n      <td>0.0</td>\n      <td>0.0</td>\n      <td>0.0</td>\n      <td>0.0</td>\n      <td>0.0</td>\n      <td>0.0</td>\n      <td>0.0</td>\n      <td>0.0</td>\n      <td>0.0</td>\n      <td>0.0</td>\n      <td>0.0</td>\n      <td>0.0</td>\n      <td>0.0</td>\n    </tr>\n    <tr>\n      <th>11139588</th>\n      <td>0.002665</td>\n      <td>0.213627</td>\n      <td>0.008963</td>\n      <td>0.009901</td>\n      <td>0.160075</td>\n      <td>0.002989</td>\n      <td>0.005288</td>\n      <td>0.002089</td>\n      <td>0.075852</td>\n      <td>0.019718</td>\n      <td>0.150696</td>\n      <td>0.003390</td>\n      <td>0.008626</td>\n      <td>0.002246</td>\n      <td>0.011107</td>\n      <td>0.028415</td>\n      <td>0.001403</td>\n      <td>0.014761</td>\n      <td>0.002560</td>\n      <td>0.001216</td>\n      <td>0.032018</td>\n      <td>0.101339</td>\n      <td>0.227910</td>\n      <td>0.002436</td>\n      <td>0.120356</td>\n      <td>0.038717</td>\n      <td>0.316635</td>\n      <td>0.001547</td>\n      <td>0.007106</td>\n      <td>0.136396</td>\n      <td>0.006629</td>\n      <td>0.132243</td>\n      <td>0.076432</td>\n      <td>0.047606</td>\n      <td>0.185864</td>\n      <td>0.099494</td>\n      <td>0.013652</td>\n      <td>0.029453</td>\n      <td>1.433100</td>\n      <td>0.032901</td>\n      <td>...</td>\n      <td>0.0</td>\n      <td>0.0</td>\n      <td>0.0</td>\n      <td>0.0</td>\n      <td>0.0</td>\n      <td>0.0</td>\n      <td>0.0</td>\n      <td>0.0</td>\n      <td>0.0</td>\n      <td>0.0</td>\n      <td>0.0</td>\n      <td>0.0</td>\n      <td>0.0</td>\n      <td>0.0</td>\n      <td>0.0</td>\n      <td>0.0</td>\n      <td>0.0</td>\n      <td>0.0</td>\n      <td>0.0</td>\n      <td>0.0</td>\n      <td>0.0</td>\n      <td>0.0</td>\n      <td>0.0</td>\n      <td>0.0</td>\n      <td>0.0</td>\n      <td>0.0</td>\n      <td>0.0</td>\n      <td>0.0</td>\n      <td>0.0</td>\n      <td>0.0</td>\n      <td>0.0</td>\n      <td>0.0</td>\n      <td>0.0</td>\n      <td>0.0</td>\n      <td>0.0</td>\n      <td>0.0</td>\n      <td>0.0</td>\n      <td>0.0</td>\n      <td>0.0</td>\n      <td>0.0</td>\n    </tr>\n  </tbody>\n</table>\n</div>"
          },
          "metadata": {}
        }
      ]
    },
    {
      "metadata": {
        "trusted": true,
        "_uuid": "c166350aee769ee35537411378b46911a4d4b14f"
      },
      "cell_type": "code",
      "source": "prod_feats_df.shape",
      "execution_count": 35,
      "outputs": [
        {
          "output_type": "execute_result",
          "execution_count": 35,
          "data": {
            "text/plain": "(3026, 499)"
          },
          "metadata": {}
        }
      ]
    },
    {
      "metadata": {
        "_uuid": "babdf17b96baeb9a636eecc235b7a70fa6eccfd5"
      },
      "cell_type": "markdown",
      "source": "#### Find User profile product  matrix for all users who are in test set. weighted sum of product features is used."
    },
    {
      "metadata": {
        "trusted": true,
        "_uuid": "d48494f0755cd9b1836eb4ba2126d68cfc868240"
      },
      "cell_type": "code",
      "source": "user_prof_df = pd.DataFrame(index=sorted(test_df['UserId'].unique()), columns=prod_feats_df.columns.values)",
      "execution_count": 36,
      "outputs": []
    },
    {
      "metadata": {
        "trusted": true,
        "_uuid": "6ad49ccbcaf791298de5d2e3b7b30c9230475cc4"
      },
      "cell_type": "code",
      "source": "for user in sorted(test_df['UserId'].unique()):\n    user_prof_df.loc[user] = ((prod_feats_df.values  * data_matrix_df.loc[user].values.reshape(3026,1)).sum(axis=0)) / data_matrix_df.loc[user].sum()",
      "execution_count": 37,
      "outputs": []
    },
    {
      "metadata": {
        "trusted": true,
        "_uuid": "d786ec6153e9399e30cb49ae9add64a27edecbe6"
      },
      "cell_type": "code",
      "source": "user_prof_df.shape",
      "execution_count": 41,
      "outputs": [
        {
          "output_type": "execute_result",
          "execution_count": 41,
          "data": {
            "text/plain": "(2350, 499)"
          },
          "metadata": {}
        }
      ]
    },
    {
      "metadata": {
        "trusted": true,
        "_uuid": "a0a641607324ab052cc93de61bdce8f5cc9ddf65"
      },
      "cell_type": "code",
      "source": "user_prof_df.head()",
      "execution_count": 38,
      "outputs": [
        {
          "output_type": "execute_result",
          "execution_count": 38,
          "data": {
            "text/plain": "             0        ...         attributevalue_233\n2   0.00240316        ...                          0\n28  0.00226293        ...                          0\n36  0.00229675        ...                          0\n38  0.00207412        ...                          0\n41  0.00227038        ...                          0\n\n[5 rows x 499 columns]",
            "text/html": "<div>\n<style scoped>\n    .dataframe tbody tr th:only-of-type {\n        vertical-align: middle;\n    }\n\n    .dataframe tbody tr th {\n        vertical-align: top;\n    }\n\n    .dataframe thead th {\n        text-align: right;\n    }\n</style>\n<table border=\"1\" class=\"dataframe\">\n  <thead>\n    <tr style=\"text-align: right;\">\n      <th></th>\n      <th>0</th>\n      <th>1</th>\n      <th>2</th>\n      <th>3</th>\n      <th>4</th>\n      <th>5</th>\n      <th>6</th>\n      <th>7</th>\n      <th>8</th>\n      <th>9</th>\n      <th>10</th>\n      <th>11</th>\n      <th>12</th>\n      <th>13</th>\n      <th>14</th>\n      <th>15</th>\n      <th>16</th>\n      <th>17</th>\n      <th>18</th>\n      <th>19</th>\n      <th>20</th>\n      <th>21</th>\n      <th>22</th>\n      <th>23</th>\n      <th>24</th>\n      <th>25</th>\n      <th>26</th>\n      <th>27</th>\n      <th>28</th>\n      <th>29</th>\n      <th>30</th>\n      <th>31</th>\n      <th>32</th>\n      <th>33</th>\n      <th>34</th>\n      <th>35</th>\n      <th>36</th>\n      <th>37</th>\n      <th>38</th>\n      <th>39</th>\n      <th>...</th>\n      <th>attributevalue_194</th>\n      <th>attributevalue_195</th>\n      <th>attributevalue_196</th>\n      <th>attributevalue_197</th>\n      <th>attributevalue_198</th>\n      <th>attributevalue_199</th>\n      <th>attributevalue_200</th>\n      <th>attributevalue_201</th>\n      <th>attributevalue_202</th>\n      <th>attributevalue_203</th>\n      <th>attributevalue_204</th>\n      <th>attributevalue_205</th>\n      <th>attributevalue_206</th>\n      <th>attributevalue_207</th>\n      <th>attributevalue_208</th>\n      <th>attributevalue_209</th>\n      <th>attributevalue_210</th>\n      <th>attributevalue_211</th>\n      <th>attributevalue_212</th>\n      <th>attributevalue_213</th>\n      <th>attributevalue_214</th>\n      <th>attributevalue_215</th>\n      <th>attributevalue_216</th>\n      <th>attributevalue_217</th>\n      <th>attributevalue_218</th>\n      <th>attributevalue_219</th>\n      <th>attributevalue_220</th>\n      <th>attributevalue_221</th>\n      <th>attributevalue_222</th>\n      <th>attributevalue_223</th>\n      <th>attributevalue_224</th>\n      <th>attributevalue_225</th>\n      <th>attributevalue_226</th>\n      <th>attributevalue_227</th>\n      <th>attributevalue_228</th>\n      <th>attributevalue_229</th>\n      <th>attributevalue_230</th>\n      <th>attributevalue_231</th>\n      <th>attributevalue_232</th>\n      <th>attributevalue_233</th>\n    </tr>\n  </thead>\n  <tbody>\n    <tr>\n      <th>2</th>\n      <td>0.00240316</td>\n      <td>0.0570552</td>\n      <td>0.016046</td>\n      <td>0.01389</td>\n      <td>0.112636</td>\n      <td>0.00248553</td>\n      <td>0.00902976</td>\n      <td>0.0037423</td>\n      <td>0.0688358</td>\n      <td>0.0217775</td>\n      <td>0.152798</td>\n      <td>0.00306676</td>\n      <td>0.00882331</td>\n      <td>0.0032352</td>\n      <td>0.0113432</td>\n      <td>0.0186459</td>\n      <td>0.00166386</td>\n      <td>0.0134963</td>\n      <td>0.00366296</td>\n      <td>0.000970252</td>\n      <td>0.0293301</td>\n      <td>0.0626684</td>\n      <td>0.234586</td>\n      <td>0.00251082</td>\n      <td>0.208099</td>\n      <td>0.0941951</td>\n      <td>0.305567</td>\n      <td>0.00275978</td>\n      <td>0.00503578</td>\n      <td>0.12935</td>\n      <td>0.00830982</td>\n      <td>0.0594594</td>\n      <td>0.112797</td>\n      <td>0.0681741</td>\n      <td>0.355862</td>\n      <td>0.0375611</td>\n      <td>0.0142055</td>\n      <td>0.0371733</td>\n      <td>1.23923</td>\n      <td>0.0212428</td>\n      <td>...</td>\n      <td>0</td>\n      <td>0</td>\n      <td>0</td>\n      <td>0</td>\n      <td>0</td>\n      <td>0</td>\n      <td>0</td>\n      <td>0</td>\n      <td>0</td>\n      <td>0</td>\n      <td>0</td>\n      <td>0</td>\n      <td>0</td>\n      <td>0</td>\n      <td>0</td>\n      <td>0</td>\n      <td>0</td>\n      <td>0</td>\n      <td>0</td>\n      <td>0</td>\n      <td>0</td>\n      <td>0</td>\n      <td>0</td>\n      <td>0</td>\n      <td>0</td>\n      <td>0</td>\n      <td>0</td>\n      <td>0</td>\n      <td>0</td>\n      <td>0</td>\n      <td>0</td>\n      <td>0</td>\n      <td>0</td>\n      <td>0</td>\n      <td>0</td>\n      <td>0</td>\n      <td>0</td>\n      <td>0</td>\n      <td>0</td>\n      <td>0</td>\n    </tr>\n    <tr>\n      <th>28</th>\n      <td>0.00226293</td>\n      <td>0.0677918</td>\n      <td>0.0200609</td>\n      <td>0.0122073</td>\n      <td>0.0996468</td>\n      <td>0.00222733</td>\n      <td>0.00779636</td>\n      <td>0.0043594</td>\n      <td>0.0723457</td>\n      <td>0.0195489</td>\n      <td>0.114618</td>\n      <td>0.00292939</td>\n      <td>0.00844551</td>\n      <td>0.00320119</td>\n      <td>0.0098201</td>\n      <td>0.0235089</td>\n      <td>0.00172839</td>\n      <td>0.0172065</td>\n      <td>0.00292557</td>\n      <td>0.00109987</td>\n      <td>0.0283268</td>\n      <td>0.0564325</td>\n      <td>0.229732</td>\n      <td>0.00272123</td>\n      <td>0.165637</td>\n      <td>0.168229</td>\n      <td>0.317399</td>\n      <td>0.00268555</td>\n      <td>0.00629415</td>\n      <td>0.131822</td>\n      <td>0.0115195</td>\n      <td>0.056956</td>\n      <td>0.0987509</td>\n      <td>0.0533434</td>\n      <td>0.263957</td>\n      <td>0.0459274</td>\n      <td>0.0160782</td>\n      <td>0.0373872</td>\n      <td>1.33606</td>\n      <td>0.0201894</td>\n      <td>...</td>\n      <td>0</td>\n      <td>0</td>\n      <td>0</td>\n      <td>0</td>\n      <td>0</td>\n      <td>0</td>\n      <td>0</td>\n      <td>0</td>\n      <td>0</td>\n      <td>0</td>\n      <td>0</td>\n      <td>0</td>\n      <td>0</td>\n      <td>0</td>\n      <td>0</td>\n      <td>0</td>\n      <td>0</td>\n      <td>0</td>\n      <td>0</td>\n      <td>0</td>\n      <td>0</td>\n      <td>0</td>\n      <td>0</td>\n      <td>0</td>\n      <td>0.111111</td>\n      <td>0</td>\n      <td>0</td>\n      <td>0</td>\n      <td>0</td>\n      <td>0</td>\n      <td>0</td>\n      <td>0</td>\n      <td>0</td>\n      <td>0</td>\n      <td>0</td>\n      <td>0</td>\n      <td>0</td>\n      <td>0</td>\n      <td>0</td>\n      <td>0</td>\n    </tr>\n    <tr>\n      <th>36</th>\n      <td>0.00229675</td>\n      <td>0.0772629</td>\n      <td>0.0196574</td>\n      <td>0.0157015</td>\n      <td>0.118922</td>\n      <td>0.00254686</td>\n      <td>0.0068339</td>\n      <td>0.00307378</td>\n      <td>0.0735576</td>\n      <td>0.0181622</td>\n      <td>0.112142</td>\n      <td>0.00312441</td>\n      <td>0.00756511</td>\n      <td>0.00287913</td>\n      <td>0.0119174</td>\n      <td>0.0186249</td>\n      <td>0.00192643</td>\n      <td>0.011676</td>\n      <td>0.00284197</td>\n      <td>0.00104553</td>\n      <td>0.0256678</td>\n      <td>0.0610224</td>\n      <td>0.198041</td>\n      <td>0.00279389</td>\n      <td>0.120591</td>\n      <td>0.0486721</td>\n      <td>0.316422</td>\n      <td>0.00230069</td>\n      <td>0.00631624</td>\n      <td>0.123782</td>\n      <td>0.010797</td>\n      <td>0.0828692</td>\n      <td>0.0743526</td>\n      <td>0.0546044</td>\n      <td>0.244236</td>\n      <td>0.040934</td>\n      <td>0.0163101</td>\n      <td>0.0352981</td>\n      <td>1.31845</td>\n      <td>0.0227424</td>\n      <td>...</td>\n      <td>0</td>\n      <td>0</td>\n      <td>0</td>\n      <td>0</td>\n      <td>0</td>\n      <td>0</td>\n      <td>0</td>\n      <td>0</td>\n      <td>0</td>\n      <td>0</td>\n      <td>0</td>\n      <td>0</td>\n      <td>0</td>\n      <td>0</td>\n      <td>0</td>\n      <td>0</td>\n      <td>0</td>\n      <td>0</td>\n      <td>0</td>\n      <td>0</td>\n      <td>0</td>\n      <td>0</td>\n      <td>0</td>\n      <td>0</td>\n      <td>0</td>\n      <td>0</td>\n      <td>0</td>\n      <td>0</td>\n      <td>0</td>\n      <td>0</td>\n      <td>0</td>\n      <td>0</td>\n      <td>0</td>\n      <td>0</td>\n      <td>0</td>\n      <td>0</td>\n      <td>0</td>\n      <td>0</td>\n      <td>0</td>\n      <td>0</td>\n    </tr>\n    <tr>\n      <th>38</th>\n      <td>0.00207412</td>\n      <td>0.124231</td>\n      <td>0.0165958</td>\n      <td>0.0147922</td>\n      <td>0.113071</td>\n      <td>0.00242978</td>\n      <td>0.00747137</td>\n      <td>0.00352825</td>\n      <td>0.0762359</td>\n      <td>0.0179274</td>\n      <td>0.117859</td>\n      <td>0.00305936</td>\n      <td>0.00778421</td>\n      <td>0.00302131</td>\n      <td>0.00895657</td>\n      <td>0.0215592</td>\n      <td>0.00184837</td>\n      <td>0.01466</td>\n      <td>0.00278833</td>\n      <td>0.00118969</td>\n      <td>0.0282519</td>\n      <td>0.0715532</td>\n      <td>0.213578</td>\n      <td>0.00288567</td>\n      <td>0.0763704</td>\n      <td>0.0783012</td>\n      <td>0.340685</td>\n      <td>0.002594</td>\n      <td>0.00615773</td>\n      <td>0.122209</td>\n      <td>0.00888564</td>\n      <td>0.0710897</td>\n      <td>0.0922297</td>\n      <td>0.047779</td>\n      <td>0.238585</td>\n      <td>0.0401775</td>\n      <td>0.0178007</td>\n      <td>0.0345901</td>\n      <td>1.31957</td>\n      <td>0.0246873</td>\n      <td>...</td>\n      <td>0</td>\n      <td>0</td>\n      <td>0</td>\n      <td>0</td>\n      <td>0</td>\n      <td>0</td>\n      <td>0</td>\n      <td>0</td>\n      <td>0</td>\n      <td>0</td>\n      <td>0</td>\n      <td>0</td>\n      <td>0</td>\n      <td>0</td>\n      <td>0</td>\n      <td>0</td>\n      <td>0</td>\n      <td>0</td>\n      <td>0</td>\n      <td>0</td>\n      <td>0</td>\n      <td>0</td>\n      <td>0</td>\n      <td>0</td>\n      <td>0</td>\n      <td>0</td>\n      <td>0</td>\n      <td>0</td>\n      <td>0</td>\n      <td>0</td>\n      <td>0</td>\n      <td>0</td>\n      <td>0</td>\n      <td>0</td>\n      <td>0</td>\n      <td>0</td>\n      <td>0</td>\n      <td>0</td>\n      <td>0</td>\n      <td>0</td>\n    </tr>\n    <tr>\n      <th>41</th>\n      <td>0.00227038</td>\n      <td>0.16644</td>\n      <td>0.0148195</td>\n      <td>0.0164105</td>\n      <td>0.0964283</td>\n      <td>0.00259993</td>\n      <td>0.00672736</td>\n      <td>0.00287127</td>\n      <td>0.094876</td>\n      <td>0.0180548</td>\n      <td>0.109315</td>\n      <td>0.0028799</td>\n      <td>0.00774829</td>\n      <td>0.0030107</td>\n      <td>0.0102697</td>\n      <td>0.01611</td>\n      <td>0.00151835</td>\n      <td>0.0170009</td>\n      <td>0.00309528</td>\n      <td>0.00109477</td>\n      <td>0.026781</td>\n      <td>0.0811763</td>\n      <td>0.201564</td>\n      <td>0.0029855</td>\n      <td>0.168608</td>\n      <td>0.0246068</td>\n      <td>0.318943</td>\n      <td>0.00284331</td>\n      <td>0.00541361</td>\n      <td>0.128175</td>\n      <td>0.0117229</td>\n      <td>0.0715103</td>\n      <td>0.10321</td>\n      <td>0.0492597</td>\n      <td>0.307712</td>\n      <td>0.0522079</td>\n      <td>0.0174528</td>\n      <td>0.0336505</td>\n      <td>1.28109</td>\n      <td>0.0271702</td>\n      <td>...</td>\n      <td>0</td>\n      <td>0</td>\n      <td>0</td>\n      <td>0</td>\n      <td>0</td>\n      <td>0</td>\n      <td>0</td>\n      <td>0</td>\n      <td>0</td>\n      <td>0</td>\n      <td>0</td>\n      <td>0</td>\n      <td>0</td>\n      <td>0</td>\n      <td>0</td>\n      <td>0</td>\n      <td>0</td>\n      <td>0</td>\n      <td>0</td>\n      <td>0</td>\n      <td>0</td>\n      <td>0</td>\n      <td>0</td>\n      <td>0</td>\n      <td>0</td>\n      <td>0</td>\n      <td>0</td>\n      <td>0</td>\n      <td>0</td>\n      <td>0</td>\n      <td>0</td>\n      <td>0</td>\n      <td>0</td>\n      <td>0</td>\n      <td>0</td>\n      <td>0</td>\n      <td>0</td>\n      <td>0</td>\n      <td>0</td>\n      <td>0</td>\n    </tr>\n  </tbody>\n</table>\n</div>"
          },
          "metadata": {}
        }
      ]
    },
    {
      "metadata": {
        "trusted": true,
        "_uuid": "c2a32aafa3940d3979a7706ef9d2d884b5f5bc69"
      },
      "cell_type": "code",
      "source": "user_prof_prods_similarity = pairwise_distances(user_prof_df, prod_feats_df, metric='cosine')",
      "execution_count": 45,
      "outputs": []
    },
    {
      "metadata": {
        "trusted": true,
        "_uuid": "56c452d44e62d69e4487dd7b5b8cd368433dda7f"
      },
      "cell_type": "code",
      "source": "user_prof_prods_similarity_df = 1 - pd.DataFrame(user_prof_prods_similarity, index=user_prof_df.index.values, columns=prod_feats_df.index.values)",
      "execution_count": 48,
      "outputs": []
    },
    {
      "metadata": {
        "trusted": true,
        "_uuid": "f41cc7629f6fd4a97ec310c4fc0bbfaba68b2b83"
      },
      "cell_type": "code",
      "source": "# prediction\nuser_prof_prods_similarity_df.head()",
      "execution_count": 49,
      "outputs": [
        {
          "output_type": "execute_result",
          "execution_count": 49,
          "data": {
            "text/plain": "    11139192  11139194  11139524    ...     14122834  14128359  14129477\n2   0.773045  0.781728  0.867489    ...     0.794027  0.679587  0.769251\n28  0.843897  0.832445  0.886408    ...     0.899009  0.780642  0.848202\n36  0.854691  0.828970  0.899553    ...     0.912618  0.796806  0.884355\n38  0.877229  0.857486  0.918777    ...     0.917764  0.794917  0.886163\n41  0.830266  0.808754  0.900972    ...     0.901310  0.732272  0.865191\n\n[5 rows x 3026 columns]",
            "text/html": "<div>\n<style scoped>\n    .dataframe tbody tr th:only-of-type {\n        vertical-align: middle;\n    }\n\n    .dataframe tbody tr th {\n        vertical-align: top;\n    }\n\n    .dataframe thead th {\n        text-align: right;\n    }\n</style>\n<table border=\"1\" class=\"dataframe\">\n  <thead>\n    <tr style=\"text-align: right;\">\n      <th></th>\n      <th>11139192</th>\n      <th>11139194</th>\n      <th>11139524</th>\n      <th>11139560</th>\n      <th>11139588</th>\n      <th>11139650</th>\n      <th>11141306</th>\n      <th>11141308</th>\n      <th>11141318</th>\n      <th>11141320</th>\n      <th>11141324</th>\n      <th>11141326</th>\n      <th>11141328</th>\n      <th>11141330</th>\n      <th>11141338</th>\n      <th>11141340</th>\n      <th>11141342</th>\n      <th>11141346</th>\n      <th>11141354</th>\n      <th>11141530</th>\n      <th>11141538</th>\n      <th>11141644</th>\n      <th>11144136</th>\n      <th>11144260</th>\n      <th>11145600</th>\n      <th>11145602</th>\n      <th>11145612</th>\n      <th>11145614</th>\n      <th>11145620</th>\n      <th>11145624</th>\n      <th>11145626</th>\n      <th>11145634</th>\n      <th>11145640</th>\n      <th>11145642</th>\n      <th>11145654</th>\n      <th>11145664</th>\n      <th>11145666</th>\n      <th>11145684</th>\n      <th>11145702</th>\n      <th>11145726</th>\n      <th>...</th>\n      <th>13773572</th>\n      <th>13773574</th>\n      <th>13773576</th>\n      <th>13773578</th>\n      <th>13773580</th>\n      <th>14101712</th>\n      <th>14104334</th>\n      <th>14110862</th>\n      <th>14110864</th>\n      <th>14110866</th>\n      <th>14110868</th>\n      <th>14121822</th>\n      <th>14121824</th>\n      <th>14121826</th>\n      <th>14121828</th>\n      <th>14121830</th>\n      <th>14121832</th>\n      <th>14121834</th>\n      <th>14121836</th>\n      <th>14121838</th>\n      <th>14121840</th>\n      <th>14121842</th>\n      <th>14121844</th>\n      <th>14121846</th>\n      <th>14121848</th>\n      <th>14122346</th>\n      <th>14122348</th>\n      <th>14122744</th>\n      <th>14122748</th>\n      <th>14122750</th>\n      <th>14122758</th>\n      <th>14122762</th>\n      <th>14122766</th>\n      <th>14122818</th>\n      <th>14122820</th>\n      <th>14122822</th>\n      <th>14122832</th>\n      <th>14122834</th>\n      <th>14128359</th>\n      <th>14129477</th>\n    </tr>\n  </thead>\n  <tbody>\n    <tr>\n      <th>2</th>\n      <td>0.773045</td>\n      <td>0.781728</td>\n      <td>0.867489</td>\n      <td>0.844236</td>\n      <td>0.733601</td>\n      <td>0.852248</td>\n      <td>0.747821</td>\n      <td>0.725141</td>\n      <td>0.703944</td>\n      <td>0.705724</td>\n      <td>0.724746</td>\n      <td>0.691491</td>\n      <td>0.694826</td>\n      <td>0.670169</td>\n      <td>0.727237</td>\n      <td>0.721792</td>\n      <td>0.677691</td>\n      <td>0.718812</td>\n      <td>0.728294</td>\n      <td>0.759165</td>\n      <td>0.781923</td>\n      <td>0.780848</td>\n      <td>0.767787</td>\n      <td>0.785269</td>\n      <td>0.823262</td>\n      <td>0.819253</td>\n      <td>0.817612</td>\n      <td>0.810761</td>\n      <td>0.816447</td>\n      <td>0.782337</td>\n      <td>0.806853</td>\n      <td>0.750268</td>\n      <td>0.828003</td>\n      <td>0.788172</td>\n      <td>0.799552</td>\n      <td>0.783797</td>\n      <td>0.820774</td>\n      <td>0.774044</td>\n      <td>0.818047</td>\n      <td>0.816226</td>\n      <td>...</td>\n      <td>0.762018</td>\n      <td>0.759481</td>\n      <td>0.801522</td>\n      <td>0.762784</td>\n      <td>0.769309</td>\n      <td>0.806028</td>\n      <td>0.639576</td>\n      <td>0.712430</td>\n      <td>0.730220</td>\n      <td>0.709571</td>\n      <td>0.705006</td>\n      <td>0.779572</td>\n      <td>0.771631</td>\n      <td>0.768990</td>\n      <td>0.781065</td>\n      <td>0.756900</td>\n      <td>0.786874</td>\n      <td>0.783049</td>\n      <td>0.765268</td>\n      <td>0.775359</td>\n      <td>0.783611</td>\n      <td>0.766466</td>\n      <td>0.763719</td>\n      <td>0.767017</td>\n      <td>0.764989</td>\n      <td>0.677971</td>\n      <td>0.672979</td>\n      <td>0.729602</td>\n      <td>0.800444</td>\n      <td>0.795369</td>\n      <td>0.789794</td>\n      <td>0.789662</td>\n      <td>0.792421</td>\n      <td>0.827565</td>\n      <td>0.796804</td>\n      <td>0.849889</td>\n      <td>0.793030</td>\n      <td>0.794027</td>\n      <td>0.679587</td>\n      <td>0.769251</td>\n    </tr>\n    <tr>\n      <th>28</th>\n      <td>0.843897</td>\n      <td>0.832445</td>\n      <td>0.886408</td>\n      <td>0.876519</td>\n      <td>0.796577</td>\n      <td>0.895249</td>\n      <td>0.780446</td>\n      <td>0.796414</td>\n      <td>0.777643</td>\n      <td>0.772864</td>\n      <td>0.792429</td>\n      <td>0.774705</td>\n      <td>0.755372</td>\n      <td>0.741166</td>\n      <td>0.794986</td>\n      <td>0.786380</td>\n      <td>0.751389</td>\n      <td>0.779550</td>\n      <td>0.796777</td>\n      <td>0.827386</td>\n      <td>0.863015</td>\n      <td>0.855293</td>\n      <td>0.865311</td>\n      <td>0.861628</td>\n      <td>0.848868</td>\n      <td>0.895194</td>\n      <td>0.887617</td>\n      <td>0.888540</td>\n      <td>0.858608</td>\n      <td>0.857974</td>\n      <td>0.902149</td>\n      <td>0.829023</td>\n      <td>0.872081</td>\n      <td>0.833902</td>\n      <td>0.879967</td>\n      <td>0.885470</td>\n      <td>0.895594</td>\n      <td>0.875695</td>\n      <td>0.861945</td>\n      <td>0.870821</td>\n      <td>...</td>\n      <td>0.848097</td>\n      <td>0.858368</td>\n      <td>0.872338</td>\n      <td>0.861244</td>\n      <td>0.859998</td>\n      <td>0.879770</td>\n      <td>0.704777</td>\n      <td>0.784958</td>\n      <td>0.788909</td>\n      <td>0.781705</td>\n      <td>0.779446</td>\n      <td>0.862362</td>\n      <td>0.863022</td>\n      <td>0.866939</td>\n      <td>0.879931</td>\n      <td>0.843933</td>\n      <td>0.877256</td>\n      <td>0.886303</td>\n      <td>0.865020</td>\n      <td>0.863616</td>\n      <td>0.856808</td>\n      <td>0.839695</td>\n      <td>0.853641</td>\n      <td>0.855745</td>\n      <td>0.836813</td>\n      <td>0.751481</td>\n      <td>0.759929</td>\n      <td>0.783985</td>\n      <td>0.863340</td>\n      <td>0.901059</td>\n      <td>0.881509</td>\n      <td>0.889600</td>\n      <td>0.884421</td>\n      <td>0.906885</td>\n      <td>0.892858</td>\n      <td>0.919505</td>\n      <td>0.919441</td>\n      <td>0.899009</td>\n      <td>0.780642</td>\n      <td>0.848202</td>\n    </tr>\n    <tr>\n      <th>36</th>\n      <td>0.854691</td>\n      <td>0.828970</td>\n      <td>0.899553</td>\n      <td>0.884751</td>\n      <td>0.825268</td>\n      <td>0.883165</td>\n      <td>0.823234</td>\n      <td>0.846922</td>\n      <td>0.826288</td>\n      <td>0.808240</td>\n      <td>0.823878</td>\n      <td>0.846187</td>\n      <td>0.786627</td>\n      <td>0.772248</td>\n      <td>0.832943</td>\n      <td>0.838415</td>\n      <td>0.793352</td>\n      <td>0.808078</td>\n      <td>0.831105</td>\n      <td>0.835853</td>\n      <td>0.863052</td>\n      <td>0.842702</td>\n      <td>0.889900</td>\n      <td>0.850989</td>\n      <td>0.891769</td>\n      <td>0.904390</td>\n      <td>0.877420</td>\n      <td>0.895180</td>\n      <td>0.888754</td>\n      <td>0.905833</td>\n      <td>0.893384</td>\n      <td>0.824407</td>\n      <td>0.888323</td>\n      <td>0.877570</td>\n      <td>0.904846</td>\n      <td>0.912249</td>\n      <td>0.915423</td>\n      <td>0.914892</td>\n      <td>0.886905</td>\n      <td>0.905968</td>\n      <td>...</td>\n      <td>0.910583</td>\n      <td>0.878151</td>\n      <td>0.890108</td>\n      <td>0.891584</td>\n      <td>0.893530</td>\n      <td>0.877472</td>\n      <td>0.734053</td>\n      <td>0.826704</td>\n      <td>0.823478</td>\n      <td>0.818754</td>\n      <td>0.805397</td>\n      <td>0.913993</td>\n      <td>0.890612</td>\n      <td>0.883388</td>\n      <td>0.912228</td>\n      <td>0.889310</td>\n      <td>0.904419</td>\n      <td>0.902243</td>\n      <td>0.899174</td>\n      <td>0.905870</td>\n      <td>0.899617</td>\n      <td>0.900441</td>\n      <td>0.888323</td>\n      <td>0.889718</td>\n      <td>0.894240</td>\n      <td>0.767059</td>\n      <td>0.786507</td>\n      <td>0.806232</td>\n      <td>0.885015</td>\n      <td>0.928658</td>\n      <td>0.912890</td>\n      <td>0.913139</td>\n      <td>0.918585</td>\n      <td>0.892483</td>\n      <td>0.870617</td>\n      <td>0.884570</td>\n      <td>0.912467</td>\n      <td>0.912618</td>\n      <td>0.796806</td>\n      <td>0.884355</td>\n    </tr>\n    <tr>\n      <th>38</th>\n      <td>0.877229</td>\n      <td>0.857486</td>\n      <td>0.918777</td>\n      <td>0.913497</td>\n      <td>0.836881</td>\n      <td>0.913650</td>\n      <td>0.831959</td>\n      <td>0.853514</td>\n      <td>0.839205</td>\n      <td>0.816615</td>\n      <td>0.834906</td>\n      <td>0.846325</td>\n      <td>0.799054</td>\n      <td>0.785552</td>\n      <td>0.842955</td>\n      <td>0.846832</td>\n      <td>0.804013</td>\n      <td>0.812522</td>\n      <td>0.839379</td>\n      <td>0.853632</td>\n      <td>0.874845</td>\n      <td>0.868188</td>\n      <td>0.899756</td>\n      <td>0.867663</td>\n      <td>0.891109</td>\n      <td>0.920758</td>\n      <td>0.892016</td>\n      <td>0.906194</td>\n      <td>0.893228</td>\n      <td>0.909356</td>\n      <td>0.906762</td>\n      <td>0.844586</td>\n      <td>0.914456</td>\n      <td>0.889547</td>\n      <td>0.906800</td>\n      <td>0.924314</td>\n      <td>0.928105</td>\n      <td>0.911469</td>\n      <td>0.908602</td>\n      <td>0.923866</td>\n      <td>...</td>\n      <td>0.899719</td>\n      <td>0.878484</td>\n      <td>0.896604</td>\n      <td>0.892162</td>\n      <td>0.889066</td>\n      <td>0.881969</td>\n      <td>0.743103</td>\n      <td>0.842069</td>\n      <td>0.846148</td>\n      <td>0.834715</td>\n      <td>0.826432</td>\n      <td>0.909435</td>\n      <td>0.892680</td>\n      <td>0.887481</td>\n      <td>0.909731</td>\n      <td>0.894256</td>\n      <td>0.908991</td>\n      <td>0.904501</td>\n      <td>0.897283</td>\n      <td>0.906538</td>\n      <td>0.905962</td>\n      <td>0.902172</td>\n      <td>0.901518</td>\n      <td>0.887561</td>\n      <td>0.894415</td>\n      <td>0.769542</td>\n      <td>0.788810</td>\n      <td>0.810550</td>\n      <td>0.883671</td>\n      <td>0.932489</td>\n      <td>0.913019</td>\n      <td>0.915446</td>\n      <td>0.920857</td>\n      <td>0.907243</td>\n      <td>0.870233</td>\n      <td>0.915209</td>\n      <td>0.909347</td>\n      <td>0.917764</td>\n      <td>0.794917</td>\n      <td>0.886163</td>\n    </tr>\n    <tr>\n      <th>41</th>\n      <td>0.830266</td>\n      <td>0.808754</td>\n      <td>0.900972</td>\n      <td>0.898813</td>\n      <td>0.807747</td>\n      <td>0.868522</td>\n      <td>0.814633</td>\n      <td>0.838072</td>\n      <td>0.819518</td>\n      <td>0.783981</td>\n      <td>0.812453</td>\n      <td>0.832582</td>\n      <td>0.769706</td>\n      <td>0.774487</td>\n      <td>0.830074</td>\n      <td>0.842534</td>\n      <td>0.772166</td>\n      <td>0.783473</td>\n      <td>0.815401</td>\n      <td>0.809269</td>\n      <td>0.863983</td>\n      <td>0.824931</td>\n      <td>0.872322</td>\n      <td>0.827893</td>\n      <td>0.890051</td>\n      <td>0.897123</td>\n      <td>0.848941</td>\n      <td>0.868636</td>\n      <td>0.860495</td>\n      <td>0.884093</td>\n      <td>0.856982</td>\n      <td>0.804808</td>\n      <td>0.894638</td>\n      <td>0.870510</td>\n      <td>0.875609</td>\n      <td>0.881292</td>\n      <td>0.900688</td>\n      <td>0.890656</td>\n      <td>0.910002</td>\n      <td>0.905530</td>\n      <td>...</td>\n      <td>0.878791</td>\n      <td>0.829720</td>\n      <td>0.850019</td>\n      <td>0.858712</td>\n      <td>0.860731</td>\n      <td>0.836044</td>\n      <td>0.688555</td>\n      <td>0.819591</td>\n      <td>0.829975</td>\n      <td>0.815715</td>\n      <td>0.787811</td>\n      <td>0.883561</td>\n      <td>0.879081</td>\n      <td>0.867240</td>\n      <td>0.882985</td>\n      <td>0.881726</td>\n      <td>0.883062</td>\n      <td>0.883031</td>\n      <td>0.870855</td>\n      <td>0.888919</td>\n      <td>0.887419</td>\n      <td>0.884486</td>\n      <td>0.880812</td>\n      <td>0.856772</td>\n      <td>0.885619</td>\n      <td>0.713246</td>\n      <td>0.742010</td>\n      <td>0.779043</td>\n      <td>0.837050</td>\n      <td>0.907789</td>\n      <td>0.895194</td>\n      <td>0.898230</td>\n      <td>0.900051</td>\n      <td>0.858757</td>\n      <td>0.818601</td>\n      <td>0.842505</td>\n      <td>0.846523</td>\n      <td>0.901310</td>\n      <td>0.732272</td>\n      <td>0.865191</td>\n    </tr>\n  </tbody>\n</table>\n</div>"
          },
          "metadata": {}
        }
      ]
    },
    {
      "metadata": {
        "_uuid": "d98b17499706ba7cab36966c8ede5f40575bd62a"
      },
      "cell_type": "markdown",
      "source": "### Get top 10 predictions"
    },
    {
      "metadata": {
        "_uuid": "32e70d8f9b5b68fb42f54d2566f4a8fd0835d4d4"
      },
      "cell_type": "markdown",
      "source": "get prediction from item_prediction_df"
    },
    {
      "metadata": {
        "trusted": true,
        "_uuid": "aae76aefa7b5939a4f2a765e74da004fce3cd301"
      },
      "cell_type": "code",
      "source": "item_pred_sub = pd.DataFrame(columns=['UserId', 'product_list'])\nitem_pred_sub['UserId'] = test_df['UserId'].values",
      "execution_count": 54,
      "outputs": []
    },
    {
      "metadata": {
        "trusted": true,
        "_uuid": "57075c4544ffe93a8a6baae8fc6ca9da32a182bf"
      },
      "cell_type": "code",
      "source": "sub_list = []\nfor user in item_pred_sub['UserId'].values:\n    sub_list.append(item_prediction_df.loc[user].sort_values(ascending=False)[0:10].index.values.tolist())",
      "execution_count": 75,
      "outputs": []
    },
    {
      "metadata": {
        "trusted": true,
        "_uuid": "904734790c9876aa6f57f1d2345ec8dff84d8174"
      },
      "cell_type": "code",
      "source": "item_pred_sub['product_list'] = sub_list",
      "execution_count": 77,
      "outputs": []
    },
    {
      "metadata": {
        "trusted": true,
        "_uuid": "32a1ef5dc207b1fe5e846d7a248ba4e12eb4d2a8"
      },
      "cell_type": "code",
      "source": "item_pred_sub.head()",
      "execution_count": 80,
      "outputs": [
        {
          "output_type": "execute_result",
          "execution_count": 80,
          "data": {
            "text/plain": "   UserId                                       product_list\n0       2  [11659418, 12936758, 11407244, 12995900, 12406...\n1      28  [13650254, 13039772, 12407206, 11659818, 12437...\n2      36  [13650238, 11360718, 12936666, 11150104, 11714...\n3      38  [11659790, 11659724, 12423464, 11147300, 11407...\n4      41  [11360904, 13650186, 11659466, 12995900, 11659...",
            "text/html": "<div>\n<style scoped>\n    .dataframe tbody tr th:only-of-type {\n        vertical-align: middle;\n    }\n\n    .dataframe tbody tr th {\n        vertical-align: top;\n    }\n\n    .dataframe thead th {\n        text-align: right;\n    }\n</style>\n<table border=\"1\" class=\"dataframe\">\n  <thead>\n    <tr style=\"text-align: right;\">\n      <th></th>\n      <th>UserId</th>\n      <th>product_list</th>\n    </tr>\n  </thead>\n  <tbody>\n    <tr>\n      <th>0</th>\n      <td>2</td>\n      <td>[11659418, 12936758, 11407244, 12995900, 12406...</td>\n    </tr>\n    <tr>\n      <th>1</th>\n      <td>28</td>\n      <td>[13650254, 13039772, 12407206, 11659818, 12437...</td>\n    </tr>\n    <tr>\n      <th>2</th>\n      <td>36</td>\n      <td>[13650238, 11360718, 12936666, 11150104, 11714...</td>\n    </tr>\n    <tr>\n      <th>3</th>\n      <td>38</td>\n      <td>[11659790, 11659724, 12423464, 11147300, 11407...</td>\n    </tr>\n    <tr>\n      <th>4</th>\n      <td>41</td>\n      <td>[11360904, 13650186, 11659466, 12995900, 11659...</td>\n    </tr>\n  </tbody>\n</table>\n</div>"
          },
          "metadata": {}
        }
      ]
    },
    {
      "metadata": {
        "trusted": true,
        "_uuid": "2d233dec9d681bade120b3190d067b87c08206a4"
      },
      "cell_type": "code",
      "source": "item_pred_sub.to_csv('item_pred_sub.csv', index=False)",
      "execution_count": 81,
      "outputs": []
    },
    {
      "metadata": {
        "trusted": true,
        "_uuid": "68eb46b9b21209ae746a73c4f764690ae3fd9c25"
      },
      "cell_type": "code",
      "source": "FileLink('item_pred_sub.csv')",
      "execution_count": 83,
      "outputs": [
        {
          "output_type": "execute_result",
          "execution_count": 83,
          "data": {
            "text/plain": "/kaggle/working/item_pred_sub.csv",
            "text/html": "<a href='item_pred_sub.csv' target='_blank'>item_pred_sub.csv</a><br>"
          },
          "metadata": {}
        }
      ]
    },
    {
      "metadata": {
        "_uuid": "19fddcfc66b5d24a7fafb25a58534732ee968cfa"
      },
      "cell_type": "markdown",
      "source": "0.0045755938 Public LB score"
    },
    {
      "metadata": {
        "_uuid": "5217c845b23f5e9754794b2169858ed5b393694d"
      },
      "cell_type": "markdown",
      "source": "get prediction from user_prediction_df"
    },
    {
      "metadata": {
        "trusted": true,
        "_uuid": "d9e27e501f76255fd6c69b13bcb6b9249da5def8"
      },
      "cell_type": "code",
      "source": "user_pred_sub = pd.DataFrame(columns=['UserId', 'product_list'])\nuser_pred_sub['UserId'] = test_df['UserId'].values",
      "execution_count": 84,
      "outputs": []
    },
    {
      "metadata": {
        "trusted": true,
        "_uuid": "a2173c58f3662f823dc12f394a9bac6b23351b6c"
      },
      "cell_type": "code",
      "source": "sub_list = []\nfor user in user_pred_sub['UserId'].values:\n    sub_list.append(user_prediction_df.loc[user].sort_values(ascending=False)[0:10].index.values.tolist())",
      "execution_count": 85,
      "outputs": []
    },
    {
      "metadata": {
        "trusted": true,
        "_uuid": "91bd76bd404642da511afeccf848d54e9f79b653"
      },
      "cell_type": "code",
      "source": "user_pred_sub['product_list'] = sub_list\nuser_pred_sub.head()",
      "execution_count": 86,
      "outputs": [
        {
          "output_type": "execute_result",
          "execution_count": 86,
          "data": {
            "text/plain": "   UserId                                       product_list\n0       2  [11660064, 12407154, 12658512, 12371280, 12973...\n1      28  [12360404, 11659838, 12658512, 13039778, 12407...\n2      36  [12360448, 12407648, 12658512, 11460916, 12407...\n3      38  [12406972, 11659712, 11659798, 12658512, 12407...\n4      41  [11659236, 12658512, 12407154, 12973004, 12371...",
            "text/html": "<div>\n<style scoped>\n    .dataframe tbody tr th:only-of-type {\n        vertical-align: middle;\n    }\n\n    .dataframe tbody tr th {\n        vertical-align: top;\n    }\n\n    .dataframe thead th {\n        text-align: right;\n    }\n</style>\n<table border=\"1\" class=\"dataframe\">\n  <thead>\n    <tr style=\"text-align: right;\">\n      <th></th>\n      <th>UserId</th>\n      <th>product_list</th>\n    </tr>\n  </thead>\n  <tbody>\n    <tr>\n      <th>0</th>\n      <td>2</td>\n      <td>[11660064, 12407154, 12658512, 12371280, 12973...</td>\n    </tr>\n    <tr>\n      <th>1</th>\n      <td>28</td>\n      <td>[12360404, 11659838, 12658512, 13039778, 12407...</td>\n    </tr>\n    <tr>\n      <th>2</th>\n      <td>36</td>\n      <td>[12360448, 12407648, 12658512, 11460916, 12407...</td>\n    </tr>\n    <tr>\n      <th>3</th>\n      <td>38</td>\n      <td>[12406972, 11659712, 11659798, 12658512, 12407...</td>\n    </tr>\n    <tr>\n      <th>4</th>\n      <td>41</td>\n      <td>[11659236, 12658512, 12407154, 12973004, 12371...</td>\n    </tr>\n  </tbody>\n</table>\n</div>"
          },
          "metadata": {}
        }
      ]
    },
    {
      "metadata": {
        "trusted": true,
        "_uuid": "4699b0cdc3e84af31f9cddfe9d111c27036e2a47"
      },
      "cell_type": "code",
      "source": "user_pred_sub.to_csv('user_pred_sub.csv', index=False)\nFileLink('user_pred_sub.csv')",
      "execution_count": 87,
      "outputs": [
        {
          "output_type": "execute_result",
          "execution_count": 87,
          "data": {
            "text/plain": "/kaggle/working/user_pred_sub.csv",
            "text/html": "<a href='user_pred_sub.csv' target='_blank'>user_pred_sub.csv</a><br>"
          },
          "metadata": {}
        }
      ]
    },
    {
      "metadata": {
        "_uuid": "ed821551ecda0491243dff2973b1f889b56c926c"
      },
      "cell_type": "markdown",
      "source": "0.0232522796 public LB score"
    },
    {
      "metadata": {
        "_uuid": "d77d9ccfe1a79f9d831ca6340d05725862459aaa"
      },
      "cell_type": "markdown",
      "source": "get prediction from user_prof_prods_similarity_df"
    },
    {
      "metadata": {
        "trusted": true,
        "_uuid": "6af682bffd209366e837e66464836a664d512e57"
      },
      "cell_type": "code",
      "source": "content_pred_sub = pd.DataFrame(columns=['UserId', 'product_list'])\ncontent_pred_sub['UserId'] = test_df['UserId'].values",
      "execution_count": 88,
      "outputs": []
    },
    {
      "metadata": {
        "trusted": true,
        "_uuid": "989f6f39fefb8654f0c7e3fb830140d6c7ea4739"
      },
      "cell_type": "code",
      "source": "sub_list = []\nfor user in content_pred_sub['UserId'].values:\n    sub_list.append(user_prof_prods_similarity_df.loc[user].sort_values(ascending=False)[0:10].index.values.tolist())",
      "execution_count": 89,
      "outputs": []
    },
    {
      "metadata": {
        "trusted": true,
        "_uuid": "381c56bf04e672a6c6433d1b10657eab71595791"
      },
      "cell_type": "code",
      "source": "content_pred_sub['product_list'] = sub_list\ncontent_pred_sub.head()",
      "execution_count": 90,
      "outputs": [
        {
          "output_type": "execute_result",
          "execution_count": 90,
          "data": {
            "text/plain": "   UserId                                       product_list\n0       2  [11660064, 13653526, 12407202, 11407206, 12657...\n1      28  [12407652, 11659838, 11659818, 12360402, 13039...\n2      36  [12407648, 12360448, 11407416, 11460916, 11360...\n3      38  [11659798, 11659238, 12658406, 11659832, 12371...\n4      41  [11659236, 11659238, 11659232, 12407916, 12407...",
            "text/html": "<div>\n<style scoped>\n    .dataframe tbody tr th:only-of-type {\n        vertical-align: middle;\n    }\n\n    .dataframe tbody tr th {\n        vertical-align: top;\n    }\n\n    .dataframe thead th {\n        text-align: right;\n    }\n</style>\n<table border=\"1\" class=\"dataframe\">\n  <thead>\n    <tr style=\"text-align: right;\">\n      <th></th>\n      <th>UserId</th>\n      <th>product_list</th>\n    </tr>\n  </thead>\n  <tbody>\n    <tr>\n      <th>0</th>\n      <td>2</td>\n      <td>[11660064, 13653526, 12407202, 11407206, 12657...</td>\n    </tr>\n    <tr>\n      <th>1</th>\n      <td>28</td>\n      <td>[12407652, 11659838, 11659818, 12360402, 13039...</td>\n    </tr>\n    <tr>\n      <th>2</th>\n      <td>36</td>\n      <td>[12407648, 12360448, 11407416, 11460916, 11360...</td>\n    </tr>\n    <tr>\n      <th>3</th>\n      <td>38</td>\n      <td>[11659798, 11659238, 12658406, 11659832, 12371...</td>\n    </tr>\n    <tr>\n      <th>4</th>\n      <td>41</td>\n      <td>[11659236, 11659238, 11659232, 12407916, 12407...</td>\n    </tr>\n  </tbody>\n</table>\n</div>"
          },
          "metadata": {}
        }
      ]
    },
    {
      "metadata": {
        "trusted": true,
        "_uuid": "e07a0d6538655e8dd64bac4dda6bf2e20cbcd7a0"
      },
      "cell_type": "code",
      "source": "content_pred_sub.to_csv('content_pred_sub.csv', index=False)\nFileLink('content_pred_sub.csv')",
      "execution_count": 91,
      "outputs": [
        {
          "output_type": "execute_result",
          "execution_count": 91,
          "data": {
            "text/plain": "/kaggle/working/content_pred_sub.csv",
            "text/html": "<a href='content_pred_sub.csv' target='_blank'>content_pred_sub.csv</a><br>"
          },
          "metadata": {}
        }
      ]
    },
    {
      "metadata": {
        "_uuid": "d7402f2834432dd531eae40d917b917b58903c39"
      },
      "cell_type": "markdown",
      "source": "#### 0.0289288529 public LB score | Final model"
    },
    {
      "metadata": {
        "_uuid": "000c7f23763aca33eae5bc9fa7575d4577b20367"
      },
      "cell_type": "markdown",
      "source": "get predictions of average score of content based and user user similarity based collaborative filtering."
    },
    {
      "metadata": {
        "trusted": true,
        "_uuid": "495cb9ff9160c719ac1c453b4aac6e4771cf15c4"
      },
      "cell_type": "code",
      "source": "avg_pred_df = user_prediction_df.loc[sorted(test_df['UserId'].values)] + user_prof_prods_similarity_df",
      "execution_count": 96,
      "outputs": []
    },
    {
      "metadata": {
        "trusted": true,
        "_uuid": "c0bb4ca686a8e61fc3d9e6e708c8d7180e9446c0"
      },
      "cell_type": "code",
      "source": "avg_cont_user_pred_sub = pd.DataFrame(columns=['UserId', 'product_list'])\navg_cont_user_pred_sub['UserId'] = test_df['UserId'].values\n\nsub_list = []\nfor user in avg_cont_user_pred_sub['UserId'].values:\n    sub_list.append(avg_pred_df.loc[user].sort_values(ascending=False)[0:10].index.values.tolist())\n\navg_cont_user_pred_sub['product_list'] = sub_list\navg_cont_user_pred_sub.head()",
      "execution_count": 97,
      "outputs": [
        {
          "output_type": "execute_result",
          "execution_count": 97,
          "data": {
            "text/plain": "   UserId                                       product_list\n0       2  [11660064, 12371280, 12407202, 12407154, 13653...\n1      28  [12360404, 11659838, 12658512, 13039778, 12407...\n2      36  [12360448, 12407648, 11460916, 12658512, 12407...\n3      38  [12406972, 11659712, 11659798, 12658512, 12407...\n4      41  [11659236, 12658512, 12407154, 12657360, 12407...",
            "text/html": "<div>\n<style scoped>\n    .dataframe tbody tr th:only-of-type {\n        vertical-align: middle;\n    }\n\n    .dataframe tbody tr th {\n        vertical-align: top;\n    }\n\n    .dataframe thead th {\n        text-align: right;\n    }\n</style>\n<table border=\"1\" class=\"dataframe\">\n  <thead>\n    <tr style=\"text-align: right;\">\n      <th></th>\n      <th>UserId</th>\n      <th>product_list</th>\n    </tr>\n  </thead>\n  <tbody>\n    <tr>\n      <th>0</th>\n      <td>2</td>\n      <td>[11660064, 12371280, 12407202, 12407154, 13653...</td>\n    </tr>\n    <tr>\n      <th>1</th>\n      <td>28</td>\n      <td>[12360404, 11659838, 12658512, 13039778, 12407...</td>\n    </tr>\n    <tr>\n      <th>2</th>\n      <td>36</td>\n      <td>[12360448, 12407648, 11460916, 12658512, 12407...</td>\n    </tr>\n    <tr>\n      <th>3</th>\n      <td>38</td>\n      <td>[12406972, 11659712, 11659798, 12658512, 12407...</td>\n    </tr>\n    <tr>\n      <th>4</th>\n      <td>41</td>\n      <td>[11659236, 12658512, 12407154, 12657360, 12407...</td>\n    </tr>\n  </tbody>\n</table>\n</div>"
          },
          "metadata": {}
        }
      ]
    },
    {
      "metadata": {
        "trusted": true,
        "_uuid": "60ee081b6d7545eb53fc4a4c4a5dfeae79744599"
      },
      "cell_type": "code",
      "source": "avg_cont_user_pred_sub.to_csv('avg_content_user_pred_sub.csv', index=False)\nFileLink('avg_content_user_pred_sub.csv')",
      "execution_count": 98,
      "outputs": [
        {
          "output_type": "execute_result",
          "execution_count": 98,
          "data": {
            "text/plain": "/kaggle/working/avg_content_user_pred_sub.csv",
            "text/html": "<a href='avg_content_user_pred_sub.csv' target='_blank'>avg_content_user_pred_sub.csv</a><br>"
          },
          "metadata": {}
        }
      ]
    },
    {
      "metadata": {
        "_uuid": "7ad6b055503e040797a560c6a380b98b65e6682a"
      },
      "cell_type": "markdown",
      "source": "0.024782055611842845. public LB"
    },
    {
      "metadata": {
        "_uuid": "0af2aea850ec466954578f73eaf147bedf88caee"
      },
      "cell_type": "markdown",
      "source": "weighted avg of content and user-user similarity based collaborative filtering"
    },
    {
      "metadata": {
        "trusted": true,
        "_uuid": "a693cf1467aa131555b93a986d46fd042ea7d6bc"
      },
      "cell_type": "code",
      "source": "avg_pred_df = (user_prediction_df.loc[sorted(test_df['UserId'].values)] * 0.1) + (user_prof_prods_similarity_df * 0.9)",
      "execution_count": 105,
      "outputs": []
    },
    {
      "metadata": {
        "trusted": true,
        "_uuid": "4aaa4c595592b1ef37b1019d08747f9e5a0610fa"
      },
      "cell_type": "code",
      "source": "we1_cont_user_pred_sub = pd.DataFrame(columns=['UserId', 'product_list'])\nwe1_cont_user_pred_sub['UserId'] = test_df['UserId'].values\n\nsub_list = []\nfor user in we1_cont_user_pred_sub['UserId'].values:\n    sub_list.append(avg_pred_df.loc[user].sort_values(ascending=False)[0:10].index.values.tolist())\n\nwe1_cont_user_pred_sub['product_list'] = sub_list\nwe1_cont_user_pred_sub.head()",
      "execution_count": 106,
      "outputs": [
        {
          "output_type": "execute_result",
          "execution_count": 106,
          "data": {
            "text/plain": "   UserId                                       product_list\n0       2  [11660064, 13653526, 12407202, 12371280, 11407...\n1      28  [11659838, 12360404, 12407652, 13039778, 11659...\n2      36  [12360448, 12407648, 11460916, 12407730, 11407...\n3      38  [12406972, 11659798, 11659712, 12658406, 11659...\n4      41  [11659236, 11659238, 11659232, 12407916, 12407...",
            "text/html": "<div>\n<style scoped>\n    .dataframe tbody tr th:only-of-type {\n        vertical-align: middle;\n    }\n\n    .dataframe tbody tr th {\n        vertical-align: top;\n    }\n\n    .dataframe thead th {\n        text-align: right;\n    }\n</style>\n<table border=\"1\" class=\"dataframe\">\n  <thead>\n    <tr style=\"text-align: right;\">\n      <th></th>\n      <th>UserId</th>\n      <th>product_list</th>\n    </tr>\n  </thead>\n  <tbody>\n    <tr>\n      <th>0</th>\n      <td>2</td>\n      <td>[11660064, 13653526, 12407202, 12371280, 11407...</td>\n    </tr>\n    <tr>\n      <th>1</th>\n      <td>28</td>\n      <td>[11659838, 12360404, 12407652, 13039778, 11659...</td>\n    </tr>\n    <tr>\n      <th>2</th>\n      <td>36</td>\n      <td>[12360448, 12407648, 11460916, 12407730, 11407...</td>\n    </tr>\n    <tr>\n      <th>3</th>\n      <td>38</td>\n      <td>[12406972, 11659798, 11659712, 12658406, 11659...</td>\n    </tr>\n    <tr>\n      <th>4</th>\n      <td>41</td>\n      <td>[11659236, 11659238, 11659232, 12407916, 12407...</td>\n    </tr>\n  </tbody>\n</table>\n</div>"
          },
          "metadata": {}
        }
      ]
    },
    {
      "metadata": {
        "trusted": true,
        "_uuid": "75b13008dcd9e7af31585ab6b2d105938a498e9d"
      },
      "cell_type": "code",
      "source": "we1_cont_user_pred_sub.to_csv('we1_content_user_pred_sub.csv', index=False)\nFileLink('we1_content_user_pred_sub.csv')",
      "execution_count": 107,
      "outputs": [
        {
          "output_type": "execute_result",
          "execution_count": 107,
          "data": {
            "text/plain": "/kaggle/working/we1_content_user_pred_sub.csv",
            "text/html": "<a href='we1_content_user_pred_sub.csv' target='_blank'>we1_content_user_pred_sub.csv</a><br>"
          },
          "metadata": {}
        }
      ]
    },
    {
      "metadata": {
        "_uuid": "d2b3b695306935f0ea25cc97748c0dbdeee8963c"
      },
      "cell_type": "markdown",
      "source": "0.0274791799567213 public LB\n\nIt looks like content based filtering is giving high score"
    },
    {
      "metadata": {
        "trusted": true,
        "_uuid": "15582504aacefc2c1b544da7f0e5e99c81dcfbfd"
      },
      "cell_type": "code",
      "source": "del data_matrix_df, user_similarity_df, product_similarity_df, user_prof_df\ngc.collect()",
      "execution_count": 110,
      "outputs": [
        {
          "output_type": "execute_result",
          "execution_count": 110,
          "data": {
            "text/plain": "983"
          },
          "metadata": {}
        }
      ]
    },
    {
      "metadata": {
        "_uuid": "c7618e0b7f1fee365f3484ff1b23bf03da59da17"
      },
      "cell_type": "markdown",
      "source": "### Alternating Least Squares Collaborative filtering"
    },
    {
      "metadata": {
        "trusted": true,
        "_uuid": "d46f4e6bd1f4257503c7f211abbab2aaee652d5b"
      },
      "cell_type": "code",
      "source": "import scipy.sparse as sparse\nimport implicit\nimport csv",
      "execution_count": 113,
      "outputs": []
    },
    {
      "metadata": {
        "trusted": true,
        "_uuid": "1295ebe2d769a2ef51a082d119d451e5361ab50e"
      },
      "cell_type": "code",
      "source": "train_df = train_df.copy()\n\nsparse_item_user = sparse.csr_matrix((train_df['Quantity'].astype(float), (train_df['productid'], train_df['UserId'])))\nsparse_user_item = sparse.csr_matrix((train_df['Quantity'].astype(float), (train_df['UserId'], train_df['productid'])))\n\n# Initialize the als model and fit it using the sparse item-user matrix\nmodel = implicit.als.AlternatingLeastSquares(factors=70, regularization=0.6, iterations=20)\n\n# Calculate the confidence by multiplying it by alpha value.\nalpha_val = 10\ndata_conf = (sparse_item_user * alpha_val).astype('double')\n\n# Fit the model\nmodel.fit(data_conf)",
      "execution_count": 112,
      "outputs": [
        {
          "output_type": "stream",
          "text": "WARNING:root:OpenBLAS detected. Its highly recommend to set the environment variable 'export OPENBLAS_NUM_THREADS=1' to disable its internal multithreading\n100%|██████████| 20.0/20 [01:38<00:00,  4.16s/it]\n",
          "name": "stderr"
        }
      ]
    },
    {
      "metadata": {
        "trusted": true,
        "_uuid": "04709c2d580471cb24e65b19e119019b23baf44f"
      },
      "cell_type": "code",
      "source": "# Create recommendations for all users\nfields=['UserId','product_list']\nfilename = 'submission_als.csv'\nwith open(filename,'a') as f:\n    writer = csv.writer(f)\n    writer.writerow(fields)\n    userids = test_df['UserId'].drop_duplicates().values.tolist()\n    for user in userids:\n        products = []\n        scores = []\n        results = []\n        results.append(user)\n        recommended = model.recommend(user, sparse_user_item)\n\n        for item in recommended:\n            idx, score = item\n            products.append(idx)\n            scores.append(score)\n        results.append(products)\n        #print products\n        #print scores\n        writer.writerow(results)",
      "execution_count": 114,
      "outputs": []
    },
    {
      "metadata": {
        "trusted": true,
        "_uuid": "f21d3ec1b45c8c3b2d736c904fe697ee498f0e2e"
      },
      "cell_type": "code",
      "source": "os.listdir()",
      "execution_count": 115,
      "outputs": [
        {
          "output_type": "execute_result",
          "execution_count": 115,
          "data": {
            "text/plain": "['submission_als.csv',\n '.ipynb_checkpoints',\n 'we1_content_user_pred_sub.csv',\n 'item_pred_sub.csv',\n 'content_pred_sub.csv',\n 'user_pred_sub.csv',\n 'avg_content_user_pred_sub.csv',\n '__notebook_source__.ipynb']"
          },
          "metadata": {}
        }
      ]
    },
    {
      "metadata": {
        "trusted": true,
        "_uuid": "6e2ae2c557edc555aa452cd9db7fdf13ba9d6df1"
      },
      "cell_type": "code",
      "source": "pd.read_csv('submission_als.csv').head()",
      "execution_count": 117,
      "outputs": [
        {
          "output_type": "execute_result",
          "execution_count": 117,
          "data": {
            "text/plain": "   UserId                                       product_list\n0       2  [11360778, 12407154, 11659236, 12658406, 11407...\n1      28  [11659836, 11659538, 11660064, 12407726, 12360...\n2      36  [12658482, 12407006, 12360452, 11659632, 12407...\n3      38  [12360390, 12407734, 12322666, 12658230, 11659...\n4      41  [12657360, 12407010, 12407436, 11659998, 11659...",
            "text/html": "<div>\n<style scoped>\n    .dataframe tbody tr th:only-of-type {\n        vertical-align: middle;\n    }\n\n    .dataframe tbody tr th {\n        vertical-align: top;\n    }\n\n    .dataframe thead th {\n        text-align: right;\n    }\n</style>\n<table border=\"1\" class=\"dataframe\">\n  <thead>\n    <tr style=\"text-align: right;\">\n      <th></th>\n      <th>UserId</th>\n      <th>product_list</th>\n    </tr>\n  </thead>\n  <tbody>\n    <tr>\n      <th>0</th>\n      <td>2</td>\n      <td>[11360778, 12407154, 11659236, 12658406, 11407...</td>\n    </tr>\n    <tr>\n      <th>1</th>\n      <td>28</td>\n      <td>[11659836, 11659538, 11660064, 12407726, 12360...</td>\n    </tr>\n    <tr>\n      <th>2</th>\n      <td>36</td>\n      <td>[12658482, 12407006, 12360452, 11659632, 12407...</td>\n    </tr>\n    <tr>\n      <th>3</th>\n      <td>38</td>\n      <td>[12360390, 12407734, 12322666, 12658230, 11659...</td>\n    </tr>\n    <tr>\n      <th>4</th>\n      <td>41</td>\n      <td>[12657360, 12407010, 12407436, 11659998, 11659...</td>\n    </tr>\n  </tbody>\n</table>\n</div>"
          },
          "metadata": {}
        }
      ]
    },
    {
      "metadata": {
        "trusted": true,
        "_uuid": "def80ac3a39eeb4fdcf920533385021dbffbe143"
      },
      "cell_type": "code",
      "source": "FileLink('submission_als.csv')",
      "execution_count": 118,
      "outputs": [
        {
          "output_type": "execute_result",
          "execution_count": 118,
          "data": {
            "text/plain": "/kaggle/working/submission_als.csv",
            "text/html": "<a href='submission_als.csv' target='_blank'>submission_als.csv</a><br>"
          },
          "metadata": {}
        }
      ]
    },
    {
      "metadata": {
        "_uuid": "d35e6e2f313b950d1ac5c1da3371873409393b3e"
      },
      "cell_type": "markdown",
      "source": "0.01 public LB"
    },
    {
      "metadata": {
        "trusted": true,
        "_uuid": "8ccd377543a624e0d0d0d3db4306eefce3079a5b"
      },
      "cell_type": "code",
      "source": "",
      "execution_count": null,
      "outputs": []
    }
  ],
  "metadata": {
    "kernelspec": {
      "display_name": "Python 3",
      "language": "python",
      "name": "python3"
    },
    "language_info": {
      "name": "python",
      "version": "3.6.6",
      "mimetype": "text/x-python",
      "codemirror_mode": {
        "name": "ipython",
        "version": 3
      },
      "pygments_lexer": "ipython3",
      "nbconvert_exporter": "python",
      "file_extension": ".py"
    }
  },
  "nbformat": 4,
  "nbformat_minor": 1
}